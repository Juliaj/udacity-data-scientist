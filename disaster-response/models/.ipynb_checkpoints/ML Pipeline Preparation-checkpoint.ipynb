{
 "cells": [
  {
   "cell_type": "markdown",
   "metadata": {},
   "source": [
    "# ML Pipeline Preparation\n",
    "Follow the instructions below to help you create your ML pipeline.\n",
    "### 1. Import libraries and load data from database.\n",
    "- Import Python libraries\n",
    "- Load dataset from database with [`read_sql_table`](https://pandas.pydata.org/pandas-docs/stable/generated/pandas.read_sql_table.html)\n",
    "- Define feature and target variables X and Y"
   ]
  },
  {
   "cell_type": "code",
   "execution_count": 1,
   "metadata": {},
   "outputs": [],
   "source": [
    "%load_ext autoreload\n",
    "%autoreload 2"
   ]
  },
  {
   "cell_type": "code",
   "execution_count": 2,
   "metadata": {},
   "outputs": [
    {
     "name": "stderr",
     "output_type": "stream",
     "text": [
      "[nltk_data] Downloading package punkt to /Users/juliajia/nltk_data...\n",
      "[nltk_data]   Package punkt is already up-to-date!\n",
      "[nltk_data] Downloading package wordnet to\n",
      "[nltk_data]     /Users/juliajia/nltk_data...\n",
      "[nltk_data]   Package wordnet is already up-to-date!\n",
      "[nltk_data] Downloading package averaged_perceptron_tagger to\n",
      "[nltk_data]     /Users/juliajia/nltk_data...\n",
      "[nltk_data]   Package averaged_perceptron_tagger is already up-to-\n",
      "[nltk_data]       date!\n"
     ]
    }
   ],
   "source": [
    "from typing import Any\n",
    "import pandas as pd\n",
    "import sys\n",
    "from typing import Tuple\n",
    "\n",
    "from joblib import dump\n",
    "\n",
    "from sklearn.metrics import classification_report\n",
    "from sklearn.model_selection import train_test_split\n",
    "from sklearn.neighbors import KNeighborsClassifier\n",
    "from sklearn.feature_extraction.text import CountVectorizer, TfidfTransformer\n",
    "from sklearn.model_selection import GridSearchCV\n",
    "from sklearn.multioutput import MultiOutputClassifier\n",
    "from sklearn.pipeline import FeatureUnion\n",
    "from sklearn.pipeline import Pipeline\n",
    "\n",
    "from sqlalchemy import create_engine\n",
    "\n",
    "from nltk.tokenize import word_tokenize\n",
    "from nltk.stem import WordNetLemmatizer\n",
    "\n",
    "from custom_transformer import StartingVerbExtractor"
   ]
  },
  {
   "cell_type": "code",
   "execution_count": 3,
   "metadata": {},
   "outputs": [],
   "source": [
    "# load data from database\n",
    "engine = create_engine('sqlite:///../data/disaster-response.db')"
   ]
  },
  {
   "cell_type": "code",
   "execution_count": 4,
   "metadata": {
    "scrolled": false
   },
   "outputs": [
    {
     "data": {
      "text/html": [
       "<div>\n",
       "<style scoped>\n",
       "    .dataframe tbody tr th:only-of-type {\n",
       "        vertical-align: middle;\n",
       "    }\n",
       "\n",
       "    .dataframe tbody tr th {\n",
       "        vertical-align: top;\n",
       "    }\n",
       "\n",
       "    .dataframe thead th {\n",
       "        text-align: right;\n",
       "    }\n",
       "</style>\n",
       "<table border=\"1\" class=\"dataframe\">\n",
       "  <thead>\n",
       "    <tr style=\"text-align: right;\">\n",
       "      <th></th>\n",
       "      <th>id</th>\n",
       "      <th>message</th>\n",
       "      <th>original</th>\n",
       "      <th>genre</th>\n",
       "      <th>related</th>\n",
       "      <th>request</th>\n",
       "      <th>offer</th>\n",
       "      <th>aid_related</th>\n",
       "      <th>medical_help</th>\n",
       "      <th>medical_products</th>\n",
       "      <th>...</th>\n",
       "      <th>aid_centers</th>\n",
       "      <th>other_infrastructure</th>\n",
       "      <th>weather_related</th>\n",
       "      <th>floods</th>\n",
       "      <th>storm</th>\n",
       "      <th>fire</th>\n",
       "      <th>earthquake</th>\n",
       "      <th>cold</th>\n",
       "      <th>other_weather</th>\n",
       "      <th>direct_report</th>\n",
       "    </tr>\n",
       "  </thead>\n",
       "  <tbody>\n",
       "    <tr>\n",
       "      <th>0</th>\n",
       "      <td>2</td>\n",
       "      <td>Weather update - a cold front from Cuba that c...</td>\n",
       "      <td>Un front froid se retrouve sur Cuba ce matin. ...</td>\n",
       "      <td>direct</td>\n",
       "      <td>1</td>\n",
       "      <td>0</td>\n",
       "      <td>0</td>\n",
       "      <td>0</td>\n",
       "      <td>0</td>\n",
       "      <td>0</td>\n",
       "      <td>...</td>\n",
       "      <td>0</td>\n",
       "      <td>0</td>\n",
       "      <td>0</td>\n",
       "      <td>0</td>\n",
       "      <td>0</td>\n",
       "      <td>0</td>\n",
       "      <td>0</td>\n",
       "      <td>0</td>\n",
       "      <td>0</td>\n",
       "      <td>0</td>\n",
       "    </tr>\n",
       "    <tr>\n",
       "      <th>1</th>\n",
       "      <td>7</td>\n",
       "      <td>Is the Hurricane over or is it not over</td>\n",
       "      <td>Cyclone nan fini osinon li pa fini</td>\n",
       "      <td>direct</td>\n",
       "      <td>1</td>\n",
       "      <td>0</td>\n",
       "      <td>0</td>\n",
       "      <td>1</td>\n",
       "      <td>0</td>\n",
       "      <td>0</td>\n",
       "      <td>...</td>\n",
       "      <td>0</td>\n",
       "      <td>0</td>\n",
       "      <td>1</td>\n",
       "      <td>0</td>\n",
       "      <td>1</td>\n",
       "      <td>0</td>\n",
       "      <td>0</td>\n",
       "      <td>0</td>\n",
       "      <td>0</td>\n",
       "      <td>0</td>\n",
       "    </tr>\n",
       "    <tr>\n",
       "      <th>2</th>\n",
       "      <td>8</td>\n",
       "      <td>Looking for someone but no name</td>\n",
       "      <td>Patnm, di Maryani relem pou li banm nouvel li ...</td>\n",
       "      <td>direct</td>\n",
       "      <td>1</td>\n",
       "      <td>0</td>\n",
       "      <td>0</td>\n",
       "      <td>0</td>\n",
       "      <td>0</td>\n",
       "      <td>0</td>\n",
       "      <td>...</td>\n",
       "      <td>0</td>\n",
       "      <td>0</td>\n",
       "      <td>0</td>\n",
       "      <td>0</td>\n",
       "      <td>0</td>\n",
       "      <td>0</td>\n",
       "      <td>0</td>\n",
       "      <td>0</td>\n",
       "      <td>0</td>\n",
       "      <td>0</td>\n",
       "    </tr>\n",
       "    <tr>\n",
       "      <th>3</th>\n",
       "      <td>9</td>\n",
       "      <td>UN reports Leogane 80-90 destroyed. Only Hospi...</td>\n",
       "      <td>UN reports Leogane 80-90 destroyed. Only Hospi...</td>\n",
       "      <td>direct</td>\n",
       "      <td>1</td>\n",
       "      <td>1</td>\n",
       "      <td>0</td>\n",
       "      <td>1</td>\n",
       "      <td>0</td>\n",
       "      <td>1</td>\n",
       "      <td>...</td>\n",
       "      <td>0</td>\n",
       "      <td>0</td>\n",
       "      <td>0</td>\n",
       "      <td>0</td>\n",
       "      <td>0</td>\n",
       "      <td>0</td>\n",
       "      <td>0</td>\n",
       "      <td>0</td>\n",
       "      <td>0</td>\n",
       "      <td>0</td>\n",
       "    </tr>\n",
       "    <tr>\n",
       "      <th>4</th>\n",
       "      <td>12</td>\n",
       "      <td>says: west side of Haiti, rest of the country ...</td>\n",
       "      <td>facade ouest d Haiti et le reste du pays aujou...</td>\n",
       "      <td>direct</td>\n",
       "      <td>1</td>\n",
       "      <td>0</td>\n",
       "      <td>0</td>\n",
       "      <td>0</td>\n",
       "      <td>0</td>\n",
       "      <td>0</td>\n",
       "      <td>...</td>\n",
       "      <td>0</td>\n",
       "      <td>0</td>\n",
       "      <td>0</td>\n",
       "      <td>0</td>\n",
       "      <td>0</td>\n",
       "      <td>0</td>\n",
       "      <td>0</td>\n",
       "      <td>0</td>\n",
       "      <td>0</td>\n",
       "      <td>0</td>\n",
       "    </tr>\n",
       "  </tbody>\n",
       "</table>\n",
       "<p>5 rows × 40 columns</p>\n",
       "</div>"
      ],
      "text/plain": [
       "   id                                            message  \\\n",
       "0   2  Weather update - a cold front from Cuba that c...   \n",
       "1   7            Is the Hurricane over or is it not over   \n",
       "2   8                    Looking for someone but no name   \n",
       "3   9  UN reports Leogane 80-90 destroyed. Only Hospi...   \n",
       "4  12  says: west side of Haiti, rest of the country ...   \n",
       "\n",
       "                                            original   genre  related request  \\\n",
       "0  Un front froid se retrouve sur Cuba ce matin. ...  direct        1       0   \n",
       "1                 Cyclone nan fini osinon li pa fini  direct        1       0   \n",
       "2  Patnm, di Maryani relem pou li banm nouvel li ...  direct        1       0   \n",
       "3  UN reports Leogane 80-90 destroyed. Only Hospi...  direct        1       1   \n",
       "4  facade ouest d Haiti et le reste du pays aujou...  direct        1       0   \n",
       "\n",
       "  offer aid_related medical_help medical_products  ... aid_centers  \\\n",
       "0     0           0            0                0  ...           0   \n",
       "1     0           1            0                0  ...           0   \n",
       "2     0           0            0                0  ...           0   \n",
       "3     0           1            0                1  ...           0   \n",
       "4     0           0            0                0  ...           0   \n",
       "\n",
       "  other_infrastructure weather_related floods storm fire earthquake cold  \\\n",
       "0                    0               0      0     0    0          0    0   \n",
       "1                    0               1      0     1    0          0    0   \n",
       "2                    0               0      0     0    0          0    0   \n",
       "3                    0               0      0     0    0          0    0   \n",
       "4                    0               0      0     0    0          0    0   \n",
       "\n",
       "  other_weather direct_report  \n",
       "0             0             0  \n",
       "1             0             0  \n",
       "2             0             0  \n",
       "3             0             0  \n",
       "4             0             0  \n",
       "\n",
       "[5 rows x 40 columns]"
      ]
     },
     "execution_count": 4,
     "metadata": {},
     "output_type": "execute_result"
    }
   ],
   "source": [
    "df = pd.read_sql_table('messages', engine)\n",
    "df.head()"
   ]
  },
  {
   "cell_type": "code",
   "execution_count": 5,
   "metadata": {},
   "outputs": [
    {
     "data": {
      "text/plain": [
       "(0    Weather update - a cold front from Cuba that c...\n",
       " 1              Is the Hurricane over or is it not over\n",
       " 2                      Looking for someone but no name\n",
       " 3    UN reports Leogane 80-90 destroyed. Only Hospi...\n",
       " 4    says: west side of Haiti, rest of the country ...\n",
       " Name: message, dtype: object,\n",
       "    related  request  offer  aid_related  medical_help  medical_products  \\\n",
       " 0        1        0      0            0             0                 0   \n",
       " 1        1        0      0            1             0                 0   \n",
       " 2        1        0      0            0             0                 0   \n",
       " 3        1        1      0            1             0                 1   \n",
       " 4        1        0      0            0             0                 0   \n",
       " \n",
       "    search_and_rescue  security  military  child_alone  ...  aid_centers  \\\n",
       " 0                  0         0         0            0  ...            0   \n",
       " 1                  0         0         0            0  ...            0   \n",
       " 2                  0         0         0            0  ...            0   \n",
       " 3                  0         0         0            0  ...            0   \n",
       " 4                  0         0         0            0  ...            0   \n",
       " \n",
       "    other_infrastructure  weather_related  floods  storm  fire  earthquake  \\\n",
       " 0                     0                0       0      0     0           0   \n",
       " 1                     0                1       0      1     0           0   \n",
       " 2                     0                0       0      0     0           0   \n",
       " 3                     0                0       0      0     0           0   \n",
       " 4                     0                0       0      0     0           0   \n",
       " \n",
       "    cold  other_weather  direct_report  \n",
       " 0     0              0              0  \n",
       " 1     0              0              0  \n",
       " 2     0              0              0  \n",
       " 3     0              0              0  \n",
       " 4     0              0              0  \n",
       " \n",
       " [5 rows x 36 columns])"
      ]
     },
     "execution_count": 5,
     "metadata": {},
     "output_type": "execute_result"
    }
   ],
   "source": [
    "X = df['message']\n",
    "y = pd.DataFrame(columns=[c for c in df.columns if c not in ['id', 'message', 'original', 'genre']])\n",
    "for col in y.columns:\n",
    "    y[col] = df[col].astype(int)\n",
    "\n",
    "X.head(),y.head()"
   ]
  },
  {
   "cell_type": "code",
   "execution_count": 6,
   "metadata": {},
   "outputs": [
    {
     "data": {
      "text/plain": [
       "array([0, 1])"
      ]
     },
     "execution_count": 6,
     "metadata": {},
     "output_type": "execute_result"
    }
   ],
   "source": [
    "# check the values for labels, expected values 0, 1\n",
    "\n",
    "import numpy as np\n",
    "np.unique(y)"
   ]
  },
  {
   "cell_type": "markdown",
   "metadata": {},
   "source": [
    "### 2. Write a tokenization function to process your text data"
   ]
  },
  {
   "cell_type": "code",
   "execution_count": 7,
   "metadata": {},
   "outputs": [],
   "source": [
    "from nltk.tokenize import word_tokenize\n",
    "from nltk.stem import WordNetLemmatizer\n",
    "\n",
    "\n",
    "def tokenize(text):\n",
    "    tokens = word_tokenize(text)\n",
    "\n",
    "    lemmatizer = WordNetLemmatizer()\n",
    "    clean_tokens = []\n",
    "    \n",
    "    for tok in tokens:\n",
    "        clean_tok = lemmatizer.lemmatize(tok).lower().strip()\n",
    "        clean_tokens.append(clean_tok)\n",
    "    return clean_tokens"
   ]
  },
  {
   "cell_type": "markdown",
   "metadata": {},
   "source": [
    "### 3. Build a machine learning pipeline\n",
    "This machine pipeline should take in the `message` column as input and output classification results on the other 36 categories in the dataset. You may find the [MultiOutputClassifier](http://scikit-learn.org/stable/modules/generated/sklearn.multioutput.MultiOutputClassifier.html) helpful for predicting multiple target variables."
   ]
  },
  {
   "cell_type": "code",
   "execution_count": 8,
   "metadata": {},
   "outputs": [],
   "source": [
    "# Create a pipeline \n",
    "pipeline = Pipeline([\n",
    "    ('vect', CountVectorizer(tokenizer=tokenize)),\n",
    "    ('tfidf', TfidfTransformer()),\n",
    "    ('clf', MultiOutputClassifier(KNeighborsClassifier(n_neighbors=2), n_jobs=-1)),\n",
    "]\n",
    ") "
   ]
  },
  {
   "cell_type": "markdown",
   "metadata": {},
   "source": [
    "### 4. Train pipeline\n",
    "- Split data into train and test sets\n",
    "- Train pipeline"
   ]
  },
  {
   "cell_type": "code",
   "execution_count": 9,
   "metadata": {},
   "outputs": [],
   "source": [
    "X_train, X_test, y_train, y_test = train_test_split(X, y, test_size=0.3, random_state=42)"
   ]
  },
  {
   "cell_type": "code",
   "execution_count": 10,
   "metadata": {},
   "outputs": [],
   "source": [
    "# reset the index for y \n",
    "# https://stackoverflow.com/questions/43162506/undefinedmetricwarning-f-score-is-ill-defined-and-being-set-to-0-0-in-labels-wi\n",
    "\n",
    "y_train, y_test = y_train.reset_index(drop=True), y_test.reset_index(drop=True)"
   ]
  },
  {
   "cell_type": "code",
   "execution_count": 11,
   "metadata": {},
   "outputs": [
    {
     "data": {
      "text/plain": [
       "Pipeline(steps=[('vect',\n",
       "                 CountVectorizer(tokenizer=<function tokenize at 0x7fd680634e50>)),\n",
       "                ('tfidf', TfidfTransformer()),\n",
       "                ('clf',\n",
       "                 MultiOutputClassifier(estimator=KNeighborsClassifier(n_neighbors=2),\n",
       "                                       n_jobs=-1))])"
      ]
     },
     "execution_count": 11,
     "metadata": {},
     "output_type": "execute_result"
    }
   ],
   "source": [
    "# https://github.com/scikit-learn/scikit-learn/issues/6614\n",
    "pipeline.fit(X_train, y_train)"
   ]
  },
  {
   "cell_type": "code",
   "execution_count": 12,
   "metadata": {},
   "outputs": [],
   "source": [
    "y_pred = pipeline.predict(X_test)"
   ]
  },
  {
   "cell_type": "markdown",
   "metadata": {},
   "source": [
    "### 5. Test your model\n",
    "Report the f1 score, precision and recall for each output category of the dataset. You can do this by iterating through the columns and calling sklearn's `classification_report` on each."
   ]
  },
  {
   "cell_type": "code",
   "execution_count": 13,
   "metadata": {},
   "outputs": [],
   "source": [
    "def generate_report(y_test, y_pred, print_report=False):\n",
    "    reports = {}\n",
    "    for i, col in enumerate(y_test.columns):\n",
    "        print(f'Generating report for ({i},{col})')\n",
    "        y_test_col = y_test.iloc[:, i]\n",
    "        y_pred_col = y_pred[:,i]\n",
    "        # unique, counts = np.unique(x, return_counts=True)\n",
    "        y_test_unique, y_test_counts = np.unique(y_test_col, return_counts=True)\n",
    "        y_pred_unique, y_pred_counts = np.unique(y_pred_col, return_counts=True)\n",
    "        if print_report:\n",
    "            print(f'category = {col}')\n",
    "            print(classification_report(y_test_col, y_pred_col))\n",
    "        report = classification_report(y_test_col, y_pred_col, output_dict=True)\n",
    "        reports[col] = report\n",
    "    return reports"
   ]
  },
  {
   "cell_type": "code",
   "execution_count": 14,
   "metadata": {
    "scrolled": false
   },
   "outputs": [
    {
     "name": "stdout",
     "output_type": "stream",
     "text": [
      "Generating report for (0,related)\n",
      "category = related\n",
      "              precision    recall  f1-score   support\n",
      "\n",
      "           0       0.61      0.21      0.31      1873\n",
      "           1       0.79      0.96      0.87      5992\n",
      "\n",
      "    accuracy                           0.78      7865\n",
      "   macro avg       0.70      0.58      0.59      7865\n",
      "weighted avg       0.75      0.78      0.73      7865\n",
      "\n",
      "Generating report for (1,request)\n",
      "category = request\n",
      "              precision    recall  f1-score   support\n",
      "\n",
      "           0       0.84      1.00      0.91      6533\n",
      "           1       0.81      0.09      0.16      1332\n",
      "\n",
      "    accuracy                           0.84      7865\n",
      "   macro avg       0.83      0.54      0.53      7865\n",
      "weighted avg       0.84      0.84      0.78      7865\n",
      "\n",
      "Generating report for (2,offer)\n",
      "category = offer\n",
      "              precision    recall  f1-score   support\n",
      "\n",
      "           0       1.00      1.00      1.00      7829\n",
      "           1       0.00      0.00      0.00        36\n",
      "\n",
      "    accuracy                           1.00      7865\n",
      "   macro avg       0.50      0.50      0.50      7865\n",
      "weighted avg       0.99      1.00      0.99      7865\n",
      "\n",
      "Generating report for (3,aid_related)\n",
      "category = aid_related\n",
      "              precision    recall  f1-score   support\n",
      "\n",
      "           0       0.60      0.99      0.75      4646\n",
      "           1       0.77      0.04      0.08      3219\n",
      "\n",
      "    accuracy                           0.60      7865\n",
      "   macro avg       0.69      0.52      0.41      7865\n",
      "weighted avg       0.67      0.60      0.47      7865\n",
      "\n",
      "Generating report for (4,medical_help)\n",
      "category = medical_help\n",
      "              precision    recall  f1-score   support\n",
      "\n",
      "           0       0.92      1.00      0.96      7227\n",
      "           1       0.67      0.01      0.02       638\n",
      "\n",
      "    accuracy                           0.92      7865\n",
      "   macro avg       0.79      0.51      0.49      7865\n",
      "weighted avg       0.90      0.92      0.88      7865\n",
      "\n",
      "Generating report for (5,medical_products)\n",
      "category = medical_products\n",
      "              precision    recall  f1-score   support\n",
      "\n",
      "           0       0.95      1.00      0.97      7447\n",
      "           1       0.62      0.01      0.02       418\n",
      "\n",
      "    accuracy                           0.95      7865\n",
      "   macro avg       0.79      0.51      0.50      7865\n",
      "weighted avg       0.93      0.95      0.92      7865\n",
      "\n",
      "Generating report for (6,search_and_rescue)\n",
      "category = search_and_rescue\n",
      "              precision    recall  f1-score   support\n",
      "\n",
      "           0       0.98      1.00      0.99      7673\n",
      "           1       0.00      0.00      0.00       192\n",
      "\n",
      "    accuracy                           0.98      7865\n",
      "   macro avg       0.49      0.50      0.49      7865\n",
      "weighted avg       0.95      0.98      0.96      7865\n",
      "\n",
      "Generating report for (7,security)\n",
      "category = security\n",
      "              precision    recall  f1-score   support\n",
      "\n",
      "           0       0.98      1.00      0.99      7721\n",
      "           1       0.14      0.01      0.01       144\n",
      "\n",
      "    accuracy                           0.98      7865\n",
      "   macro avg       0.56      0.50      0.50      7865\n",
      "weighted avg       0.97      0.98      0.97      7865\n",
      "\n",
      "Generating report for (8,military)\n",
      "category = military\n",
      "              precision    recall  f1-score   support\n",
      "\n",
      "           0       0.97      1.00      0.98      7620\n",
      "           1       0.00      0.00      0.00       245\n",
      "\n",
      "    accuracy                           0.97      7865\n",
      "   macro avg       0.48      0.50      0.49      7865\n",
      "weighted avg       0.94      0.97      0.95      7865\n",
      "\n",
      "Generating report for (9,child_alone)\n",
      "category = child_alone\n",
      "              precision    recall  f1-score   support\n",
      "\n",
      "           0       1.00      1.00      1.00      7865\n",
      "\n",
      "    accuracy                           1.00      7865\n",
      "   macro avg       1.00      1.00      1.00      7865\n",
      "weighted avg       1.00      1.00      1.00      7865\n",
      "\n",
      "Generating report for (10,water)\n",
      "category = water\n",
      "              precision    recall  f1-score   support\n",
      "\n",
      "           0       0.94      1.00      0.97      7365\n",
      "           1       0.73      0.05      0.10       500\n",
      "\n",
      "    accuracy                           0.94      7865\n",
      "   macro avg       0.83      0.53      0.53      7865\n",
      "weighted avg       0.93      0.94      0.91      7865\n",
      "\n",
      "Generating report for (11,food)\n",
      "category = food\n",
      "              precision    recall  f1-score   support\n",
      "\n",
      "           0       0.90      1.00      0.94      6987\n",
      "           1       0.77      0.07      0.13       878\n",
      "\n",
      "    accuracy                           0.89      7865\n",
      "   macro avg       0.83      0.53      0.54      7865\n",
      "weighted avg       0.88      0.89      0.85      7865\n",
      "\n",
      "Generating report for (12,shelter)\n",
      "category = shelter\n",
      "              precision    recall  f1-score   support\n",
      "\n",
      "           0       0.91      1.00      0.95      7160\n",
      "           1       0.76      0.05      0.10       705\n",
      "\n",
      "    accuracy                           0.91      7865\n",
      "   macro avg       0.83      0.53      0.53      7865\n",
      "weighted avg       0.90      0.91      0.88      7865\n",
      "\n",
      "Generating report for (13,clothing)\n",
      "category = clothing\n"
     ]
    },
    {
     "name": "stderr",
     "output_type": "stream",
     "text": [
      "/Users/juliajia/miniconda/envs/data-sci/lib/python3.9/site-packages/sklearn/metrics/_classification.py:1248: UndefinedMetricWarning: Precision and F-score are ill-defined and being set to 0.0 in labels with no predicted samples. Use `zero_division` parameter to control this behavior.\n",
      "  _warn_prf(average, modifier, msg_start, len(result))\n",
      "/Users/juliajia/miniconda/envs/data-sci/lib/python3.9/site-packages/sklearn/metrics/_classification.py:1248: UndefinedMetricWarning: Precision and F-score are ill-defined and being set to 0.0 in labels with no predicted samples. Use `zero_division` parameter to control this behavior.\n",
      "  _warn_prf(average, modifier, msg_start, len(result))\n",
      "/Users/juliajia/miniconda/envs/data-sci/lib/python3.9/site-packages/sklearn/metrics/_classification.py:1248: UndefinedMetricWarning: Precision and F-score are ill-defined and being set to 0.0 in labels with no predicted samples. Use `zero_division` parameter to control this behavior.\n",
      "  _warn_prf(average, modifier, msg_start, len(result))\n",
      "/Users/juliajia/miniconda/envs/data-sci/lib/python3.9/site-packages/sklearn/metrics/_classification.py:1248: UndefinedMetricWarning: Precision and F-score are ill-defined and being set to 0.0 in labels with no predicted samples. Use `zero_division` parameter to control this behavior.\n",
      "  _warn_prf(average, modifier, msg_start, len(result))\n",
      "/Users/juliajia/miniconda/envs/data-sci/lib/python3.9/site-packages/sklearn/metrics/_classification.py:1248: UndefinedMetricWarning: Precision and F-score are ill-defined and being set to 0.0 in labels with no predicted samples. Use `zero_division` parameter to control this behavior.\n",
      "  _warn_prf(average, modifier, msg_start, len(result))\n",
      "/Users/juliajia/miniconda/envs/data-sci/lib/python3.9/site-packages/sklearn/metrics/_classification.py:1248: UndefinedMetricWarning: Precision and F-score are ill-defined and being set to 0.0 in labels with no predicted samples. Use `zero_division` parameter to control this behavior.\n",
      "  _warn_prf(average, modifier, msg_start, len(result))\n",
      "/Users/juliajia/miniconda/envs/data-sci/lib/python3.9/site-packages/sklearn/metrics/_classification.py:1248: UndefinedMetricWarning: Precision and F-score are ill-defined and being set to 0.0 in labels with no predicted samples. Use `zero_division` parameter to control this behavior.\n",
      "  _warn_prf(average, modifier, msg_start, len(result))\n",
      "/Users/juliajia/miniconda/envs/data-sci/lib/python3.9/site-packages/sklearn/metrics/_classification.py:1248: UndefinedMetricWarning: Precision and F-score are ill-defined and being set to 0.0 in labels with no predicted samples. Use `zero_division` parameter to control this behavior.\n",
      "  _warn_prf(average, modifier, msg_start, len(result))\n",
      "/Users/juliajia/miniconda/envs/data-sci/lib/python3.9/site-packages/sklearn/metrics/_classification.py:1248: UndefinedMetricWarning: Precision and F-score are ill-defined and being set to 0.0 in labels with no predicted samples. Use `zero_division` parameter to control this behavior.\n",
      "  _warn_prf(average, modifier, msg_start, len(result))\n",
      "/Users/juliajia/miniconda/envs/data-sci/lib/python3.9/site-packages/sklearn/metrics/_classification.py:1248: UndefinedMetricWarning: Precision and F-score are ill-defined and being set to 0.0 in labels with no predicted samples. Use `zero_division` parameter to control this behavior.\n",
      "  _warn_prf(average, modifier, msg_start, len(result))\n",
      "/Users/juliajia/miniconda/envs/data-sci/lib/python3.9/site-packages/sklearn/metrics/_classification.py:1248: UndefinedMetricWarning: Precision and F-score are ill-defined and being set to 0.0 in labels with no predicted samples. Use `zero_division` parameter to control this behavior.\n",
      "  _warn_prf(average, modifier, msg_start, len(result))\n",
      "/Users/juliajia/miniconda/envs/data-sci/lib/python3.9/site-packages/sklearn/metrics/_classification.py:1248: UndefinedMetricWarning: Precision and F-score are ill-defined and being set to 0.0 in labels with no predicted samples. Use `zero_division` parameter to control this behavior.\n",
      "  _warn_prf(average, modifier, msg_start, len(result))\n",
      "/Users/juliajia/miniconda/envs/data-sci/lib/python3.9/site-packages/sklearn/metrics/_classification.py:1248: UndefinedMetricWarning: Precision and F-score are ill-defined and being set to 0.0 in labels with no predicted samples. Use `zero_division` parameter to control this behavior.\n",
      "  _warn_prf(average, modifier, msg_start, len(result))\n",
      "/Users/juliajia/miniconda/envs/data-sci/lib/python3.9/site-packages/sklearn/metrics/_classification.py:1248: UndefinedMetricWarning: Precision and F-score are ill-defined and being set to 0.0 in labels with no predicted samples. Use `zero_division` parameter to control this behavior.\n",
      "  _warn_prf(average, modifier, msg_start, len(result))\n",
      "/Users/juliajia/miniconda/envs/data-sci/lib/python3.9/site-packages/sklearn/metrics/_classification.py:1248: UndefinedMetricWarning: Precision and F-score are ill-defined and being set to 0.0 in labels with no predicted samples. Use `zero_division` parameter to control this behavior.\n",
      "  _warn_prf(average, modifier, msg_start, len(result))\n",
      "/Users/juliajia/miniconda/envs/data-sci/lib/python3.9/site-packages/sklearn/metrics/_classification.py:1248: UndefinedMetricWarning: Precision and F-score are ill-defined and being set to 0.0 in labels with no predicted samples. Use `zero_division` parameter to control this behavior.\n",
      "  _warn_prf(average, modifier, msg_start, len(result))\n",
      "/Users/juliajia/miniconda/envs/data-sci/lib/python3.9/site-packages/sklearn/metrics/_classification.py:1248: UndefinedMetricWarning: Precision and F-score are ill-defined and being set to 0.0 in labels with no predicted samples. Use `zero_division` parameter to control this behavior.\n",
      "  _warn_prf(average, modifier, msg_start, len(result))\n",
      "/Users/juliajia/miniconda/envs/data-sci/lib/python3.9/site-packages/sklearn/metrics/_classification.py:1248: UndefinedMetricWarning: Precision and F-score are ill-defined and being set to 0.0 in labels with no predicted samples. Use `zero_division` parameter to control this behavior.\n",
      "  _warn_prf(average, modifier, msg_start, len(result))\n"
     ]
    },
    {
     "name": "stdout",
     "output_type": "stream",
     "text": [
      "              precision    recall  f1-score   support\n",
      "\n",
      "           0       0.99      1.00      0.99      7750\n",
      "           1       0.71      0.04      0.08       115\n",
      "\n",
      "    accuracy                           0.99      7865\n",
      "   macro avg       0.85      0.52      0.54      7865\n",
      "weighted avg       0.98      0.99      0.98      7865\n",
      "\n",
      "Generating report for (14,money)\n",
      "category = money\n",
      "              precision    recall  f1-score   support\n",
      "\n",
      "           0       0.98      1.00      0.99      7695\n",
      "           1       0.50      0.01      0.01       170\n",
      "\n",
      "    accuracy                           0.98      7865\n",
      "   macro avg       0.74      0.50      0.50      7865\n",
      "weighted avg       0.97      0.98      0.97      7865\n",
      "\n",
      "Generating report for (15,missing_people)\n",
      "category = missing_people\n",
      "              precision    recall  f1-score   support\n",
      "\n",
      "           0       0.99      1.00      0.99      7773\n",
      "           1       0.00      0.00      0.00        92\n",
      "\n",
      "    accuracy                           0.99      7865\n",
      "   macro avg       0.49      0.50      0.50      7865\n",
      "weighted avg       0.98      0.99      0.98      7865\n",
      "\n",
      "Generating report for (16,refugees)\n",
      "category = refugees\n",
      "              precision    recall  f1-score   support\n",
      "\n",
      "           0       0.97      1.00      0.98      7605\n",
      "           1       0.44      0.02      0.03       260\n",
      "\n",
      "    accuracy                           0.97      7865\n",
      "   macro avg       0.71      0.51      0.51      7865\n",
      "weighted avg       0.95      0.97      0.95      7865\n",
      "\n",
      "Generating report for (17,death)\n",
      "category = death\n",
      "              precision    recall  f1-score   support\n",
      "\n",
      "           0       0.96      1.00      0.98      7499\n",
      "           1       0.65      0.04      0.08       366\n",
      "\n",
      "    accuracy                           0.95      7865\n",
      "   macro avg       0.80      0.52      0.53      7865\n",
      "weighted avg       0.94      0.95      0.93      7865\n",
      "\n",
      "Generating report for (18,other_aid)\n",
      "category = other_aid\n",
      "              precision    recall  f1-score   support\n",
      "\n",
      "           0       0.87      1.00      0.93      6832\n",
      "           1       0.41      0.01      0.02      1033\n",
      "\n",
      "    accuracy                           0.87      7865\n",
      "   macro avg       0.64      0.50      0.48      7865\n",
      "weighted avg       0.81      0.87      0.81      7865\n",
      "\n",
      "Generating report for (19,infrastructure_related)\n",
      "category = infrastructure_related\n",
      "              precision    recall  f1-score   support\n",
      "\n",
      "           0       0.94      1.00      0.97      7360\n",
      "           1       0.60      0.01      0.02       505\n",
      "\n",
      "    accuracy                           0.94      7865\n",
      "   macro avg       0.77      0.51      0.50      7865\n",
      "weighted avg       0.91      0.94      0.91      7865\n",
      "\n",
      "Generating report for (20,transport)\n",
      "category = transport\n",
      "              precision    recall  f1-score   support\n",
      "\n",
      "           0       0.95      1.00      0.98      7503\n",
      "           1       0.67      0.01      0.02       362\n",
      "\n",
      "    accuracy                           0.95      7865\n",
      "   macro avg       0.81      0.51      0.50      7865\n",
      "weighted avg       0.94      0.95      0.93      7865\n",
      "\n",
      "Generating report for (21,buildings)\n",
      "category = buildings\n",
      "              precision    recall  f1-score   support\n",
      "\n",
      "           0       0.95      1.00      0.98      7473\n",
      "           1       0.76      0.03      0.06       392\n",
      "\n",
      "    accuracy                           0.95      7865\n",
      "   macro avg       0.86      0.52      0.52      7865\n",
      "weighted avg       0.94      0.95      0.93      7865\n",
      "\n",
      "Generating report for (22,electricity)\n",
      "category = electricity\n",
      "              precision    recall  f1-score   support\n",
      "\n",
      "           0       0.98      1.00      0.99      7697\n",
      "           1       0.43      0.02      0.03       168\n",
      "\n",
      "    accuracy                           0.98      7865\n",
      "   macro avg       0.70      0.51      0.51      7865\n",
      "weighted avg       0.97      0.98      0.97      7865\n",
      "\n",
      "Generating report for (23,tools)\n",
      "category = tools\n",
      "              precision    recall  f1-score   support\n",
      "\n",
      "           0       0.99      1.00      1.00      7817\n",
      "           1       0.00      0.00      0.00        48\n",
      "\n",
      "    accuracy                           0.99      7865\n",
      "   macro avg       0.50      0.50      0.50      7865\n",
      "weighted avg       0.99      0.99      0.99      7865\n",
      "\n",
      "Generating report for (24,hospitals)\n",
      "category = hospitals\n",
      "              precision    recall  f1-score   support\n",
      "\n",
      "           0       0.99      1.00      1.00      7787\n",
      "           1       0.00      0.00      0.00        78\n",
      "\n",
      "    accuracy                           0.99      7865\n",
      "   macro avg       0.50      0.50      0.50      7865\n",
      "weighted avg       0.98      0.99      0.99      7865\n",
      "\n",
      "Generating report for (25,shops)\n",
      "category = shops\n",
      "              precision    recall  f1-score   support\n",
      "\n",
      "           0       1.00      1.00      1.00      7837\n",
      "           1       0.00      0.00      0.00        28\n",
      "\n",
      "    accuracy                           1.00      7865\n",
      "   macro avg       0.50      0.50      0.50      7865\n",
      "weighted avg       0.99      1.00      0.99      7865\n",
      "\n",
      "Generating report for (26,aid_centers)\n",
      "category = aid_centers\n",
      "              precision    recall  f1-score   support\n",
      "\n",
      "           0       0.99      1.00      0.99      7762\n",
      "           1       0.00      0.00      0.00       103\n",
      "\n",
      "    accuracy                           0.99      7865\n",
      "   macro avg       0.49      0.50      0.50      7865\n",
      "weighted avg       0.97      0.99      0.98      7865\n",
      "\n",
      "Generating report for (27,other_infrastructure)\n",
      "category = other_infrastructure\n",
      "              precision    recall  f1-score   support\n",
      "\n",
      "           0       0.96      1.00      0.98      7524\n",
      "           1       0.00      0.00      0.00       341\n",
      "\n",
      "    accuracy                           0.96      7865\n",
      "   macro avg       0.48      0.50      0.49      7865\n",
      "weighted avg       0.92      0.96      0.94      7865\n",
      "\n",
      "Generating report for (28,weather_related)\n",
      "category = weather_related\n",
      "              precision    recall  f1-score   support\n",
      "\n",
      "           0       0.74      0.99      0.85      5702\n",
      "           1       0.76      0.06      0.12      2163\n",
      "\n",
      "    accuracy                           0.74      7865\n",
      "   macro avg       0.75      0.53      0.48      7865\n",
      "weighted avg       0.74      0.74      0.64      7865\n",
      "\n",
      "Generating report for (29,floods)\n",
      "category = floods\n",
      "              precision    recall  f1-score   support\n",
      "\n",
      "           0       0.92      1.00      0.96      7242\n",
      "           1       0.88      0.04      0.07       623\n",
      "\n",
      "    accuracy                           0.92      7865\n",
      "   macro avg       0.90      0.52      0.52      7865\n",
      "weighted avg       0.92      0.92      0.89      7865\n",
      "\n",
      "Generating report for (30,storm)\n",
      "category = storm\n",
      "              precision    recall  f1-score   support\n",
      "\n",
      "           0       0.91      1.00      0.95      7127\n",
      "           1       0.65      0.05      0.09       738\n",
      "\n",
      "    accuracy                           0.91      7865\n",
      "   macro avg       0.78      0.52      0.52      7865\n",
      "weighted avg       0.89      0.91      0.87      7865\n",
      "\n",
      "Generating report for (31,fire)\n",
      "category = fire\n",
      "              precision    recall  f1-score   support\n",
      "\n",
      "           0       0.99      1.00      0.99      7782\n",
      "           1       0.00      0.00      0.00        83\n",
      "\n",
      "    accuracy                           0.99      7865\n",
      "   macro avg       0.49      0.50      0.50      7865\n",
      "weighted avg       0.98      0.99      0.98      7865\n",
      "\n",
      "Generating report for (32,earthquake)\n",
      "category = earthquake\n",
      "              precision    recall  f1-score   support\n",
      "\n",
      "           0       0.92      1.00      0.96      7163\n",
      "           1       0.72      0.12      0.20       702\n",
      "\n",
      "    accuracy                           0.92      7865\n",
      "   macro avg       0.82      0.56      0.58      7865\n",
      "weighted avg       0.90      0.92      0.89      7865\n",
      "\n",
      "Generating report for (33,cold)\n",
      "category = cold\n",
      "              precision    recall  f1-score   support\n",
      "\n",
      "           0       0.98      1.00      0.99      7694\n",
      "           1       1.00      0.01      0.01       171\n",
      "\n",
      "    accuracy                           0.98      7865\n",
      "   macro avg       0.99      0.50      0.50      7865\n",
      "weighted avg       0.98      0.98      0.97      7865\n",
      "\n",
      "Generating report for (34,other_weather)\n",
      "category = other_weather\n",
      "              precision    recall  f1-score   support\n",
      "\n",
      "           0       0.95      1.00      0.97      7450\n",
      "           1       0.33      0.01      0.02       415\n",
      "\n",
      "    accuracy                           0.95      7865\n",
      "   macro avg       0.64      0.50      0.50      7865\n",
      "weighted avg       0.92      0.95      0.92      7865\n",
      "\n",
      "Generating report for (35,direct_report)\n",
      "category = direct_report\n",
      "              precision    recall  f1-score   support\n",
      "\n",
      "           0       0.81      1.00      0.89      6321\n",
      "           1       0.76      0.06      0.12      1544\n",
      "\n",
      "    accuracy                           0.81      7865\n",
      "   macro avg       0.79      0.53      0.51      7865\n",
      "weighted avg       0.80      0.81      0.74      7865\n",
      "\n"
     ]
    },
    {
     "name": "stderr",
     "output_type": "stream",
     "text": [
      "/Users/juliajia/miniconda/envs/data-sci/lib/python3.9/site-packages/sklearn/metrics/_classification.py:1248: UndefinedMetricWarning: Precision and F-score are ill-defined and being set to 0.0 in labels with no predicted samples. Use `zero_division` parameter to control this behavior.\n",
      "  _warn_prf(average, modifier, msg_start, len(result))\n",
      "/Users/juliajia/miniconda/envs/data-sci/lib/python3.9/site-packages/sklearn/metrics/_classification.py:1248: UndefinedMetricWarning: Precision and F-score are ill-defined and being set to 0.0 in labels with no predicted samples. Use `zero_division` parameter to control this behavior.\n",
      "  _warn_prf(average, modifier, msg_start, len(result))\n",
      "/Users/juliajia/miniconda/envs/data-sci/lib/python3.9/site-packages/sklearn/metrics/_classification.py:1248: UndefinedMetricWarning: Precision and F-score are ill-defined and being set to 0.0 in labels with no predicted samples. Use `zero_division` parameter to control this behavior.\n",
      "  _warn_prf(average, modifier, msg_start, len(result))\n",
      "/Users/juliajia/miniconda/envs/data-sci/lib/python3.9/site-packages/sklearn/metrics/_classification.py:1248: UndefinedMetricWarning: Precision and F-score are ill-defined and being set to 0.0 in labels with no predicted samples. Use `zero_division` parameter to control this behavior.\n",
      "  _warn_prf(average, modifier, msg_start, len(result))\n",
      "/Users/juliajia/miniconda/envs/data-sci/lib/python3.9/site-packages/sklearn/metrics/_classification.py:1248: UndefinedMetricWarning: Precision and F-score are ill-defined and being set to 0.0 in labels with no predicted samples. Use `zero_division` parameter to control this behavior.\n",
      "  _warn_prf(average, modifier, msg_start, len(result))\n",
      "/Users/juliajia/miniconda/envs/data-sci/lib/python3.9/site-packages/sklearn/metrics/_classification.py:1248: UndefinedMetricWarning: Precision and F-score are ill-defined and being set to 0.0 in labels with no predicted samples. Use `zero_division` parameter to control this behavior.\n",
      "  _warn_prf(average, modifier, msg_start, len(result))\n",
      "/Users/juliajia/miniconda/envs/data-sci/lib/python3.9/site-packages/sklearn/metrics/_classification.py:1248: UndefinedMetricWarning: Precision and F-score are ill-defined and being set to 0.0 in labels with no predicted samples. Use `zero_division` parameter to control this behavior.\n",
      "  _warn_prf(average, modifier, msg_start, len(result))\n",
      "/Users/juliajia/miniconda/envs/data-sci/lib/python3.9/site-packages/sklearn/metrics/_classification.py:1248: UndefinedMetricWarning: Precision and F-score are ill-defined and being set to 0.0 in labels with no predicted samples. Use `zero_division` parameter to control this behavior.\n",
      "  _warn_prf(average, modifier, msg_start, len(result))\n",
      "/Users/juliajia/miniconda/envs/data-sci/lib/python3.9/site-packages/sklearn/metrics/_classification.py:1248: UndefinedMetricWarning: Precision and F-score are ill-defined and being set to 0.0 in labels with no predicted samples. Use `zero_division` parameter to control this behavior.\n",
      "  _warn_prf(average, modifier, msg_start, len(result))\n",
      "/Users/juliajia/miniconda/envs/data-sci/lib/python3.9/site-packages/sklearn/metrics/_classification.py:1248: UndefinedMetricWarning: Precision and F-score are ill-defined and being set to 0.0 in labels with no predicted samples. Use `zero_division` parameter to control this behavior.\n",
      "  _warn_prf(average, modifier, msg_start, len(result))\n",
      "/Users/juliajia/miniconda/envs/data-sci/lib/python3.9/site-packages/sklearn/metrics/_classification.py:1248: UndefinedMetricWarning: Precision and F-score are ill-defined and being set to 0.0 in labels with no predicted samples. Use `zero_division` parameter to control this behavior.\n",
      "  _warn_prf(average, modifier, msg_start, len(result))\n",
      "/Users/juliajia/miniconda/envs/data-sci/lib/python3.9/site-packages/sklearn/metrics/_classification.py:1248: UndefinedMetricWarning: Precision and F-score are ill-defined and being set to 0.0 in labels with no predicted samples. Use `zero_division` parameter to control this behavior.\n",
      "  _warn_prf(average, modifier, msg_start, len(result))\n",
      "/Users/juliajia/miniconda/envs/data-sci/lib/python3.9/site-packages/sklearn/metrics/_classification.py:1248: UndefinedMetricWarning: Precision and F-score are ill-defined and being set to 0.0 in labels with no predicted samples. Use `zero_division` parameter to control this behavior.\n",
      "  _warn_prf(average, modifier, msg_start, len(result))\n",
      "/Users/juliajia/miniconda/envs/data-sci/lib/python3.9/site-packages/sklearn/metrics/_classification.py:1248: UndefinedMetricWarning: Precision and F-score are ill-defined and being set to 0.0 in labels with no predicted samples. Use `zero_division` parameter to control this behavior.\n",
      "  _warn_prf(average, modifier, msg_start, len(result))\n",
      "/Users/juliajia/miniconda/envs/data-sci/lib/python3.9/site-packages/sklearn/metrics/_classification.py:1248: UndefinedMetricWarning: Precision and F-score are ill-defined and being set to 0.0 in labels with no predicted samples. Use `zero_division` parameter to control this behavior.\n",
      "  _warn_prf(average, modifier, msg_start, len(result))\n",
      "/Users/juliajia/miniconda/envs/data-sci/lib/python3.9/site-packages/sklearn/metrics/_classification.py:1248: UndefinedMetricWarning: Precision and F-score are ill-defined and being set to 0.0 in labels with no predicted samples. Use `zero_division` parameter to control this behavior.\n",
      "  _warn_prf(average, modifier, msg_start, len(result))\n",
      "/Users/juliajia/miniconda/envs/data-sci/lib/python3.9/site-packages/sklearn/metrics/_classification.py:1248: UndefinedMetricWarning: Precision and F-score are ill-defined and being set to 0.0 in labels with no predicted samples. Use `zero_division` parameter to control this behavior.\n",
      "  _warn_prf(average, modifier, msg_start, len(result))\n",
      "/Users/juliajia/miniconda/envs/data-sci/lib/python3.9/site-packages/sklearn/metrics/_classification.py:1248: UndefinedMetricWarning: Precision and F-score are ill-defined and being set to 0.0 in labels with no predicted samples. Use `zero_division` parameter to control this behavior.\n",
      "  _warn_prf(average, modifier, msg_start, len(result))\n",
      "/Users/juliajia/miniconda/envs/data-sci/lib/python3.9/site-packages/sklearn/metrics/_classification.py:1248: UndefinedMetricWarning: Precision and F-score are ill-defined and being set to 0.0 in labels with no predicted samples. Use `zero_division` parameter to control this behavior.\n",
      "  _warn_prf(average, modifier, msg_start, len(result))\n",
      "/Users/juliajia/miniconda/envs/data-sci/lib/python3.9/site-packages/sklearn/metrics/_classification.py:1248: UndefinedMetricWarning: Precision and F-score are ill-defined and being set to 0.0 in labels with no predicted samples. Use `zero_division` parameter to control this behavior.\n",
      "  _warn_prf(average, modifier, msg_start, len(result))\n",
      "/Users/juliajia/miniconda/envs/data-sci/lib/python3.9/site-packages/sklearn/metrics/_classification.py:1248: UndefinedMetricWarning: Precision and F-score are ill-defined and being set to 0.0 in labels with no predicted samples. Use `zero_division` parameter to control this behavior.\n",
      "  _warn_prf(average, modifier, msg_start, len(result))\n",
      "/Users/juliajia/miniconda/envs/data-sci/lib/python3.9/site-packages/sklearn/metrics/_classification.py:1248: UndefinedMetricWarning: Precision and F-score are ill-defined and being set to 0.0 in labels with no predicted samples. Use `zero_division` parameter to control this behavior.\n",
      "  _warn_prf(average, modifier, msg_start, len(result))\n",
      "/Users/juliajia/miniconda/envs/data-sci/lib/python3.9/site-packages/sklearn/metrics/_classification.py:1248: UndefinedMetricWarning: Precision and F-score are ill-defined and being set to 0.0 in labels with no predicted samples. Use `zero_division` parameter to control this behavior.\n",
      "  _warn_prf(average, modifier, msg_start, len(result))\n",
      "/Users/juliajia/miniconda/envs/data-sci/lib/python3.9/site-packages/sklearn/metrics/_classification.py:1248: UndefinedMetricWarning: Precision and F-score are ill-defined and being set to 0.0 in labels with no predicted samples. Use `zero_division` parameter to control this behavior.\n",
      "  _warn_prf(average, modifier, msg_start, len(result))\n"
     ]
    }
   ],
   "source": [
    "generate_report(y_test, y_pred, print_report=True);"
   ]
  },
  {
   "cell_type": "code",
   "execution_count": 15,
   "metadata": {},
   "outputs": [
    {
     "data": {
      "text/plain": [
       "0.23636363636363636"
      ]
     },
     "execution_count": 15,
     "metadata": {},
     "output_type": "execute_result"
    }
   ],
   "source": [
    "score = pipeline.score(X_test, y_test)\n",
    "score"
   ]
  },
  {
   "cell_type": "markdown",
   "metadata": {},
   "source": [
    "### 6. Improve your model\n",
    "Use grid search to find better parameters. "
   ]
  },
  {
   "cell_type": "code",
   "execution_count": 16,
   "metadata": {},
   "outputs": [
    {
     "data": {
      "text/plain": [
       "{'memory': None,\n",
       " 'steps': [('vect',\n",
       "   CountVectorizer(tokenizer=<function tokenize at 0x7fd680634e50>)),\n",
       "  ('tfidf', TfidfTransformer()),\n",
       "  ('clf',\n",
       "   MultiOutputClassifier(estimator=KNeighborsClassifier(n_neighbors=2), n_jobs=-1))],\n",
       " 'verbose': False,\n",
       " 'vect': CountVectorizer(tokenizer=<function tokenize at 0x7fd680634e50>),\n",
       " 'tfidf': TfidfTransformer(),\n",
       " 'clf': MultiOutputClassifier(estimator=KNeighborsClassifier(n_neighbors=2), n_jobs=-1),\n",
       " 'vect__analyzer': 'word',\n",
       " 'vect__binary': False,\n",
       " 'vect__decode_error': 'strict',\n",
       " 'vect__dtype': numpy.int64,\n",
       " 'vect__encoding': 'utf-8',\n",
       " 'vect__input': 'content',\n",
       " 'vect__lowercase': True,\n",
       " 'vect__max_df': 1.0,\n",
       " 'vect__max_features': None,\n",
       " 'vect__min_df': 1,\n",
       " 'vect__ngram_range': (1, 1),\n",
       " 'vect__preprocessor': None,\n",
       " 'vect__stop_words': None,\n",
       " 'vect__strip_accents': None,\n",
       " 'vect__token_pattern': '(?u)\\\\b\\\\w\\\\w+\\\\b',\n",
       " 'vect__tokenizer': <function __main__.tokenize(text)>,\n",
       " 'vect__vocabulary': None,\n",
       " 'tfidf__norm': 'l2',\n",
       " 'tfidf__smooth_idf': True,\n",
       " 'tfidf__sublinear_tf': False,\n",
       " 'tfidf__use_idf': True,\n",
       " 'clf__estimator__algorithm': 'auto',\n",
       " 'clf__estimator__leaf_size': 30,\n",
       " 'clf__estimator__metric': 'minkowski',\n",
       " 'clf__estimator__metric_params': None,\n",
       " 'clf__estimator__n_jobs': None,\n",
       " 'clf__estimator__n_neighbors': 2,\n",
       " 'clf__estimator__p': 2,\n",
       " 'clf__estimator__weights': 'uniform',\n",
       " 'clf__estimator': KNeighborsClassifier(n_neighbors=2),\n",
       " 'clf__n_jobs': -1}"
      ]
     },
     "execution_count": 16,
     "metadata": {},
     "output_type": "execute_result"
    }
   ],
   "source": [
    "# output all the parameters for tuning\n",
    "pipeline.get_params() "
   ]
  },
  {
   "cell_type": "code",
   "execution_count": 17,
   "metadata": {},
   "outputs": [],
   "source": [
    "# hyper-parameters search\n",
    "parameters = {\n",
    "                'vect__ngram_range': [(1, 1), (1, 2)],\n",
    "                'clf__estimator': [KNeighborsClassifier(n_neighbors=2), KNeighborsClassifier(n_neighbors=3)]\n",
    "             }\n",
    "\n",
    "cv = GridSearchCV(estimator=pipeline, param_grid=parameters, cv=2, verbose=3)"
   ]
  },
  {
   "cell_type": "code",
   "execution_count": 18,
   "metadata": {},
   "outputs": [
    {
     "name": "stdout",
     "output_type": "stream",
     "text": [
      "Fitting 2 folds for each of 4 candidates, totalling 8 fits\n",
      "[CV 1/2] END clf__estimator=KNeighborsClassifier(n_neighbors=2), vect__ngram_range=(1, 1);, score=0.260 total time=  22.2s\n",
      "[CV 2/2] END clf__estimator=KNeighborsClassifier(n_neighbors=2), vect__ngram_range=(1, 1);, score=0.263 total time=  22.2s\n",
      "[CV 1/2] END clf__estimator=KNeighborsClassifier(n_neighbors=2), vect__ngram_range=(1, 2);, score=0.251 total time=  22.6s\n",
      "[CV 2/2] END clf__estimator=KNeighborsClassifier(n_neighbors=2), vect__ngram_range=(1, 2);, score=0.253 total time=  22.3s\n",
      "[CV 1/2] END clf__estimator=KNeighborsClassifier(n_neighbors=3), vect__ngram_range=(1, 1);, score=0.212 total time=  20.6s\n",
      "[CV 2/2] END clf__estimator=KNeighborsClassifier(n_neighbors=3), vect__ngram_range=(1, 1);, score=0.211 total time=  20.7s\n",
      "[CV 1/2] END clf__estimator=KNeighborsClassifier(n_neighbors=3), vect__ngram_range=(1, 2);, score=0.213 total time=  22.1s\n",
      "[CV 2/2] END clf__estimator=KNeighborsClassifier(n_neighbors=3), vect__ngram_range=(1, 2);, score=0.211 total time=  21.9s\n"
     ]
    },
    {
     "data": {
      "text/plain": [
       "GridSearchCV(cv=2,\n",
       "             estimator=Pipeline(steps=[('vect',\n",
       "                                        CountVectorizer(tokenizer=<function tokenize at 0x7fd680634e50>)),\n",
       "                                       ('tfidf', TfidfTransformer()),\n",
       "                                       ('clf',\n",
       "                                        MultiOutputClassifier(estimator=KNeighborsClassifier(n_neighbors=2),\n",
       "                                                              n_jobs=-1))]),\n",
       "             param_grid={'clf__estimator': [KNeighborsClassifier(n_neighbors=2),\n",
       "                                            KNeighborsClassifier(n_neighbors=3)],\n",
       "                         'vect__ngram_range': [(1, 1), (1, 2)]},\n",
       "             verbose=3)"
      ]
     },
     "execution_count": 18,
     "metadata": {},
     "output_type": "execute_result"
    }
   ],
   "source": [
    "cv.fit(X_train, y_train)"
   ]
  },
  {
   "cell_type": "code",
   "execution_count": 19,
   "metadata": {},
   "outputs": [],
   "source": [
    "y_pred_tuned = cv.predict(X_test)"
   ]
  },
  {
   "cell_type": "markdown",
   "metadata": {},
   "source": [
    "### 7. Test your model\n",
    "Show the accuracy, precision, and recall of the tuned model.  \n",
    "\n",
    "Since this project focuses on code quality, process, and  pipelines, there is no minimum performance metric needed to pass. However, make sure to fine tune your models for accuracy, precision and recall to make your project stand out - especially for your portfolio!"
   ]
  },
  {
   "cell_type": "code",
   "execution_count": 20,
   "metadata": {},
   "outputs": [],
   "source": [
    "import train_classifier as tc"
   ]
  },
  {
   "cell_type": "code",
   "execution_count": 21,
   "metadata": {},
   "outputs": [],
   "source": [
    "database_filepath = '../data/disaster-response.db'\n",
    "\n",
    "X, y, category_names = tc.load_data(database_filepath, table_name='messages')"
   ]
  },
  {
   "cell_type": "code",
   "execution_count": 22,
   "metadata": {},
   "outputs": [],
   "source": [
    "X_train, X_test, y_train, y_test = train_test_split(X, y, test_size=0.3, random_state=42)"
   ]
  },
  {
   "cell_type": "code",
   "execution_count": 23,
   "metadata": {},
   "outputs": [],
   "source": [
    "score_tuned, reports_tuned = tc.evaluate_model(cv, X_test, y_test, category_names)"
   ]
  },
  {
   "cell_type": "code",
   "execution_count": 24,
   "metadata": {},
   "outputs": [],
   "source": [
    "score, reports = tc.evaluate_model(pipeline, X_test, y_test, category_names)"
   ]
  },
  {
   "cell_type": "markdown",
   "metadata": {},
   "source": [
    "### 8. Try improving your model further. Here are a few ideas:\n",
    "* try other machine learning algorithms\n",
    "* add other features besides the TF-IDF"
   ]
  },
  {
   "cell_type": "markdown",
   "metadata": {},
   "source": [
    "#### Adding feature to extract whether a sentence starting with a verb"
   ]
  },
  {
   "cell_type": "code",
   "execution_count": 25,
   "metadata": {},
   "outputs": [],
   "source": [
    "pipeline1 = Pipeline([\n",
    "        ('features', FeatureUnion([\n",
    "            ('nlp_pipeline', Pipeline([\n",
    "                ('vect', CountVectorizer(tokenizer=tokenize)),\n",
    "                ('tfidf', TfidfTransformer()),\n",
    "            ])),\n",
    "            ('start_verb', StartingVerbExtractor()),\n",
    "        ])),\n",
    "            ('clf', MultiOutputClassifier(KNeighborsClassifier(n_neighbors=3), n_jobs=-1)),\n",
    "        ]\n",
    "    ) "
   ]
  },
  {
   "cell_type": "code",
   "execution_count": 26,
   "metadata": {
    "scrolled": false
   },
   "outputs": [
    {
     "data": {
      "text/plain": [
       "{'memory': None,\n",
       " 'steps': [('features',\n",
       "   FeatureUnion(transformer_list=[('nlp_pipeline',\n",
       "                                   Pipeline(steps=[('vect',\n",
       "                                                    CountVectorizer(tokenizer=<function tokenize at 0x7fd680634e50>)),\n",
       "                                                   ('tfidf',\n",
       "                                                    TfidfTransformer())])),\n",
       "                                  ('start_verb', StartingVerbExtractor())])),\n",
       "  ('clf',\n",
       "   MultiOutputClassifier(estimator=KNeighborsClassifier(n_neighbors=3), n_jobs=-1))],\n",
       " 'verbose': False,\n",
       " 'features': FeatureUnion(transformer_list=[('nlp_pipeline',\n",
       "                                 Pipeline(steps=[('vect',\n",
       "                                                  CountVectorizer(tokenizer=<function tokenize at 0x7fd680634e50>)),\n",
       "                                                 ('tfidf',\n",
       "                                                  TfidfTransformer())])),\n",
       "                                ('start_verb', StartingVerbExtractor())]),\n",
       " 'clf': MultiOutputClassifier(estimator=KNeighborsClassifier(n_neighbors=3), n_jobs=-1),\n",
       " 'features__n_jobs': None,\n",
       " 'features__transformer_list': [('nlp_pipeline',\n",
       "   Pipeline(steps=[('vect',\n",
       "                    CountVectorizer(tokenizer=<function tokenize at 0x7fd680634e50>)),\n",
       "                   ('tfidf', TfidfTransformer())])),\n",
       "  ('start_verb', StartingVerbExtractor())],\n",
       " 'features__transformer_weights': None,\n",
       " 'features__verbose': False,\n",
       " 'features__nlp_pipeline': Pipeline(steps=[('vect',\n",
       "                  CountVectorizer(tokenizer=<function tokenize at 0x7fd680634e50>)),\n",
       "                 ('tfidf', TfidfTransformer())]),\n",
       " 'features__start_verb': StartingVerbExtractor(),\n",
       " 'features__nlp_pipeline__memory': None,\n",
       " 'features__nlp_pipeline__steps': [('vect',\n",
       "   CountVectorizer(tokenizer=<function tokenize at 0x7fd680634e50>)),\n",
       "  ('tfidf', TfidfTransformer())],\n",
       " 'features__nlp_pipeline__verbose': False,\n",
       " 'features__nlp_pipeline__vect': CountVectorizer(tokenizer=<function tokenize at 0x7fd680634e50>),\n",
       " 'features__nlp_pipeline__tfidf': TfidfTransformer(),\n",
       " 'features__nlp_pipeline__vect__analyzer': 'word',\n",
       " 'features__nlp_pipeline__vect__binary': False,\n",
       " 'features__nlp_pipeline__vect__decode_error': 'strict',\n",
       " 'features__nlp_pipeline__vect__dtype': numpy.int64,\n",
       " 'features__nlp_pipeline__vect__encoding': 'utf-8',\n",
       " 'features__nlp_pipeline__vect__input': 'content',\n",
       " 'features__nlp_pipeline__vect__lowercase': True,\n",
       " 'features__nlp_pipeline__vect__max_df': 1.0,\n",
       " 'features__nlp_pipeline__vect__max_features': None,\n",
       " 'features__nlp_pipeline__vect__min_df': 1,\n",
       " 'features__nlp_pipeline__vect__ngram_range': (1, 1),\n",
       " 'features__nlp_pipeline__vect__preprocessor': None,\n",
       " 'features__nlp_pipeline__vect__stop_words': None,\n",
       " 'features__nlp_pipeline__vect__strip_accents': None,\n",
       " 'features__nlp_pipeline__vect__token_pattern': '(?u)\\\\b\\\\w\\\\w+\\\\b',\n",
       " 'features__nlp_pipeline__vect__tokenizer': <function __main__.tokenize(text)>,\n",
       " 'features__nlp_pipeline__vect__vocabulary': None,\n",
       " 'features__nlp_pipeline__tfidf__norm': 'l2',\n",
       " 'features__nlp_pipeline__tfidf__smooth_idf': True,\n",
       " 'features__nlp_pipeline__tfidf__sublinear_tf': False,\n",
       " 'features__nlp_pipeline__tfidf__use_idf': True,\n",
       " 'clf__estimator__algorithm': 'auto',\n",
       " 'clf__estimator__leaf_size': 30,\n",
       " 'clf__estimator__metric': 'minkowski',\n",
       " 'clf__estimator__metric_params': None,\n",
       " 'clf__estimator__n_jobs': None,\n",
       " 'clf__estimator__n_neighbors': 3,\n",
       " 'clf__estimator__p': 2,\n",
       " 'clf__estimator__weights': 'uniform',\n",
       " 'clf__estimator': KNeighborsClassifier(n_neighbors=3),\n",
       " 'clf__n_jobs': -1}"
      ]
     },
     "execution_count": 26,
     "metadata": {},
     "output_type": "execute_result"
    }
   ],
   "source": [
    "# retrieve the parameters again\n",
    "pipeline1.get_params()"
   ]
  },
  {
   "cell_type": "code",
   "execution_count": 27,
   "metadata": {},
   "outputs": [
    {
     "data": {
      "text/plain": [
       "FeatureUnion(transformer_list=[('nlp_pipeline',\n",
       "                                Pipeline(steps=[('vect',\n",
       "                                                 CountVectorizer(tokenizer=<function tokenize at 0x7fd680634e50>)),\n",
       "                                                ('tfidf',\n",
       "                                                 TfidfTransformer())])),\n",
       "                               ('start_verb', StartingVerbExtractor())])"
      ]
     },
     "execution_count": 27,
     "metadata": {},
     "output_type": "execute_result"
    }
   ],
   "source": [
    "pipeline1['features']"
   ]
  },
  {
   "cell_type": "code",
   "execution_count": 28,
   "metadata": {},
   "outputs": [],
   "source": [
    "model_starting_verb = tc.build_model()"
   ]
  },
  {
   "cell_type": "code",
   "execution_count": 29,
   "metadata": {},
   "outputs": [
    {
     "data": {
      "text/plain": [
       "GridSearchCV(cv=2,\n",
       "             estimator=Pipeline(steps=[('features',\n",
       "                                        FeatureUnion(transformer_list=[('nlp_pipeline',\n",
       "                                                                        Pipeline(steps=[('vect',\n",
       "                                                                                         CountVectorizer(tokenizer=<function tokenize at 0x7fd6b28921f0>)),\n",
       "                                                                                        ('tfidf',\n",
       "                                                                                         TfidfTransformer())])),\n",
       "                                                                       ('start_verb',\n",
       "                                                                        StartingVerbExtractor())])),\n",
       "                                       ('clf',\n",
       "                                        MultiOutputClassifier(estimator=KNeighborsClassifier(n_neighbors=2),\n",
       "                                                              n_jobs=-1))]),\n",
       "             param_grid={'clf__estimator': [KNeighborsClassifier(n_neighbors=2),\n",
       "                                            KNeighborsClassifier(n_neighbors=3)],\n",
       "                         'features__nlp_pipeline__vect__ngram_range': [(1, 1),\n",
       "                                                                       (1, 2)]},\n",
       "             verbose=3)"
      ]
     },
     "execution_count": 29,
     "metadata": {},
     "output_type": "execute_result"
    }
   ],
   "source": [
    "model_starting_verb"
   ]
  },
  {
   "cell_type": "code",
   "execution_count": null,
   "metadata": {},
   "outputs": [
    {
     "name": "stdout",
     "output_type": "stream",
     "text": [
      "Fitting 2 folds for each of 4 candidates, totalling 8 fits\n",
      "[CV 1/2] END clf__estimator=KNeighborsClassifier(n_neighbors=2), features__nlp_pipeline__vect__ngram_range=(1, 1);, score=0.258 total time=  41.3s\n",
      "[CV 2/2] END clf__estimator=KNeighborsClassifier(n_neighbors=2), features__nlp_pipeline__vect__ngram_range=(1, 1);, score=0.261 total time=  41.7s\n"
     ]
    }
   ],
   "source": [
    "model_starting_verb.fit(X_train, y_train)"
   ]
  },
  {
   "cell_type": "code",
   "execution_count": null,
   "metadata": {
    "scrolled": false
   },
   "outputs": [],
   "source": [
    "score_starting_verb, reports_starting_verb = tc.evaluate_model(model_starting_verb, X_test, y_test, category_names, print_report=True)\n"
   ]
  },
  {
   "cell_type": "markdown",
   "metadata": {},
   "source": [
    "#### Use different algorithm\n",
    "\n",
    "https://towardsdatascience.com/journey-to-the-center-of-multi-label-classification-384c40229bff"
   ]
  },
  {
   "cell_type": "markdown",
   "metadata": {},
   "source": [
    "### 9. Export your model as a pickle file"
   ]
  },
  {
   "cell_type": "code",
   "execution_count": null,
   "metadata": {},
   "outputs": [],
   "source": [
    "# mdoel persistence, https://scikit-learn.org/stable/modules/model_persistence.html\n",
    "\n",
    "dump(cv, 'disaster-response.joblib') "
   ]
  },
  {
   "cell_type": "code",
   "execution_count": null,
   "metadata": {},
   "outputs": [],
   "source": [
    "from joblib import load\n",
    "model = load(\"disaster-response.pkl\")"
   ]
  },
  {
   "cell_type": "markdown",
   "metadata": {},
   "source": [
    "### 10. Use this notebook to complete `train.py`\n",
    "Use the template file attached in the Resources folder to write a script that runs the steps above to create a database and export a model based on a new dataset specified by the user."
   ]
  }
 ],
 "metadata": {
  "kernelspec": {
   "display_name": "Python 3",
   "language": "python",
   "name": "python3"
  },
  "language_info": {
   "codemirror_mode": {
    "name": "ipython",
    "version": 3
   },
   "file_extension": ".py",
   "mimetype": "text/x-python",
   "name": "python",
   "nbconvert_exporter": "python",
   "pygments_lexer": "ipython3",
   "version": "3.9.4"
  },
  "toc": {
   "base_numbering": 1,
   "nav_menu": {},
   "number_sections": true,
   "sideBar": true,
   "skip_h1_title": false,
   "title_cell": "Table of Contents",
   "title_sidebar": "Contents",
   "toc_cell": false,
   "toc_position": {},
   "toc_section_display": true,
   "toc_window_display": false
  }
 },
 "nbformat": 4,
 "nbformat_minor": 2
}
