{
 "cells": [
  {
   "cell_type": "markdown",
   "metadata": {},
   "source": [
    "# Modeling the Offer Response\n",
    "\n",
    "## Introduction\n",
    "\n",
    "Starbucks engages customers by sending them various offers regularly. How do we know which demographic groups respond best to which offer type? In the simulated dataset, we have 10 different offers and with varying level of responses. Our task is to combine transaction, demographic and offer data to train a binary classifier to predict whether or not an customer will respond to an offer.\n",
    "\n",
    "From the project introduction, we know that the `offer completed` is not necessarily an accurate indicator on whether a customer responds to an offer because customer can \"complete\" offer without receiving nor viewing offer. The data preprocessing and cleaning present a great challenge. After analyzing existing data, here are the two sceniaros that an offer is considered as respondended:\n",
    "\n",
    "- For an information offer, it is reviewed and purcahse is made during offer period. \n",
    "- For a discount or bogo offer, it is considered as responded if there are \"offer completed\" events and purchase made during the offer period. \n",
    "\n",
    "The offer period starts when a customer receives an offer and ends when it duration expires, i.e. offer period equals the offer receiving time plus its duration. In the case that the same offer has been sent to the customer, the offer starts with the first time when customer recieves it and ends when the last offer expires. \n",
    "\n",
    "The predictive modeling is based on algorithm and support from sklearn. "
   ]
  },
  {
   "cell_type": "code",
   "execution_count": 1,
   "metadata": {
    "tags": []
   },
   "outputs": [],
   "source": [
    "%load_ext autoreload\n",
    "%autoreload 2"
   ]
  },
  {
   "cell_type": "code",
   "execution_count": 2,
   "metadata": {
    "tags": []
   },
   "outputs": [],
   "source": [
    "import pandas as pd\n",
    "import numpy as np\n",
    "import math\n",
    "import json\n",
    "import matplotlib.pyplot as plt\n",
    "from datetime import datetime\n",
    "import seaborn as sns\n",
    "%matplotlib inline\n",
    "\n",
    "from sklearn.model_selection import train_test_split, StratifiedKFold\n",
    "from sklearn.preprocessing import StandardScaler, MinMaxScaler\n",
    "from sklearn.model_selection import GridSearchCV\n",
    "from sklearn.linear_model import LogisticRegression\n",
    "from sklearn.ensemble import RandomForestClassifier, AdaBoostClassifier, GradientBoostingClassifier\n",
    "from sklearn.utils.multiclass import unique_labels\n",
    "from sklearn.metrics import f1_score, precision_score, recall_score, confusion_matrix\n",
    "import time\n",
    "\n",
    "import inspect as i\n",
    "\n",
    "# Add pipelines to path for python modules\n",
    "import sys; sys.path.insert(0, '../pipelines')\n",
    "\n",
    "import data_processing.util as util\n",
    "import data_processing.offer_response as dpofferresp\n",
    "import offer_response.features as offerfe\n",
    "import offer_response.model as offerm"
   ]
  },
  {
   "cell_type": "markdown",
   "metadata": {},
   "source": [
    "# Input Datasets\n",
    "\n",
    "The feature dataset will be built from 3 previously processed databsets. Here are the quick look of them. "
   ]
  },
  {
   "cell_type": "code",
   "execution_count": 3,
   "metadata": {},
   "outputs": [
    {
     "data": {
      "text/html": [
       "<div>\n",
       "<style scoped>\n",
       "    .dataframe tbody tr th:only-of-type {\n",
       "        vertical-align: middle;\n",
       "    }\n",
       "\n",
       "    .dataframe tbody tr th {\n",
       "        vertical-align: top;\n",
       "    }\n",
       "\n",
       "    .dataframe thead th {\n",
       "        text-align: right;\n",
       "    }\n",
       "</style>\n",
       "<table border=\"1\" class=\"dataframe\">\n",
       "  <thead>\n",
       "    <tr style=\"text-align: right;\">\n",
       "      <th></th>\n",
       "      <th>offer_reward</th>\n",
       "      <th>difficulty</th>\n",
       "      <th>duration</th>\n",
       "      <th>offer_id</th>\n",
       "      <th>web_ch</th>\n",
       "      <th>num_channels</th>\n",
       "      <th>email_ch</th>\n",
       "      <th>social_ch</th>\n",
       "      <th>mobile_ch</th>\n",
       "      <th>bogo</th>\n",
       "      <th>discount</th>\n",
       "      <th>informational</th>\n",
       "    </tr>\n",
       "  </thead>\n",
       "  <tbody>\n",
       "    <tr>\n",
       "      <th>0</th>\n",
       "      <td>10</td>\n",
       "      <td>10</td>\n",
       "      <td>168</td>\n",
       "      <td>ae264e3637204a6fb9bb56bc8210ddfd</td>\n",
       "      <td>0</td>\n",
       "      <td>3</td>\n",
       "      <td>1</td>\n",
       "      <td>1</td>\n",
       "      <td>1</td>\n",
       "      <td>1</td>\n",
       "      <td>0</td>\n",
       "      <td>0</td>\n",
       "    </tr>\n",
       "    <tr>\n",
       "      <th>1</th>\n",
       "      <td>10</td>\n",
       "      <td>10</td>\n",
       "      <td>120</td>\n",
       "      <td>4d5c57ea9a6940dd891ad53e9dbe8da0</td>\n",
       "      <td>1</td>\n",
       "      <td>4</td>\n",
       "      <td>1</td>\n",
       "      <td>1</td>\n",
       "      <td>1</td>\n",
       "      <td>1</td>\n",
       "      <td>0</td>\n",
       "      <td>0</td>\n",
       "    </tr>\n",
       "    <tr>\n",
       "      <th>2</th>\n",
       "      <td>0</td>\n",
       "      <td>0</td>\n",
       "      <td>96</td>\n",
       "      <td>3f207df678b143eea3cee63160fa8bed</td>\n",
       "      <td>1</td>\n",
       "      <td>3</td>\n",
       "      <td>1</td>\n",
       "      <td>0</td>\n",
       "      <td>1</td>\n",
       "      <td>0</td>\n",
       "      <td>0</td>\n",
       "      <td>1</td>\n",
       "    </tr>\n",
       "    <tr>\n",
       "      <th>3</th>\n",
       "      <td>5</td>\n",
       "      <td>5</td>\n",
       "      <td>168</td>\n",
       "      <td>9b98b8c7a33c4b65b9aebfe6a799e6d9</td>\n",
       "      <td>1</td>\n",
       "      <td>3</td>\n",
       "      <td>1</td>\n",
       "      <td>0</td>\n",
       "      <td>1</td>\n",
       "      <td>1</td>\n",
       "      <td>0</td>\n",
       "      <td>0</td>\n",
       "    </tr>\n",
       "    <tr>\n",
       "      <th>4</th>\n",
       "      <td>5</td>\n",
       "      <td>20</td>\n",
       "      <td>240</td>\n",
       "      <td>0b1e1539f2cc45b7b9fa7c272da2e1d7</td>\n",
       "      <td>1</td>\n",
       "      <td>2</td>\n",
       "      <td>1</td>\n",
       "      <td>0</td>\n",
       "      <td>0</td>\n",
       "      <td>0</td>\n",
       "      <td>1</td>\n",
       "      <td>0</td>\n",
       "    </tr>\n",
       "  </tbody>\n",
       "</table>\n",
       "</div>"
      ],
      "text/plain": [
       "   offer_reward  difficulty  duration                          offer_id  \\\n",
       "0            10          10       168  ae264e3637204a6fb9bb56bc8210ddfd   \n",
       "1            10          10       120  4d5c57ea9a6940dd891ad53e9dbe8da0   \n",
       "2             0           0        96  3f207df678b143eea3cee63160fa8bed   \n",
       "3             5           5       168  9b98b8c7a33c4b65b9aebfe6a799e6d9   \n",
       "4             5          20       240  0b1e1539f2cc45b7b9fa7c272da2e1d7   \n",
       "\n",
       "   web_ch  num_channels  email_ch  social_ch  mobile_ch  bogo  discount  \\\n",
       "0       0             3         1          1          1     1         0   \n",
       "1       1             4         1          1          1     1         0   \n",
       "2       1             3         1          0          1     0         0   \n",
       "3       1             3         1          0          1     1         0   \n",
       "4       1             2         1          0          0     0         1   \n",
       "\n",
       "   informational  \n",
       "0              0  \n",
       "1              0  \n",
       "2              1  \n",
       "3              0  \n",
       "4              0  "
      ]
     },
     "execution_count": 3,
     "metadata": {},
     "output_type": "execute_result"
    }
   ],
   "source": [
    "# portfolio\n",
    "portfolio_df = util.load_pkl('../data/1_interim/portfolio.pkl')\n",
    "portfolio_df.head()"
   ]
  },
  {
   "cell_type": "code",
   "execution_count": 4,
   "metadata": {},
   "outputs": [
    {
     "data": {
      "text/html": [
       "<div>\n",
       "<style scoped>\n",
       "    .dataframe tbody tr th:only-of-type {\n",
       "        vertical-align: middle;\n",
       "    }\n",
       "\n",
       "    .dataframe tbody tr th {\n",
       "        vertical-align: top;\n",
       "    }\n",
       "\n",
       "    .dataframe thead th {\n",
       "        text-align: right;\n",
       "    }\n",
       "</style>\n",
       "<table border=\"1\" class=\"dataframe\">\n",
       "  <thead>\n",
       "    <tr style=\"text-align: right;\">\n",
       "      <th></th>\n",
       "      <th>gender</th>\n",
       "      <th>age</th>\n",
       "      <th>customer_id</th>\n",
       "      <th>income</th>\n",
       "      <th>became_member_year</th>\n",
       "      <th>became_member_month</th>\n",
       "      <th>membership_length</th>\n",
       "      <th>became_member_year_2013</th>\n",
       "      <th>became_member_year_2014</th>\n",
       "      <th>became_member_year_2015</th>\n",
       "      <th>...</th>\n",
       "      <th>income_40K</th>\n",
       "      <th>income_50K</th>\n",
       "      <th>income_60K</th>\n",
       "      <th>income_70K</th>\n",
       "      <th>income_80K</th>\n",
       "      <th>income_90K</th>\n",
       "      <th>income_100K</th>\n",
       "      <th>income_110K</th>\n",
       "      <th>income_120K</th>\n",
       "      <th>income_130K</th>\n",
       "    </tr>\n",
       "  </thead>\n",
       "  <tbody>\n",
       "    <tr>\n",
       "      <th>1</th>\n",
       "      <td>F</td>\n",
       "      <td>55</td>\n",
       "      <td>0610b486422d4921ae7d2bf64640c50b</td>\n",
       "      <td>112000.0</td>\n",
       "      <td>2017</td>\n",
       "      <td>7</td>\n",
       "      <td>1513</td>\n",
       "      <td>0</td>\n",
       "      <td>0</td>\n",
       "      <td>0</td>\n",
       "      <td>...</td>\n",
       "      <td>0</td>\n",
       "      <td>0</td>\n",
       "      <td>0</td>\n",
       "      <td>0</td>\n",
       "      <td>0</td>\n",
       "      <td>0</td>\n",
       "      <td>0</td>\n",
       "      <td>1</td>\n",
       "      <td>0</td>\n",
       "      <td>0</td>\n",
       "    </tr>\n",
       "    <tr>\n",
       "      <th>3</th>\n",
       "      <td>F</td>\n",
       "      <td>75</td>\n",
       "      <td>78afa995795e4d85b5d9ceeca43f5fef</td>\n",
       "      <td>100000.0</td>\n",
       "      <td>2017</td>\n",
       "      <td>5</td>\n",
       "      <td>1580</td>\n",
       "      <td>0</td>\n",
       "      <td>0</td>\n",
       "      <td>0</td>\n",
       "      <td>...</td>\n",
       "      <td>0</td>\n",
       "      <td>0</td>\n",
       "      <td>0</td>\n",
       "      <td>0</td>\n",
       "      <td>0</td>\n",
       "      <td>0</td>\n",
       "      <td>1</td>\n",
       "      <td>0</td>\n",
       "      <td>0</td>\n",
       "      <td>0</td>\n",
       "    </tr>\n",
       "    <tr>\n",
       "      <th>5</th>\n",
       "      <td>M</td>\n",
       "      <td>68</td>\n",
       "      <td>e2127556f4f64592b11af22de27a7932</td>\n",
       "      <td>70000.0</td>\n",
       "      <td>2018</td>\n",
       "      <td>4</td>\n",
       "      <td>1228</td>\n",
       "      <td>0</td>\n",
       "      <td>0</td>\n",
       "      <td>0</td>\n",
       "      <td>...</td>\n",
       "      <td>0</td>\n",
       "      <td>0</td>\n",
       "      <td>0</td>\n",
       "      <td>1</td>\n",
       "      <td>0</td>\n",
       "      <td>0</td>\n",
       "      <td>0</td>\n",
       "      <td>0</td>\n",
       "      <td>0</td>\n",
       "      <td>0</td>\n",
       "    </tr>\n",
       "    <tr>\n",
       "      <th>8</th>\n",
       "      <td>M</td>\n",
       "      <td>65</td>\n",
       "      <td>389bc3fa690240e798340f5a15918d5c</td>\n",
       "      <td>53000.0</td>\n",
       "      <td>2018</td>\n",
       "      <td>2</td>\n",
       "      <td>1304</td>\n",
       "      <td>0</td>\n",
       "      <td>0</td>\n",
       "      <td>0</td>\n",
       "      <td>...</td>\n",
       "      <td>0</td>\n",
       "      <td>1</td>\n",
       "      <td>0</td>\n",
       "      <td>0</td>\n",
       "      <td>0</td>\n",
       "      <td>0</td>\n",
       "      <td>0</td>\n",
       "      <td>0</td>\n",
       "      <td>0</td>\n",
       "      <td>0</td>\n",
       "    </tr>\n",
       "    <tr>\n",
       "      <th>12</th>\n",
       "      <td>M</td>\n",
       "      <td>58</td>\n",
       "      <td>2eeac8d8feae4a8cad5a6af0499a211d</td>\n",
       "      <td>51000.0</td>\n",
       "      <td>2017</td>\n",
       "      <td>11</td>\n",
       "      <td>1394</td>\n",
       "      <td>0</td>\n",
       "      <td>0</td>\n",
       "      <td>0</td>\n",
       "      <td>...</td>\n",
       "      <td>0</td>\n",
       "      <td>1</td>\n",
       "      <td>0</td>\n",
       "      <td>0</td>\n",
       "      <td>0</td>\n",
       "      <td>0</td>\n",
       "      <td>0</td>\n",
       "      <td>0</td>\n",
       "      <td>0</td>\n",
       "      <td>0</td>\n",
       "    </tr>\n",
       "  </tbody>\n",
       "</table>\n",
       "<p>5 rows × 49 columns</p>\n",
       "</div>"
      ],
      "text/plain": [
       "   gender  age                       customer_id    income  \\\n",
       "1       F   55  0610b486422d4921ae7d2bf64640c50b  112000.0   \n",
       "3       F   75  78afa995795e4d85b5d9ceeca43f5fef  100000.0   \n",
       "5       M   68  e2127556f4f64592b11af22de27a7932   70000.0   \n",
       "8       M   65  389bc3fa690240e798340f5a15918d5c   53000.0   \n",
       "12      M   58  2eeac8d8feae4a8cad5a6af0499a211d   51000.0   \n",
       "\n",
       "    became_member_year  became_member_month  membership_length  \\\n",
       "1                 2017                    7               1513   \n",
       "3                 2017                    5               1580   \n",
       "5                 2018                    4               1228   \n",
       "8                 2018                    2               1304   \n",
       "12                2017                   11               1394   \n",
       "\n",
       "    became_member_year_2013  became_member_year_2014  became_member_year_2015  \\\n",
       "1                         0                        0                        0   \n",
       "3                         0                        0                        0   \n",
       "5                         0                        0                        0   \n",
       "8                         0                        0                        0   \n",
       "12                        0                        0                        0   \n",
       "\n",
       "    ...  income_40K  income_50K  income_60K  income_70K  income_80K  \\\n",
       "1   ...           0           0           0           0           0   \n",
       "3   ...           0           0           0           0           0   \n",
       "5   ...           0           0           0           1           0   \n",
       "8   ...           0           1           0           0           0   \n",
       "12  ...           0           1           0           0           0   \n",
       "\n",
       "    income_90K  income_100K  income_110K  income_120K  income_130K  \n",
       "1            0            0            1            0            0  \n",
       "3            0            1            0            0            0  \n",
       "5            0            0            0            0            0  \n",
       "8            0            0            0            0            0  \n",
       "12           0            0            0            0            0  \n",
       "\n",
       "[5 rows x 49 columns]"
      ]
     },
     "execution_count": 4,
     "metadata": {},
     "output_type": "execute_result"
    }
   ],
   "source": [
    "# profile\n",
    "profile_df = util.load_pkl('../data/1_interim/profile.pkl')\n",
    "profile_df.drop('became_member_on', axis=1, inplace=True)\n",
    "profile_df.head()"
   ]
  },
  {
   "cell_type": "code",
   "execution_count": 5,
   "metadata": {
    "tags": []
   },
   "outputs": [
    {
     "data": {
      "text/plain": [
       "Index(['gender', 'age', 'customer_id', 'income', 'became_member_year',\n",
       "       'became_member_month', 'membership_length', 'became_member_year_2013',\n",
       "       'became_member_year_2014', 'became_member_year_2015',\n",
       "       'became_member_year_2016', 'became_member_year_2017',\n",
       "       'became_member_year_2018', 'became_member_month_1',\n",
       "       'became_member_month_2', 'became_member_month_3',\n",
       "       'became_member_month_4', 'became_member_month_5',\n",
       "       'became_member_month_6', 'became_member_month_7',\n",
       "       'became_member_month_8', 'became_member_month_9',\n",
       "       'became_member_month_10', 'became_member_month_11',\n",
       "       'became_member_month_12', 'F', 'M', 'O', 'age_10s', 'age_20s',\n",
       "       'age_30s', 'age_40s', 'age_50s', 'age_60s', 'age_70s', 'age_80s',\n",
       "       'age_90s', 'age_100s', 'income_30K', 'income_40K', 'income_50K',\n",
       "       'income_60K', 'income_70K', 'income_80K', 'income_90K', 'income_100K',\n",
       "       'income_110K', 'income_120K', 'income_130K'],\n",
       "      dtype='object')"
      ]
     },
     "execution_count": 5,
     "metadata": {},
     "output_type": "execute_result"
    }
   ],
   "source": [
    "profile_df.columns"
   ]
  },
  {
   "cell_type": "code",
   "execution_count": 6,
   "metadata": {},
   "outputs": [
    {
     "data": {
      "text/html": [
       "<div>\n",
       "<style scoped>\n",
       "    .dataframe tbody tr th:only-of-type {\n",
       "        vertical-align: middle;\n",
       "    }\n",
       "\n",
       "    .dataframe tbody tr th {\n",
       "        vertical-align: top;\n",
       "    }\n",
       "\n",
       "    .dataframe thead th {\n",
       "        text-align: right;\n",
       "    }\n",
       "</style>\n",
       "<table border=\"1\" class=\"dataframe\">\n",
       "  <thead>\n",
       "    <tr style=\"text-align: right;\">\n",
       "      <th></th>\n",
       "      <th>customer_id</th>\n",
       "      <th>event</th>\n",
       "      <th>time</th>\n",
       "      <th>offer_id</th>\n",
       "      <th>reward</th>\n",
       "      <th>amount</th>\n",
       "      <th>offer completed</th>\n",
       "      <th>offer received</th>\n",
       "      <th>offer viewed</th>\n",
       "      <th>transaction</th>\n",
       "    </tr>\n",
       "  </thead>\n",
       "  <tbody>\n",
       "    <tr>\n",
       "      <th>0</th>\n",
       "      <td>78afa995795e4d85b5d9ceeca43f5fef</td>\n",
       "      <td>offer received</td>\n",
       "      <td>0</td>\n",
       "      <td>9b98b8c7a33c4b65b9aebfe6a799e6d9</td>\n",
       "      <td>0.0</td>\n",
       "      <td>0.0</td>\n",
       "      <td>0</td>\n",
       "      <td>1</td>\n",
       "      <td>0</td>\n",
       "      <td>0</td>\n",
       "    </tr>\n",
       "    <tr>\n",
       "      <th>1</th>\n",
       "      <td>a03223e636434f42ac4c3df47e8bac43</td>\n",
       "      <td>offer received</td>\n",
       "      <td>0</td>\n",
       "      <td>0b1e1539f2cc45b7b9fa7c272da2e1d7</td>\n",
       "      <td>0.0</td>\n",
       "      <td>0.0</td>\n",
       "      <td>0</td>\n",
       "      <td>1</td>\n",
       "      <td>0</td>\n",
       "      <td>0</td>\n",
       "    </tr>\n",
       "    <tr>\n",
       "      <th>2</th>\n",
       "      <td>e2127556f4f64592b11af22de27a7932</td>\n",
       "      <td>offer received</td>\n",
       "      <td>0</td>\n",
       "      <td>2906b810c7d4411798c6938adc9daaa5</td>\n",
       "      <td>0.0</td>\n",
       "      <td>0.0</td>\n",
       "      <td>0</td>\n",
       "      <td>1</td>\n",
       "      <td>0</td>\n",
       "      <td>0</td>\n",
       "    </tr>\n",
       "    <tr>\n",
       "      <th>3</th>\n",
       "      <td>8ec6ce2a7e7949b1bf142def7d0e0586</td>\n",
       "      <td>offer received</td>\n",
       "      <td>0</td>\n",
       "      <td>fafdcd668e3743c1bb461111dcafc2a4</td>\n",
       "      <td>0.0</td>\n",
       "      <td>0.0</td>\n",
       "      <td>0</td>\n",
       "      <td>1</td>\n",
       "      <td>0</td>\n",
       "      <td>0</td>\n",
       "    </tr>\n",
       "    <tr>\n",
       "      <th>4</th>\n",
       "      <td>68617ca6246f4fbc85e91a2a49552598</td>\n",
       "      <td>offer received</td>\n",
       "      <td>0</td>\n",
       "      <td>4d5c57ea9a6940dd891ad53e9dbe8da0</td>\n",
       "      <td>0.0</td>\n",
       "      <td>0.0</td>\n",
       "      <td>0</td>\n",
       "      <td>1</td>\n",
       "      <td>0</td>\n",
       "      <td>0</td>\n",
       "    </tr>\n",
       "  </tbody>\n",
       "</table>\n",
       "</div>"
      ],
      "text/plain": [
       "                        customer_id           event  time  \\\n",
       "0  78afa995795e4d85b5d9ceeca43f5fef  offer received     0   \n",
       "1  a03223e636434f42ac4c3df47e8bac43  offer received     0   \n",
       "2  e2127556f4f64592b11af22de27a7932  offer received     0   \n",
       "3  8ec6ce2a7e7949b1bf142def7d0e0586  offer received     0   \n",
       "4  68617ca6246f4fbc85e91a2a49552598  offer received     0   \n",
       "\n",
       "                           offer_id  reward  amount  offer completed  \\\n",
       "0  9b98b8c7a33c4b65b9aebfe6a799e6d9     0.0     0.0                0   \n",
       "1  0b1e1539f2cc45b7b9fa7c272da2e1d7     0.0     0.0                0   \n",
       "2  2906b810c7d4411798c6938adc9daaa5     0.0     0.0                0   \n",
       "3  fafdcd668e3743c1bb461111dcafc2a4     0.0     0.0                0   \n",
       "4  4d5c57ea9a6940dd891ad53e9dbe8da0     0.0     0.0                0   \n",
       "\n",
       "   offer received  offer viewed  transaction  \n",
       "0               1             0            0  \n",
       "1               1             0            0  \n",
       "2               1             0            0  \n",
       "3               1             0            0  \n",
       "4               1             0            0  "
      ]
     },
     "execution_count": 6,
     "metadata": {},
     "output_type": "execute_result"
    }
   ],
   "source": [
    "# transcript\n",
    "transcript_df = util.load_pkl('../data/1_interim/transcript.pkl')\n",
    "transcript_df.head()"
   ]
  },
  {
   "cell_type": "markdown",
   "metadata": {
    "tags": []
   },
   "source": [
    "## Feature extraction\n",
    "\n",
    "Even though the transcript dataset contains info for offers and transactions that the customer made, it is not organized by customer and offer thus not directly usable. In addtion, we'll need create labels for modeling, i.e. a column of **responded**. for a combination of a customer and an offer. To do that, we'll  need to extract purchase made during the offer period. If we look at this from software development perspective, these are really three domain entities; customers, offers and transctions. To separate \"offers\" and \"transctions\" in transcript data, we can rely on the `event` column. If the value of event is 'offer received', 'offer viewed' or 'offer completed', it belongs to offers dataset, otherwise, it goes to transctions. The percentage of these events are following:"
   ]
  },
  {
   "cell_type": "code",
   "execution_count": 7,
   "metadata": {
    "tags": []
   },
   "outputs": [
    {
     "data": {
      "text/plain": [
       "transaction        45.33\n",
       "offer received     24.88\n",
       "offer viewed       18.83\n",
       "offer completed    10.95\n",
       "Name: event, dtype: float64"
      ]
     },
     "execution_count": 7,
     "metadata": {},
     "output_type": "execute_result"
    }
   ],
   "source": [
    "# the percentage of unique events in transcript\n",
    "round((transcript_df['event'].value_counts()/transcript_df.shape[0])*100,2)"
   ]
  },
  {
   "cell_type": "markdown",
   "metadata": {},
   "source": [
    "The **transactions** are asscoiated with customers i.e. doesn't have offer id. The general stragety is to extract the customer ids in the offers dataset, iterate offers by a customer to process transactions.  Cacluating the offer period then use it to filter the transctions associated to determine whether an offer is responded. The feature extraction logic is implemented in data_processing.offer_response **combine** method. "
   ]
  },
  {
   "cell_type": "code",
   "execution_count": 8,
   "metadata": {
    "tags": []
   },
   "outputs": [
    {
     "name": "stdout",
     "output_type": "stream",
     "text": [
      "def combine(portfolio_df, profile_df, transcript_df):\n",
      "    \"\"\"Create a combined dataframe from the transaction, demographic and offer data:\n",
      "    \n",
      "    Args:\n",
      "        portfolio_df - a preprocessed panda dataframe contains offer metadata\n",
      "        profile_df - a preprocessed panda dataframe contains customer demographic data\n",
      "        transcript_df - a preprocessed panda dataframe contains transcript data\n",
      "        \n",
      "    Returns:\n",
      "        combined_df - (dataframe),combined data from transaction, demographic and offer data\n",
      "        \n",
      "    \"\"\"\n",
      "\n",
      "    offers_df, transactions_df = dptrans.separate_offers_transactions(\n",
      "        transcript_df)\n",
      "\n",
      "    # aggregate transcript data by customer and offer\n",
      "    aggd_df = dptrans.agg_offer_events(offers_df)\n",
      "    print(f'aggd_df shape:{aggd_df.shape}')\n",
      "\n",
      "    # add offer meta info to aggd\n",
      "    combined_df = pd.merge(aggd_df, portfolio_df, on='offer_id', how='left')\n",
      "\n",
      "    # capture customer's responses offers\n",
      "    offer_response = []\n",
      "    # transaction made within offer valid period\n",
      "    tran_amount_in_period = []\n",
      "\n",
      "    pbar = tqdm(total=aggd_df.shape[0])\n",
      "\n",
      "    for i, row in combined_df.iterrows():\n",
      "        if i % 100 == 0:\n",
      "            pbar.update(100)\n",
      "\n",
      "        if get_offer_response(row) == OFFER_NOT_RESPONDED:\n",
      "            offer_response.append(0)\n",
      "            tran_amount_in_period.append(0)\n",
      "        else:\n",
      "            # look into offer completion, transctions made during offer period\n",
      "            valid_offer_comp_cnt, amount = get_completion_purchase_amount(\n",
      "                row, offers_df, transactions_df)\n",
      "            if amount == 0:\n",
      "                responded = 0\n",
      "            elif row['informational'] == 0 and valid_offer_comp_cnt == 0:\n",
      "                responded = 0\n",
      "            else:\n",
      "                responded = 1\n",
      "\n",
      "            # add to collection\n",
      "            offer_response.append(responded)\n",
      "            amount = amount if responded == 1 else 0\n",
      "            tran_amount_in_period.append(amount)\n",
      "\n",
      "    pbar.close()\n",
      "    # add new data to combined_df\n",
      "    combined_df['responded'] = offer_response\n",
      "    combined_df['purchase_during_offer'] = tran_amount_in_period\n",
      "\n",
      "    # add customer demographic info\n",
      "    combined_df = pd.merge(combined_df,\n",
      "                           profile_df,\n",
      "                           on='customer_id',\n",
      "                           how='left')\n",
      "    return combined_df\n"
     ]
    },
    {
     "data": {
      "text/plain": [
       "2306"
      ]
     },
     "execution_count": 8,
     "metadata": {},
     "output_type": "execute_result"
    }
   ],
   "source": [
    "sys.stdout.write(i.getsource(dpofferresp.combine))"
   ]
  },
  {
   "cell_type": "markdown",
   "metadata": {},
   "source": [
    "#### Combined Offer Response dataset\n",
    "\n",
    "The output from feature extraction was persisted into offer_response.pkl file. Loading it back, "
   ]
  },
  {
   "cell_type": "code",
   "execution_count": 9,
   "metadata": {
    "tags": []
   },
   "outputs": [
    {
     "data": {
      "text/plain": [
       "(63288, 68)"
      ]
     },
     "execution_count": 9,
     "metadata": {},
     "output_type": "execute_result"
    }
   ],
   "source": [
    "offer_response_df = util.load_pkl('../data/1_interim/offer_response.pkl')\n",
    "offer_response_df.shape"
   ]
  },
  {
   "cell_type": "code",
   "execution_count": 10,
   "metadata": {},
   "outputs": [
    {
     "data": {
      "text/html": [
       "<div>\n",
       "<style scoped>\n",
       "    .dataframe tbody tr th:only-of-type {\n",
       "        vertical-align: middle;\n",
       "    }\n",
       "\n",
       "    .dataframe tbody tr th {\n",
       "        vertical-align: top;\n",
       "    }\n",
       "\n",
       "    .dataframe thead th {\n",
       "        text-align: right;\n",
       "    }\n",
       "</style>\n",
       "<table border=\"1\" class=\"dataframe\">\n",
       "  <thead>\n",
       "    <tr style=\"text-align: right;\">\n",
       "      <th></th>\n",
       "      <th>customer_id</th>\n",
       "      <th>offer_id</th>\n",
       "      <th>offer_received_sum</th>\n",
       "      <th>offer_viewed_sum</th>\n",
       "      <th>offer_completed_sum</th>\n",
       "      <th>offer_reward</th>\n",
       "      <th>difficulty</th>\n",
       "      <th>duration</th>\n",
       "      <th>web_ch</th>\n",
       "      <th>num_channels</th>\n",
       "      <th>...</th>\n",
       "      <th>income_40K</th>\n",
       "      <th>income_50K</th>\n",
       "      <th>income_60K</th>\n",
       "      <th>income_70K</th>\n",
       "      <th>income_80K</th>\n",
       "      <th>income_90K</th>\n",
       "      <th>income_100K</th>\n",
       "      <th>income_110K</th>\n",
       "      <th>income_120K</th>\n",
       "      <th>income_130K</th>\n",
       "    </tr>\n",
       "  </thead>\n",
       "  <tbody>\n",
       "    <tr>\n",
       "      <th>0</th>\n",
       "      <td>0009655768c64bdeb2e877511632db8f</td>\n",
       "      <td>2906b810c7d4411798c6938adc9daaa5</td>\n",
       "      <td>1</td>\n",
       "      <td>0</td>\n",
       "      <td>1</td>\n",
       "      <td>2</td>\n",
       "      <td>10</td>\n",
       "      <td>168</td>\n",
       "      <td>1</td>\n",
       "      <td>3</td>\n",
       "      <td>...</td>\n",
       "      <td>0.0</td>\n",
       "      <td>0.0</td>\n",
       "      <td>0.0</td>\n",
       "      <td>1.0</td>\n",
       "      <td>0.0</td>\n",
       "      <td>0.0</td>\n",
       "      <td>0.0</td>\n",
       "      <td>0.0</td>\n",
       "      <td>0.0</td>\n",
       "      <td>0.0</td>\n",
       "    </tr>\n",
       "    <tr>\n",
       "      <th>1</th>\n",
       "      <td>0009655768c64bdeb2e877511632db8f</td>\n",
       "      <td>3f207df678b143eea3cee63160fa8bed</td>\n",
       "      <td>1</td>\n",
       "      <td>1</td>\n",
       "      <td>0</td>\n",
       "      <td>0</td>\n",
       "      <td>0</td>\n",
       "      <td>96</td>\n",
       "      <td>1</td>\n",
       "      <td>3</td>\n",
       "      <td>...</td>\n",
       "      <td>0.0</td>\n",
       "      <td>0.0</td>\n",
       "      <td>0.0</td>\n",
       "      <td>1.0</td>\n",
       "      <td>0.0</td>\n",
       "      <td>0.0</td>\n",
       "      <td>0.0</td>\n",
       "      <td>0.0</td>\n",
       "      <td>0.0</td>\n",
       "      <td>0.0</td>\n",
       "    </tr>\n",
       "    <tr>\n",
       "      <th>2</th>\n",
       "      <td>0009655768c64bdeb2e877511632db8f</td>\n",
       "      <td>5a8bc65990b245e5a138643cd4eb9837</td>\n",
       "      <td>1</td>\n",
       "      <td>1</td>\n",
       "      <td>0</td>\n",
       "      <td>0</td>\n",
       "      <td>0</td>\n",
       "      <td>72</td>\n",
       "      <td>0</td>\n",
       "      <td>3</td>\n",
       "      <td>...</td>\n",
       "      <td>0.0</td>\n",
       "      <td>0.0</td>\n",
       "      <td>0.0</td>\n",
       "      <td>1.0</td>\n",
       "      <td>0.0</td>\n",
       "      <td>0.0</td>\n",
       "      <td>0.0</td>\n",
       "      <td>0.0</td>\n",
       "      <td>0.0</td>\n",
       "      <td>0.0</td>\n",
       "    </tr>\n",
       "    <tr>\n",
       "      <th>3</th>\n",
       "      <td>0009655768c64bdeb2e877511632db8f</td>\n",
       "      <td>f19421c1d4aa40978ebb69ca19b0e20d</td>\n",
       "      <td>1</td>\n",
       "      <td>1</td>\n",
       "      <td>1</td>\n",
       "      <td>5</td>\n",
       "      <td>5</td>\n",
       "      <td>120</td>\n",
       "      <td>1</td>\n",
       "      <td>4</td>\n",
       "      <td>...</td>\n",
       "      <td>0.0</td>\n",
       "      <td>0.0</td>\n",
       "      <td>0.0</td>\n",
       "      <td>1.0</td>\n",
       "      <td>0.0</td>\n",
       "      <td>0.0</td>\n",
       "      <td>0.0</td>\n",
       "      <td>0.0</td>\n",
       "      <td>0.0</td>\n",
       "      <td>0.0</td>\n",
       "    </tr>\n",
       "    <tr>\n",
       "      <th>4</th>\n",
       "      <td>0009655768c64bdeb2e877511632db8f</td>\n",
       "      <td>fafdcd668e3743c1bb461111dcafc2a4</td>\n",
       "      <td>1</td>\n",
       "      <td>1</td>\n",
       "      <td>1</td>\n",
       "      <td>2</td>\n",
       "      <td>10</td>\n",
       "      <td>240</td>\n",
       "      <td>1</td>\n",
       "      <td>4</td>\n",
       "      <td>...</td>\n",
       "      <td>0.0</td>\n",
       "      <td>0.0</td>\n",
       "      <td>0.0</td>\n",
       "      <td>1.0</td>\n",
       "      <td>0.0</td>\n",
       "      <td>0.0</td>\n",
       "      <td>0.0</td>\n",
       "      <td>0.0</td>\n",
       "      <td>0.0</td>\n",
       "      <td>0.0</td>\n",
       "    </tr>\n",
       "  </tbody>\n",
       "</table>\n",
       "<p>5 rows × 68 columns</p>\n",
       "</div>"
      ],
      "text/plain": [
       "                        customer_id                          offer_id  \\\n",
       "0  0009655768c64bdeb2e877511632db8f  2906b810c7d4411798c6938adc9daaa5   \n",
       "1  0009655768c64bdeb2e877511632db8f  3f207df678b143eea3cee63160fa8bed   \n",
       "2  0009655768c64bdeb2e877511632db8f  5a8bc65990b245e5a138643cd4eb9837   \n",
       "3  0009655768c64bdeb2e877511632db8f  f19421c1d4aa40978ebb69ca19b0e20d   \n",
       "4  0009655768c64bdeb2e877511632db8f  fafdcd668e3743c1bb461111dcafc2a4   \n",
       "\n",
       "   offer_received_sum  offer_viewed_sum  offer_completed_sum  offer_reward  \\\n",
       "0                   1                 0                    1             2   \n",
       "1                   1                 1                    0             0   \n",
       "2                   1                 1                    0             0   \n",
       "3                   1                 1                    1             5   \n",
       "4                   1                 1                    1             2   \n",
       "\n",
       "   difficulty  duration  web_ch  num_channels  ...  income_40K  income_50K  \\\n",
       "0          10       168       1             3  ...         0.0         0.0   \n",
       "1           0        96       1             3  ...         0.0         0.0   \n",
       "2           0        72       0             3  ...         0.0         0.0   \n",
       "3           5       120       1             4  ...         0.0         0.0   \n",
       "4          10       240       1             4  ...         0.0         0.0   \n",
       "\n",
       "   income_60K  income_70K  income_80K  income_90K  income_100K  income_110K  \\\n",
       "0         0.0         1.0         0.0         0.0          0.0          0.0   \n",
       "1         0.0         1.0         0.0         0.0          0.0          0.0   \n",
       "2         0.0         1.0         0.0         0.0          0.0          0.0   \n",
       "3         0.0         1.0         0.0         0.0          0.0          0.0   \n",
       "4         0.0         1.0         0.0         0.0          0.0          0.0   \n",
       "\n",
       "  income_120K  income_130K  \n",
       "0         0.0          0.0  \n",
       "1         0.0          0.0  \n",
       "2         0.0          0.0  \n",
       "3         0.0          0.0  \n",
       "4         0.0          0.0  \n",
       "\n",
       "[5 rows x 68 columns]"
      ]
     },
     "execution_count": 10,
     "metadata": {},
     "output_type": "execute_result"
    }
   ],
   "source": [
    "offer_response_df.head()"
   ]
  },
  {
   "cell_type": "markdown",
   "metadata": {},
   "source": [
    "#### Offer summary dataset\n",
    "As parf of processing, we also produced a offer summary dataset. "
   ]
  },
  {
   "cell_type": "code",
   "execution_count": 11,
   "metadata": {
    "tags": []
   },
   "outputs": [
    {
     "data": {
      "text/html": [
       "<div>\n",
       "<style scoped>\n",
       "    .dataframe tbody tr th:only-of-type {\n",
       "        vertical-align: middle;\n",
       "    }\n",
       "\n",
       "    .dataframe tbody tr th {\n",
       "        vertical-align: top;\n",
       "    }\n",
       "\n",
       "    .dataframe thead th {\n",
       "        text-align: right;\n",
       "    }\n",
       "</style>\n",
       "<table border=\"1\" class=\"dataframe\">\n",
       "  <thead>\n",
       "    <tr style=\"text-align: right;\">\n",
       "      <th></th>\n",
       "      <th>offer_id</th>\n",
       "      <th>count</th>\n",
       "      <th>responded_count</th>\n",
       "      <th>success_rate</th>\n",
       "      <th>offer_type</th>\n",
       "    </tr>\n",
       "  </thead>\n",
       "  <tbody>\n",
       "    <tr>\n",
       "      <th>9</th>\n",
       "      <td>fafdcd668e3743c1bb461111dcafc2a4</td>\n",
       "      <td>6332</td>\n",
       "      <td>4433</td>\n",
       "      <td>70.01</td>\n",
       "      <td>discount</td>\n",
       "    </tr>\n",
       "    <tr>\n",
       "      <th>1</th>\n",
       "      <td>2298d6c36e964ae4a3e7e9706d1fb8c2</td>\n",
       "      <td>6325</td>\n",
       "      <td>4313</td>\n",
       "      <td>68.19</td>\n",
       "      <td>discount</td>\n",
       "    </tr>\n",
       "    <tr>\n",
       "      <th>5</th>\n",
       "      <td>5a8bc65990b245e5a138643cd4eb9837</td>\n",
       "      <td>6320</td>\n",
       "      <td>4002</td>\n",
       "      <td>63.32</td>\n",
       "      <td>informational</td>\n",
       "    </tr>\n",
       "    <tr>\n",
       "      <th>8</th>\n",
       "      <td>f19421c1d4aa40978ebb69ca19b0e20d</td>\n",
       "      <td>6262</td>\n",
       "      <td>3655</td>\n",
       "      <td>58.37</td>\n",
       "      <td>bogo</td>\n",
       "    </tr>\n",
       "    <tr>\n",
       "      <th>4</th>\n",
       "      <td>4d5c57ea9a6940dd891ad53e9dbe8da0</td>\n",
       "      <td>6330</td>\n",
       "      <td>2825</td>\n",
       "      <td>44.63</td>\n",
       "      <td>bogo</td>\n",
       "    </tr>\n",
       "    <tr>\n",
       "      <th>7</th>\n",
       "      <td>ae264e3637204a6fb9bb56bc8210ddfd</td>\n",
       "      <td>6374</td>\n",
       "      <td>2843</td>\n",
       "      <td>44.60</td>\n",
       "      <td>bogo</td>\n",
       "    </tr>\n",
       "    <tr>\n",
       "      <th>3</th>\n",
       "      <td>3f207df678b143eea3cee63160fa8bed</td>\n",
       "      <td>6331</td>\n",
       "      <td>2618</td>\n",
       "      <td>41.35</td>\n",
       "      <td>informational</td>\n",
       "    </tr>\n",
       "    <tr>\n",
       "      <th>6</th>\n",
       "      <td>9b98b8c7a33c4b65b9aebfe6a799e6d9</td>\n",
       "      <td>6355</td>\n",
       "      <td>2504</td>\n",
       "      <td>39.40</td>\n",
       "      <td>bogo</td>\n",
       "    </tr>\n",
       "    <tr>\n",
       "      <th>2</th>\n",
       "      <td>2906b810c7d4411798c6938adc9daaa5</td>\n",
       "      <td>6285</td>\n",
       "      <td>2415</td>\n",
       "      <td>38.42</td>\n",
       "      <td>discount</td>\n",
       "    </tr>\n",
       "    <tr>\n",
       "      <th>0</th>\n",
       "      <td>0b1e1539f2cc45b7b9fa7c272da2e1d7</td>\n",
       "      <td>6374</td>\n",
       "      <td>1472</td>\n",
       "      <td>23.09</td>\n",
       "      <td>discount</td>\n",
       "    </tr>\n",
       "  </tbody>\n",
       "</table>\n",
       "</div>"
      ],
      "text/plain": [
       "                           offer_id  count  responded_count  success_rate  \\\n",
       "9  fafdcd668e3743c1bb461111dcafc2a4   6332             4433         70.01   \n",
       "1  2298d6c36e964ae4a3e7e9706d1fb8c2   6325             4313         68.19   \n",
       "5  5a8bc65990b245e5a138643cd4eb9837   6320             4002         63.32   \n",
       "8  f19421c1d4aa40978ebb69ca19b0e20d   6262             3655         58.37   \n",
       "4  4d5c57ea9a6940dd891ad53e9dbe8da0   6330             2825         44.63   \n",
       "7  ae264e3637204a6fb9bb56bc8210ddfd   6374             2843         44.60   \n",
       "3  3f207df678b143eea3cee63160fa8bed   6331             2618         41.35   \n",
       "6  9b98b8c7a33c4b65b9aebfe6a799e6d9   6355             2504         39.40   \n",
       "2  2906b810c7d4411798c6938adc9daaa5   6285             2415         38.42   \n",
       "0  0b1e1539f2cc45b7b9fa7c272da2e1d7   6374             1472         23.09   \n",
       "\n",
       "      offer_type  \n",
       "9       discount  \n",
       "1       discount  \n",
       "5  informational  \n",
       "8           bogo  \n",
       "4           bogo  \n",
       "7           bogo  \n",
       "3  informational  \n",
       "6           bogo  \n",
       "2       discount  \n",
       "0       discount  "
      ]
     },
     "execution_count": 11,
     "metadata": {},
     "output_type": "execute_result"
    }
   ],
   "source": [
    "response_summary_df = util.load_pkl('../data/1_interim/offer_summary.pkl')\n",
    "response_summary_df"
   ]
  },
  {
   "cell_type": "code",
   "execution_count": 12,
   "metadata": {},
   "outputs": [
    {
     "data": {
      "text/plain": [
       "Text(0, 0.5, 'Success rate')"
      ]
     },
     "execution_count": 12,
     "metadata": {},
     "output_type": "execute_result"
    },
    {
     "data": {
      "image/png": "[encoded data removed]",
      "text/plain": [
       "<Figure size 864x288 with 2 Axes>"
      ]
     },
     "metadata": {
      "needs_background": "light"
     },
     "output_type": "display_data"
    }
   ],
   "source": [
    "fig, ax = plt.subplots(figsize=(12, 4), nrows=1, ncols=2)\n",
    "\n",
    "# the count of offers send to customer\n",
    "ax[0].bar(response_summary_df.index + 1, response_summary_df['count'])\n",
    "ax[0].set_xticks(np.arange(0,10) + 1)\n",
    "ax[0].set_xlabel('Offer number')\n",
    "ax[0].set_ylabel('Count')\n",
    "\n",
    "# the respond rate by offer\n",
    "ax[1].bar(response_summary_df.index + 1, response_summary_df['success_rate'])\n",
    "ax[1].set_xticks(np.arange(0,10) + 1)\n",
    "ax[1].set_xlabel('Offer count')\n",
    "ax[1].set_ylabel('Success rate')"
   ]
  },
  {
   "cell_type": "markdown",
   "metadata": {},
   "source": [
    "From the results shown above, we notice that the number of offers sent to customers is almost identical. Based on the rate that customers responded, two of the discount offer number **10** and **2** are the most responded with success rates 70% and 68%. The least responded offer is number 4 with rate 23%."
   ]
  },
  {
   "cell_type": "markdown",
   "metadata": {},
   "source": [
    "## Build models"
   ]
  },
  {
   "cell_type": "markdown",
   "metadata": {},
   "source": [
    "### Final Feature selection\n",
    "\n",
    "Currently offer_response dataset has 68 columns, and not all of them are useful set of columns from offer_response. "
   ]
  },
  {
   "cell_type": "code",
   "execution_count": 13,
   "metadata": {},
   "outputs": [
    {
     "data": {
      "text/plain": [
       "(68,\n",
       " Index(['customer_id', 'offer_id', 'offer_received_sum', 'offer_viewed_sum',\n",
       "        'offer_completed_sum', 'offer_reward', 'difficulty', 'duration',\n",
       "        'web_ch', 'num_channels', 'email_ch', 'social_ch', 'mobile_ch', 'bogo',\n",
       "        'discount', 'informational', 'responded', 'purchase_during_offer',\n",
       "        'gender', 'age', 'became_member_on', 'income', 'became_member_on',\n",
       "        'became_member_year', 'became_member_month', 'membership_length',\n",
       "        'became_member_year_2013', 'became_member_year_2014',\n",
       "        'became_member_year_2015', 'became_member_year_2016',\n",
       "        'became_member_year_2017', 'became_member_year_2018',\n",
       "        'became_member_month_1', 'became_member_month_2',\n",
       "        'became_member_month_3', 'became_member_month_4',\n",
       "        'became_member_month_5', 'became_member_month_6',\n",
       "        'became_member_month_7', 'became_member_month_8',\n",
       "        'became_member_month_9', 'became_member_month_10',\n",
       "        'became_member_month_11', 'became_member_month_12', 'F', 'M', 'O',\n",
       "        'age_10s', 'age_20s', 'age_30s', 'age_40s', 'age_50s', 'age_60s',\n",
       "        'age_70s', 'age_80s', 'age_90s', 'age_100s', 'income_30K', 'income_40K',\n",
       "        'income_50K', 'income_60K', 'income_70K', 'income_80K', 'income_90K',\n",
       "        'income_100K', 'income_110K', 'income_120K', 'income_130K'],\n",
       "       dtype='object'))"
      ]
     },
     "execution_count": 13,
     "metadata": {},
     "output_type": "execute_result"
    }
   ],
   "source": [
    "len(offer_response_df.columns), offer_response_df.columns"
   ]
  },
  {
   "cell_type": "markdown",
   "metadata": {
    "tags": []
   },
   "source": [
    "**Dropping unneeded features**\n",
    "\n",
    "We're going to drop following columns. These columns are either ids or the columns we have one-hot encoded."
   ]
  },
  {
   "cell_type": "code",
   "execution_count": 14,
   "metadata": {},
   "outputs": [],
   "source": [
    "cols_removal = [\n",
    "    'customer_id',\n",
    "    'offer_id',\n",
    "    'offer_received_sum',\n",
    "    'offer_viewed_sum',\n",
    "    'offer_completed_sum',\n",
    "    'age',\n",
    "    'became_member_on',\n",
    "    'became_member_year',\n",
    "    'became_member_month',\n",
    "    'income',\n",
    "    'gender',\n",
    "]"
   ]
  },
  {
   "cell_type": "code",
   "execution_count": 15,
   "metadata": {
    "tags": []
   },
   "outputs": [
    {
     "data": {
      "text/plain": [
       "((55222, 56),\n",
       " Index(['offer_reward', 'difficulty', 'duration', 'web_ch', 'num_channels',\n",
       "        'email_ch', 'social_ch', 'mobile_ch', 'bogo', 'discount',\n",
       "        'informational', 'responded', 'purchase_during_offer',\n",
       "        'membership_length', 'became_member_year_2013',\n",
       "        'became_member_year_2014', 'became_member_year_2015',\n",
       "        'became_member_year_2016', 'became_member_year_2017',\n",
       "        'became_member_year_2018', 'became_member_month_1',\n",
       "        'became_member_month_2', 'became_member_month_3',\n",
       "        'became_member_month_4', 'became_member_month_5',\n",
       "        'became_member_month_6', 'became_member_month_7',\n",
       "        'became_member_month_8', 'became_member_month_9',\n",
       "        'became_member_month_10', 'became_member_month_11',\n",
       "        'became_member_month_12', 'F', 'M', 'O', 'age_10s', 'age_20s',\n",
       "        'age_30s', 'age_40s', 'age_50s', 'age_60s', 'age_70s', 'age_80s',\n",
       "        'age_90s', 'age_100s', 'income_30K', 'income_40K', 'income_50K',\n",
       "        'income_60K', 'income_70K', 'income_80K', 'income_90K', 'income_100K',\n",
       "        'income_110K', 'income_120K', 'income_130K'],\n",
       "       dtype='object'))"
      ]
     },
     "execution_count": 15,
     "metadata": {},
     "output_type": "execute_result"
    }
   ],
   "source": [
    "feature_df = offerfe.clean(offer_response_df, cols_removal=cols_removal)\n",
    "feature_df.shape, feature_df.columns"
   ]
  },
  {
   "cell_type": "markdown",
   "metadata": {},
   "source": [
    "The final feature dataset has ~55k samples with 55 columns."
   ]
  },
  {
   "cell_type": "markdown",
   "metadata": {
    "tags": []
   },
   "source": [
    "### Create train and test datasets"
   ]
  },
  {
   "cell_type": "markdown",
   "metadata": {},
   "source": [
    "Column `responded` is our label column, the rest goes to as input. We are going split data into .7 for training and .3 for test. To minimize the impact of large numbers, we are going to apply MaxScaler for following colummns \n",
    "\n",
    " - 'difficulty', 'duration', 'offer_reward', 'membership_length' and 'purchase_during_offer'\n",
    " \n",
    "Combine things together ..."
   ]
  },
  {
   "cell_type": "code",
   "execution_count": 16,
   "metadata": {},
   "outputs": [],
   "source": [
    "features_to_scale = ['difficulty', 'duration', 'offer_reward', 'membership_length', 'purchase_during_offer']"
   ]
  },
  {
   "cell_type": "code",
   "execution_count": 17,
   "metadata": {},
   "outputs": [],
   "source": [
    "X_train, X_test, y_train, y_test = offerfe.create_training_data(offer_response_df, label_col='responded', test_size=0.3, cols_removal=cols_removal , features_to_scale=features_to_scale)"
   ]
  },
  {
   "cell_type": "code",
   "execution_count": 18,
   "metadata": {},
   "outputs": [
    {
     "data": {
      "text/html": [
       "<div>\n",
       "<style scoped>\n",
       "    .dataframe tbody tr th:only-of-type {\n",
       "        vertical-align: middle;\n",
       "    }\n",
       "\n",
       "    .dataframe tbody tr th {\n",
       "        vertical-align: top;\n",
       "    }\n",
       "\n",
       "    .dataframe thead th {\n",
       "        text-align: right;\n",
       "    }\n",
       "</style>\n",
       "<table border=\"1\" class=\"dataframe\">\n",
       "  <thead>\n",
       "    <tr style=\"text-align: right;\">\n",
       "      <th></th>\n",
       "      <th>web_ch</th>\n",
       "      <th>num_channels</th>\n",
       "      <th>email_ch</th>\n",
       "      <th>social_ch</th>\n",
       "      <th>mobile_ch</th>\n",
       "      <th>bogo</th>\n",
       "      <th>discount</th>\n",
       "      <th>informational</th>\n",
       "      <th>became_member_year_2013</th>\n",
       "      <th>became_member_year_2014</th>\n",
       "      <th>...</th>\n",
       "      <th>income_90K</th>\n",
       "      <th>income_100K</th>\n",
       "      <th>income_110K</th>\n",
       "      <th>income_120K</th>\n",
       "      <th>income_130K</th>\n",
       "      <th>difficulty</th>\n",
       "      <th>duration</th>\n",
       "      <th>offer_reward</th>\n",
       "      <th>membership_length</th>\n",
       "      <th>purchase_during_offer</th>\n",
       "    </tr>\n",
       "  </thead>\n",
       "  <tbody>\n",
       "    <tr>\n",
       "      <th>722</th>\n",
       "      <td>0</td>\n",
       "      <td>3</td>\n",
       "      <td>1</td>\n",
       "      <td>1</td>\n",
       "      <td>1</td>\n",
       "      <td>0</td>\n",
       "      <td>0</td>\n",
       "      <td>1</td>\n",
       "      <td>0.0</td>\n",
       "      <td>0.0</td>\n",
       "      <td>...</td>\n",
       "      <td>0.0</td>\n",
       "      <td>0.0</td>\n",
       "      <td>0.0</td>\n",
       "      <td>0.0</td>\n",
       "      <td>0.0</td>\n",
       "      <td>0.00</td>\n",
       "      <td>0.000000</td>\n",
       "      <td>0.0</td>\n",
       "      <td>0.102578</td>\n",
       "      <td>0.054901</td>\n",
       "    </tr>\n",
       "    <tr>\n",
       "      <th>2362</th>\n",
       "      <td>1</td>\n",
       "      <td>3</td>\n",
       "      <td>1</td>\n",
       "      <td>0</td>\n",
       "      <td>1</td>\n",
       "      <td>0</td>\n",
       "      <td>0</td>\n",
       "      <td>1</td>\n",
       "      <td>0.0</td>\n",
       "      <td>0.0</td>\n",
       "      <td>...</td>\n",
       "      <td>0.0</td>\n",
       "      <td>0.0</td>\n",
       "      <td>0.0</td>\n",
       "      <td>0.0</td>\n",
       "      <td>0.0</td>\n",
       "      <td>0.00</td>\n",
       "      <td>0.142857</td>\n",
       "      <td>0.0</td>\n",
       "      <td>0.229292</td>\n",
       "      <td>0.000000</td>\n",
       "    </tr>\n",
       "    <tr>\n",
       "      <th>13558</th>\n",
       "      <td>1</td>\n",
       "      <td>4</td>\n",
       "      <td>1</td>\n",
       "      <td>1</td>\n",
       "      <td>1</td>\n",
       "      <td>0</td>\n",
       "      <td>1</td>\n",
       "      <td>0</td>\n",
       "      <td>0.0</td>\n",
       "      <td>0.0</td>\n",
       "      <td>...</td>\n",
       "      <td>0.0</td>\n",
       "      <td>0.0</td>\n",
       "      <td>0.0</td>\n",
       "      <td>0.0</td>\n",
       "      <td>0.0</td>\n",
       "      <td>0.35</td>\n",
       "      <td>0.571429</td>\n",
       "      <td>0.3</td>\n",
       "      <td>0.066923</td>\n",
       "      <td>0.000000</td>\n",
       "    </tr>\n",
       "    <tr>\n",
       "      <th>35556</th>\n",
       "      <td>1</td>\n",
       "      <td>3</td>\n",
       "      <td>1</td>\n",
       "      <td>0</td>\n",
       "      <td>1</td>\n",
       "      <td>1</td>\n",
       "      <td>0</td>\n",
       "      <td>0</td>\n",
       "      <td>0.0</td>\n",
       "      <td>0.0</td>\n",
       "      <td>...</td>\n",
       "      <td>0.0</td>\n",
       "      <td>0.0</td>\n",
       "      <td>0.0</td>\n",
       "      <td>0.0</td>\n",
       "      <td>0.0</td>\n",
       "      <td>0.25</td>\n",
       "      <td>0.571429</td>\n",
       "      <td>0.5</td>\n",
       "      <td>0.160176</td>\n",
       "      <td>0.035751</td>\n",
       "    </tr>\n",
       "    <tr>\n",
       "      <th>47193</th>\n",
       "      <td>1</td>\n",
       "      <td>4</td>\n",
       "      <td>1</td>\n",
       "      <td>1</td>\n",
       "      <td>1</td>\n",
       "      <td>0</td>\n",
       "      <td>1</td>\n",
       "      <td>0</td>\n",
       "      <td>0.0</td>\n",
       "      <td>1.0</td>\n",
       "      <td>...</td>\n",
       "      <td>0.0</td>\n",
       "      <td>0.0</td>\n",
       "      <td>0.0</td>\n",
       "      <td>0.0</td>\n",
       "      <td>0.0</td>\n",
       "      <td>0.35</td>\n",
       "      <td>0.571429</td>\n",
       "      <td>0.3</td>\n",
       "      <td>0.896873</td>\n",
       "      <td>0.013843</td>\n",
       "    </tr>\n",
       "  </tbody>\n",
       "</table>\n",
       "<p>5 rows × 55 columns</p>\n",
       "</div>"
      ],
      "text/plain": [
       "       web_ch  num_channels  email_ch  social_ch  mobile_ch  bogo  discount  \\\n",
       "722         0             3         1          1          1     0         0   \n",
       "2362        1             3         1          0          1     0         0   \n",
       "13558       1             4         1          1          1     0         1   \n",
       "35556       1             3         1          0          1     1         0   \n",
       "47193       1             4         1          1          1     0         1   \n",
       "\n",
       "       informational  became_member_year_2013  became_member_year_2014  ...  \\\n",
       "722                1                      0.0                      0.0  ...   \n",
       "2362               1                      0.0                      0.0  ...   \n",
       "13558              0                      0.0                      0.0  ...   \n",
       "35556              0                      0.0                      0.0  ...   \n",
       "47193              0                      0.0                      1.0  ...   \n",
       "\n",
       "       income_90K  income_100K  income_110K  income_120K  income_130K  \\\n",
       "722           0.0          0.0          0.0          0.0          0.0   \n",
       "2362          0.0          0.0          0.0          0.0          0.0   \n",
       "13558         0.0          0.0          0.0          0.0          0.0   \n",
       "35556         0.0          0.0          0.0          0.0          0.0   \n",
       "47193         0.0          0.0          0.0          0.0          0.0   \n",
       "\n",
       "       difficulty  duration  offer_reward  membership_length  \\\n",
       "722          0.00  0.000000           0.0           0.102578   \n",
       "2362         0.00  0.142857           0.0           0.229292   \n",
       "13558        0.35  0.571429           0.3           0.066923   \n",
       "35556        0.25  0.571429           0.5           0.160176   \n",
       "47193        0.35  0.571429           0.3           0.896873   \n",
       "\n",
       "       purchase_during_offer  \n",
       "722                 0.054901  \n",
       "2362                0.000000  \n",
       "13558               0.000000  \n",
       "35556               0.035751  \n",
       "47193               0.013843  \n",
       "\n",
       "[5 rows x 55 columns]"
      ]
     },
     "execution_count": 18,
     "metadata": {},
     "output_type": "execute_result"
    }
   ],
   "source": [
    "X_train.head()"
   ]
  },
  {
   "cell_type": "markdown",
   "metadata": {},
   "source": [
    "**Check whether we have any large numbers**"
   ]
  },
  {
   "cell_type": "code",
   "execution_count": 19,
   "metadata": {
    "tags": []
   },
   "outputs": [
    {
     "data": {
      "text/plain": [
       "4"
      ]
     },
     "execution_count": 19,
     "metadata": {},
     "output_type": "execute_result"
    }
   ],
   "source": [
    "max([X_train[c].max() for c in X_train.columns])"
   ]
  },
  {
   "cell_type": "markdown",
   "metadata": {},
   "source": [
    "We don't have large numbers."
   ]
  },
  {
   "cell_type": "markdown",
   "metadata": {
    "tags": []
   },
   "source": [
    "**Check whether the label data are balanced**"
   ]
  },
  {
   "cell_type": "code",
   "execution_count": 20,
   "metadata": {},
   "outputs": [
    {
     "name": "stdout",
     "output_type": "stream",
     "text": [
      "value stats:\n",
      "1    52.94\n",
      "0    47.06\n",
      "Name: responded, dtype: float64\n",
      "\n",
      "Values std: 2.9399999999999977, threshod: 10.\n",
      "Values for responded is balanced.\n"
     ]
    }
   ],
   "source": [
    "offerfe.check_label_balance(y_train, threshold=10)"
   ]
  },
  {
   "cell_type": "code",
   "execution_count": 21,
   "metadata": {},
   "outputs": [
    {
     "name": "stdout",
     "output_type": "stream",
     "text": [
      "value stats:\n",
      "1    53.33\n",
      "0    46.67\n",
      "Name: responded, dtype: float64\n",
      "\n",
      "Values std: 3.3299999999999983, threshod: 10.\n",
      "Values for responded is balanced.\n"
     ]
    }
   ],
   "source": [
    "offerfe.check_label_balance(y_test, threshold=10)"
   ]
  },
  {
   "cell_type": "markdown",
   "metadata": {},
   "source": [
    "The delta of values (0, 1) in training and test label sets are within 3%, we can conclude that our training/testing dataset is nearly balanced. "
   ]
  },
  {
   "cell_type": "markdown",
   "metadata": {},
   "source": [
    "### Training"
   ]
  },
  {
   "cell_type": "markdown",
   "metadata": {},
   "source": [
    "#### Model evaluation metrics\n",
    "\n",
    "The training dataset is well balanced in terms of distribution of of labels. Evalaution metrics like precision, recall, and f1-score are good to use. \n",
    "- precision answers: what portion of postive identificaiton was actually correct?\n",
    "- recall answers: what portion of active postive was identified correctly?\n",
    "- F1-score represents \"the harmonic mean of the precision and recall metrics\".\n",
    "\n",
    "In our training, we premarily focus on using f1-score."
   ]
  },
  {
   "cell_type": "markdown",
   "metadata": {},
   "source": [
    "#### Choice of Classifers\n",
    "\n",
    "There are many different type of classifers that we can choose from sklearn. We are going to try out three: RandomForestClassifier, GradientBoostingClassifier and AdaBoostClassifier and compare their performance."
   ]
  },
  {
   "cell_type": "code",
   "execution_count": 22,
   "metadata": {},
   "outputs": [
    {
     "data": {
      "text/plain": [
       "[RandomForestClassifier(random_state=42),\n",
       " GradientBoostingClassifier(random_state=42),\n",
       " AdaBoostClassifier(random_state=42)]"
      ]
     },
     "execution_count": 22,
     "metadata": {},
     "output_type": "execute_result"
    }
   ],
   "source": [
    "offerm.CLASSIFER_LIST"
   ]
  },
  {
   "cell_type": "markdown",
   "metadata": {},
   "source": [
    "For the first path, we are just going through all classifers without any addtional tuning params to see how they fair."
   ]
  },
  {
   "cell_type": "code",
   "execution_count": 23,
   "metadata": {},
   "outputs": [
    {
     "name": "stdout",
     "output_type": "stream",
     "text": [
      "Training RandomForestClassifier :\n",
      "Time taken : 7.9 secs.\n",
      "Best f1_score : 1.0\n",
      "****************************************\n",
      "Training GradientBoostingClassifier :\n",
      "Time taken : 17.43 secs.\n",
      "Best f1_score : 1.0\n",
      "****************************************\n",
      "Training AdaBoostClassifier :\n",
      "Time taken : 0.24 secs.\n",
      "Best f1_score : 1.0\n",
      "****************************************\n"
     ]
    },
    {
     "data": {
      "text/html": [
       "<div>\n",
       "<style scoped>\n",
       "    .dataframe tbody tr th:only-of-type {\n",
       "        vertical-align: middle;\n",
       "    }\n",
       "\n",
       "    .dataframe tbody tr th {\n",
       "        vertical-align: top;\n",
       "    }\n",
       "\n",
       "    .dataframe thead th {\n",
       "        text-align: right;\n",
       "    }\n",
       "</style>\n",
       "<table border=\"1\" class=\"dataframe\">\n",
       "  <thead>\n",
       "    <tr style=\"text-align: right;\">\n",
       "      <th></th>\n",
       "      <th>best_f1_score</th>\n",
       "      <th>time_taken(s)</th>\n",
       "      <th>best_model</th>\n",
       "    </tr>\n",
       "  </thead>\n",
       "  <tbody>\n",
       "    <tr>\n",
       "      <th>RandomForestClassifier</th>\n",
       "      <td>1.0</td>\n",
       "      <td>7.90</td>\n",
       "      <td>(DecisionTreeClassifier(max_features='auto', r...</td>\n",
       "    </tr>\n",
       "    <tr>\n",
       "      <th>GradientBoostingClassifier</th>\n",
       "      <td>1.0</td>\n",
       "      <td>17.43</td>\n",
       "      <td>([DecisionTreeRegressor(criterion='friedman_ms...</td>\n",
       "    </tr>\n",
       "    <tr>\n",
       "      <th>AdaBoostClassifier</th>\n",
       "      <td>1.0</td>\n",
       "      <td>0.24</td>\n",
       "      <td>(DecisionTreeClassifier(max_depth=1, random_st...</td>\n",
       "    </tr>\n",
       "  </tbody>\n",
       "</table>\n",
       "</div>"
      ],
      "text/plain": [
       "                            best_f1_score  time_taken(s)  \\\n",
       "RandomForestClassifier                1.0           7.90   \n",
       "GradientBoostingClassifier            1.0          17.43   \n",
       "AdaBoostClassifier                    1.0           0.24   \n",
       "\n",
       "                                                                   best_model  \n",
       "RandomForestClassifier      (DecisionTreeClassifier(max_features='auto', r...  \n",
       "GradientBoostingClassifier  ([DecisionTreeRegressor(criterion='friedman_ms...  \n",
       "AdaBoostClassifier          (DecisionTreeClassifier(max_depth=1, random_st...  "
      ]
     },
     "execution_count": 23,
     "metadata": {},
     "output_type": "execute_result"
    }
   ],
   "source": [
    "clf_names = []\n",
    "clf_f1_scores = []\n",
    "clf_best_models = []\n",
    "clf_time_taken = []\n",
    "\n",
    "for clf in offerm.CLASSIFER_LIST:\n",
    "\n",
    "    model, best_f1_score, time_taken = offerm.train(clf, {}, X_train, y_train, scoring='f1', cv=5, verbose=0)\n",
    "    clf_names.append(clf.__class__.__name__)\n",
    "    clf_f1_scores.append(best_f1_score)\n",
    "    clf_best_models.append(model)\n",
    "    clf_time_taken.append(time_taken)\n",
    "    \n",
    "result_dict = {'best_f1_score': clf_f1_scores,  'time_taken(s)': clf_time_taken, \"best_model\": clf_best_models}\n",
    "result_df = pd.DataFrame(result_dict, index=clf_names)\n",
    "result_df"
   ]
  },
  {
   "cell_type": "markdown",
   "metadata": {},
   "source": [
    "All three classifers were achiving almost perfect f1_score(approx. 1.0) on its training dataset. How is this possible, we are going to explore this shortly. "
   ]
  },
  {
   "cell_type": "markdown",
   "metadata": {},
   "source": [
    "#### Model evaluation - Confusion Matrix\n",
    "\n",
    "Since all three classifier have almost identical performance. We're going to look at the confusion matrix from RandomForestClassifier since it takes the shortest time to train."
   ]
  },
  {
   "cell_type": "code",
   "execution_count": 24,
   "metadata": {},
   "outputs": [
    {
     "data": {
      "text/plain": [
       "'RandomForestClassifier'"
      ]
     },
     "execution_count": 24,
     "metadata": {},
     "output_type": "execute_result"
    }
   ],
   "source": [
    "randomforest_clf = clf_best_models[0]\n",
    "randomforest_clf.__class__.__name__"
   ]
  },
  {
   "cell_type": "code",
   "execution_count": 25,
   "metadata": {},
   "outputs": [
    {
     "name": "stdout",
     "output_type": "stream",
     "text": [
      "true postives: 8834, false postives: 0\n",
      "true negatives: 7731, false negatives: 2\n",
      "\n",
      "Normalized confusion matrix:\n",
      "[[1.00000000e+00 0.00000000e+00]\n",
      " [2.26346763e-04 9.99773653e-01]]\n"
     ]
    }
   ],
   "source": [
    "y_pred = randomforest_clf.predict(X_test)\n",
    "conf_matrix = offerm.get_confusion_matrix(y_test, y_pred, normalized=True)"
   ]
  },
  {
   "cell_type": "markdown",
   "metadata": {},
   "source": [
    "Even for the test dataset, the score was perfect!"
   ]
  },
  {
   "cell_type": "markdown",
   "metadata": {},
   "source": [
    "#### Understand the model performance"
   ]
  },
  {
   "cell_type": "markdown",
   "metadata": {},
   "source": [
    "A nearly perfect score is definitely delightful however worrysome. We're going to look at what contributes to this good score by looking at the feature importance!"
   ]
  },
  {
   "cell_type": "code",
   "execution_count": 26,
   "metadata": {},
   "outputs": [
    {
     "data": {
      "text/html": [
       "<div>\n",
       "<style scoped>\n",
       "    .dataframe tbody tr th:only-of-type {\n",
       "        vertical-align: middle;\n",
       "    }\n",
       "\n",
       "    .dataframe tbody tr th {\n",
       "        vertical-align: top;\n",
       "    }\n",
       "\n",
       "    .dataframe thead th {\n",
       "        text-align: right;\n",
       "    }\n",
       "</style>\n",
       "<table border=\"1\" class=\"dataframe\">\n",
       "  <thead>\n",
       "    <tr style=\"text-align: right;\">\n",
       "      <th></th>\n",
       "      <th>feature</th>\n",
       "      <th>imp_perc</th>\n",
       "    </tr>\n",
       "  </thead>\n",
       "  <tbody>\n",
       "    <tr>\n",
       "      <th>0</th>\n",
       "      <td>purchase_during_offer</td>\n",
       "      <td>80.70</td>\n",
       "    </tr>\n",
       "    <tr>\n",
       "      <th>1</th>\n",
       "      <td>membership_length</td>\n",
       "      <td>4.29</td>\n",
       "    </tr>\n",
       "    <tr>\n",
       "      <th>2</th>\n",
       "      <td>social_ch</td>\n",
       "      <td>2.15</td>\n",
       "    </tr>\n",
       "    <tr>\n",
       "      <th>3</th>\n",
       "      <td>num_channels</td>\n",
       "      <td>1.25</td>\n",
       "    </tr>\n",
       "    <tr>\n",
       "      <th>4</th>\n",
       "      <td>became_member_year_2018</td>\n",
       "      <td>1.23</td>\n",
       "    </tr>\n",
       "    <tr>\n",
       "      <th>5</th>\n",
       "      <td>difficulty</td>\n",
       "      <td>0.83</td>\n",
       "    </tr>\n",
       "    <tr>\n",
       "      <th>6</th>\n",
       "      <td>became_member_year_2016</td>\n",
       "      <td>0.61</td>\n",
       "    </tr>\n",
       "    <tr>\n",
       "      <th>7</th>\n",
       "      <td>offer_reward</td>\n",
       "      <td>0.60</td>\n",
       "    </tr>\n",
       "    <tr>\n",
       "      <th>8</th>\n",
       "      <td>duration</td>\n",
       "      <td>0.56</td>\n",
       "    </tr>\n",
       "    <tr>\n",
       "      <th>9</th>\n",
       "      <td>mobile_ch</td>\n",
       "      <td>0.52</td>\n",
       "    </tr>\n",
       "  </tbody>\n",
       "</table>\n",
       "</div>"
      ],
      "text/plain": [
       "                   feature  imp_perc\n",
       "0    purchase_during_offer     80.70\n",
       "1        membership_length      4.29\n",
       "2                social_ch      2.15\n",
       "3             num_channels      1.25\n",
       "4  became_member_year_2018      1.23\n",
       "5               difficulty      0.83\n",
       "6  became_member_year_2016      0.61\n",
       "7             offer_reward      0.60\n",
       "8                 duration      0.56\n",
       "9                mobile_ch      0.52"
      ]
     },
     "execution_count": 26,
     "metadata": {},
     "output_type": "execute_result"
    }
   ],
   "source": [
    "feature_importance = offerm.calc_feature_importance(randomforest_clf, X_test.columns)\n",
    "feature_importance[:10]"
   ]
  },
  {
   "cell_type": "code",
   "execution_count": 27,
   "metadata": {},
   "outputs": [
    {
     "data": {
      "image/png": "[encoded data removed]",
      "text/plain": [
       "<Figure size 720x720 with 1 Axes>"
      ]
     },
     "metadata": {
      "needs_background": "light"
     },
     "output_type": "display_data"
    }
   ],
   "source": [
    "import offer_response.visualize as orvis\n",
    "orvis.plot_feature_importance(feature_importance)"
   ]
  },
  {
   "cell_type": "markdown",
   "metadata": {},
   "source": [
    "From the results shown above we notice that the `purchase_during_offer` is the most dominiate feature. The second is the membership_length.  Other features have very little influence to the prediction. `purchase_during_offer` is a compound feature that we calculated based on the purchase that customer made during an offer period. If we know a purchase made, we know customer repsonded and vice versa. In this light, the classifer is trained via machine learning, however this is not quite a true `predictive` model. Next, we are going to look into building a model without the knowledge of `purchase_during_offer`."
   ]
  },
  {
   "cell_type": "markdown",
   "metadata": {},
   "source": [
    "### Training without knowing the purchase made\n",
    "We're going to remove `purchase_during_offer` from our features and retrain the model. "
   ]
  },
  {
   "cell_type": "code",
   "execution_count": 28,
   "metadata": {},
   "outputs": [],
   "source": [
    "cols_removal = [\n",
    "    'customer_id',\n",
    "    'offer_id',\n",
    "    'offer_received_sum',\n",
    "    'offer_viewed_sum',\n",
    "    'offer_completed_sum',\n",
    "    'age',\n",
    "    'became_member_on',\n",
    "    'became_member_year',\n",
    "    'became_member_month',\n",
    "    'income',\n",
    "    'gender',\n",
    "    'purchase_during_offer',\n",
    "]\n",
    "\n",
    "features_to_scale = ['difficulty', 'duration', 'offer_reward', 'membership_length']\n",
    "\n",
    "X_train, X_test, y_train, y_test = offerfe.create_training_data(offer_response_df, label_col='responded', test_size=0.3, cols_removal=cols_removal, features_to_scale=features_to_scale)"
   ]
  },
  {
   "cell_type": "code",
   "execution_count": 29,
   "metadata": {},
   "outputs": [
    {
     "name": "stdout",
     "output_type": "stream",
     "text": [
      "Training RandomForestClassifier :\n",
      "Time taken : 17.61 secs.\n",
      "Best f1_score : 0.6703\n",
      "****************************************\n",
      "Training GradientBoostingClassifier :\n",
      "Time taken : 24.12 secs.\n",
      "Best f1_score : 0.7098\n",
      "****************************************\n",
      "Training AdaBoostClassifier :\n",
      "Time taken : 8.98 secs.\n",
      "Best f1_score : 0.7003\n",
      "****************************************\n"
     ]
    }
   ],
   "source": [
    "new_clf_names = []\n",
    "new_clf_f1_scores = []\n",
    "new_clf_best_models = []\n",
    "new_clf_time_taken = []\n",
    "\n",
    "for clf in offerm.CLASSIFER_LIST:\n",
    "\n",
    "    model, best_f1_score, time_taken = offerm.train(clf, {}, X_train, y_train, scoring='f1', cv=5, verbose=0)\n",
    "    new_clf_names.append(clf.__class__.__name__)\n",
    "    new_clf_f1_scores.append(best_f1_score)\n",
    "    new_clf_best_models.append(model)\n",
    "    new_clf_time_taken.append(time_taken)"
   ]
  },
  {
   "cell_type": "code",
   "execution_count": 30,
   "metadata": {},
   "outputs": [
    {
     "data": {
      "text/html": [
       "<div>\n",
       "<style scoped>\n",
       "    .dataframe tbody tr th:only-of-type {\n",
       "        vertical-align: middle;\n",
       "    }\n",
       "\n",
       "    .dataframe tbody tr th {\n",
       "        vertical-align: top;\n",
       "    }\n",
       "\n",
       "    .dataframe thead th {\n",
       "        text-align: right;\n",
       "    }\n",
       "</style>\n",
       "<table border=\"1\" class=\"dataframe\">\n",
       "  <thead>\n",
       "    <tr style=\"text-align: right;\">\n",
       "      <th></th>\n",
       "      <th>best_f1_score</th>\n",
       "      <th>time_taken(s)</th>\n",
       "      <th>best_model</th>\n",
       "    </tr>\n",
       "  </thead>\n",
       "  <tbody>\n",
       "    <tr>\n",
       "      <th>RandomForestClassifier</th>\n",
       "      <td>0.670284</td>\n",
       "      <td>17.61</td>\n",
       "      <td>(DecisionTreeClassifier(max_features='auto', r...</td>\n",
       "    </tr>\n",
       "    <tr>\n",
       "      <th>GradientBoostingClassifier</th>\n",
       "      <td>0.709751</td>\n",
       "      <td>24.12</td>\n",
       "      <td>([DecisionTreeRegressor(criterion='friedman_ms...</td>\n",
       "    </tr>\n",
       "    <tr>\n",
       "      <th>AdaBoostClassifier</th>\n",
       "      <td>0.700313</td>\n",
       "      <td>8.98</td>\n",
       "      <td>(DecisionTreeClassifier(max_depth=1, random_st...</td>\n",
       "    </tr>\n",
       "  </tbody>\n",
       "</table>\n",
       "</div>"
      ],
      "text/plain": [
       "                            best_f1_score  time_taken(s)  \\\n",
       "RandomForestClassifier           0.670284          17.61   \n",
       "GradientBoostingClassifier       0.709751          24.12   \n",
       "AdaBoostClassifier               0.700313           8.98   \n",
       "\n",
       "                                                                   best_model  \n",
       "RandomForestClassifier      (DecisionTreeClassifier(max_features='auto', r...  \n",
       "GradientBoostingClassifier  ([DecisionTreeRegressor(criterion='friedman_ms...  \n",
       "AdaBoostClassifier          (DecisionTreeClassifier(max_depth=1, random_st...  "
      ]
     },
     "execution_count": 30,
     "metadata": {},
     "output_type": "execute_result"
    }
   ],
   "source": [
    "new_result_dict = {'best_f1_score': new_clf_f1_scores,  'time_taken(s)': new_clf_time_taken, \"best_model\": new_clf_best_models}\n",
    "new_result_df = pd.DataFrame(new_result_dict, index=new_clf_names)\n",
    "new_result_df"
   ]
  },
  {
   "cell_type": "markdown",
   "metadata": {},
   "source": [
    "The f1 score for all three classifer is lower but all still reasonable. For all 3, GradientBoostingClassifier has the best performance. "
   ]
  },
  {
   "cell_type": "markdown",
   "metadata": {},
   "source": [
    "**Confusion Matrix**"
   ]
  },
  {
   "cell_type": "code",
   "execution_count": 31,
   "metadata": {},
   "outputs": [
    {
     "name": "stdout",
     "output_type": "stream",
     "text": [
      "true postives: 6255, false postives: 2507\n",
      "true negatives: 5224, false negatives: 2581\n",
      "\n",
      "Normalized confusion matrix:\n",
      "[[0.67572112 0.32427888]\n",
      " [0.2921005  0.7078995 ]]\n"
     ]
    }
   ],
   "source": [
    "gb_clf = new_clf_best_models[1]\n",
    "# randomforest_clf.__class__.__name__\n",
    "y_pred = gb_clf.predict(X_test)\n",
    "conf_matrix = offerm.get_confusion_matrix(y_test, y_pred, normalized=True)"
   ]
  },
  {
   "cell_type": "markdown",
   "metadata": {},
   "source": [
    "The results shows our model is able to identify 71% of cases that customer responded to an offer, 62% of cases that customer didn't respond to an offer. False Negatives is less than False positives, this means that Starbucks would less likely to miss sending offers to individuals who can respond and would still in balance of not sending offers to customers who would not respond."
   ]
  },
  {
   "cell_type": "markdown",
   "metadata": {
    "tags": []
   },
   "source": [
    "**Feature importance**\n",
    "\n",
    "We are going to look into feature importance output from GradientBoostingClassifier."
   ]
  },
  {
   "cell_type": "code",
   "execution_count": 32,
   "metadata": {},
   "outputs": [
    {
     "data": {
      "text/html": [
       "<div>\n",
       "<style scoped>\n",
       "    .dataframe tbody tr th:only-of-type {\n",
       "        vertical-align: middle;\n",
       "    }\n",
       "\n",
       "    .dataframe tbody tr th {\n",
       "        vertical-align: top;\n",
       "    }\n",
       "\n",
       "    .dataframe thead th {\n",
       "        text-align: right;\n",
       "    }\n",
       "</style>\n",
       "<table border=\"1\" class=\"dataframe\">\n",
       "  <thead>\n",
       "    <tr style=\"text-align: right;\">\n",
       "      <th></th>\n",
       "      <th>feature</th>\n",
       "      <th>imp_perc</th>\n",
       "    </tr>\n",
       "  </thead>\n",
       "  <tbody>\n",
       "    <tr>\n",
       "      <th>0</th>\n",
       "      <td>membership_length</td>\n",
       "      <td>34.29</td>\n",
       "    </tr>\n",
       "    <tr>\n",
       "      <th>1</th>\n",
       "      <td>social_ch</td>\n",
       "      <td>23.46</td>\n",
       "    </tr>\n",
       "    <tr>\n",
       "      <th>2</th>\n",
       "      <td>offer_reward</td>\n",
       "      <td>7.60</td>\n",
       "    </tr>\n",
       "    <tr>\n",
       "      <th>3</th>\n",
       "      <td>num_channels</td>\n",
       "      <td>6.75</td>\n",
       "    </tr>\n",
       "    <tr>\n",
       "      <th>4</th>\n",
       "      <td>duration</td>\n",
       "      <td>5.30</td>\n",
       "    </tr>\n",
       "    <tr>\n",
       "      <th>5</th>\n",
       "      <td>discount</td>\n",
       "      <td>4.10</td>\n",
       "    </tr>\n",
       "    <tr>\n",
       "      <th>6</th>\n",
       "      <td>M</td>\n",
       "      <td>3.57</td>\n",
       "    </tr>\n",
       "    <tr>\n",
       "      <th>7</th>\n",
       "      <td>income_40K</td>\n",
       "      <td>3.21</td>\n",
       "    </tr>\n",
       "    <tr>\n",
       "      <th>8</th>\n",
       "      <td>income_30K</td>\n",
       "      <td>2.90</td>\n",
       "    </tr>\n",
       "    <tr>\n",
       "      <th>9</th>\n",
       "      <td>difficulty</td>\n",
       "      <td>2.54</td>\n",
       "    </tr>\n",
       "  </tbody>\n",
       "</table>\n",
       "</div>"
      ],
      "text/plain": [
       "             feature  imp_perc\n",
       "0  membership_length     34.29\n",
       "1          social_ch     23.46\n",
       "2       offer_reward      7.60\n",
       "3       num_channels      6.75\n",
       "4           duration      5.30\n",
       "5           discount      4.10\n",
       "6                  M      3.57\n",
       "7         income_40K      3.21\n",
       "8         income_30K      2.90\n",
       "9         difficulty      2.54"
      ]
     },
     "execution_count": 32,
     "metadata": {},
     "output_type": "execute_result"
    }
   ],
   "source": [
    "feature_importance = offerm.calc_feature_importance(gb_clf, X_test.columns)\n",
    "feature_importance[:10]"
   ]
  },
  {
   "cell_type": "code",
   "execution_count": 33,
   "metadata": {
    "tags": []
   },
   "outputs": [
    {
     "data": {
      "image/png": "[encoded data removed]",
      "text/plain": [
       "<Figure size 720x720 with 1 Axes>"
      ]
     },
     "metadata": {
      "needs_background": "light"
     },
     "output_type": "display_data"
    }
   ],
   "source": [
    "orvis.plot_feature_importance(feature_importance)"
   ]
  },
  {
   "cell_type": "markdown",
   "metadata": {},
   "source": [
    "Inferring from the top 10 features, the factors that influence the customer's response to an offer, \n",
    "    \n",
    "- Number one, the length of the membership. The longer of being a member, it is more likely for she/he to respond. This intuitively makes sense.\n",
    "- Offer broadcasted via 'social' channel is ranked as the second. This also makes sense due to greater media exposure.  \n",
    "- num_channels is calculated and indicates the number of channels that the offer is visible. The higher number of channels, the more likely customers will see it and respond.\n",
    "- Multiple age groups, 'age_40s', 'age_50s', 'age_60s' and 'age_70s' are on the list. This indicates age of the customer should be carefully looked at when sending an offer.    \n",
    "- 'income_70ths' feature, which represents if customer's income is in bucket of 70k to 80K. This may be a significant group for engagement. "
   ]
  },
  {
   "cell_type": "markdown",
   "metadata": {},
   "source": [
    "### Hyperparameter Tuning\n",
    "\n",
    "We are going to useing GridSearch to look for best GradientBoostingClassifier with following set of parameters. "
   ]
  },
  {
   "cell_type": "markdown",
   "metadata": {},
   "source": [
    "**n_estimators**\n",
    "\n",
    "n_estimators represents the number of trees in the forest. Usually the larger the number, the bette model learns the data. However, adding a lot of estimators can slow down the training process considerably without benefit of performance."
   ]
  },
  {
   "cell_type": "code",
   "execution_count": 34,
   "metadata": {},
   "outputs": [],
   "source": [
    "def get_f1_score(grid, param_name):\n",
    "    \"\"\"Get f1_score from GridSearchCV \n",
    "    \n",
    "    Args:\n",
    "        a fitted grid\n",
    "        \n",
    "    Returns:\n",
    "        None\n",
    "    \"\"\"\n",
    "                                             \n",
    "    clf = grid.best_estimator_\n",
    "    y_pred = clf.predict(X_test)\n",
    "    test_f1_score = f1_score(y_test, y_pred)\n",
    "    print(f'Grid search result: best {param_name} = {grid.best_params_}, best training_score = {grid.best_score_}, f1_score: {test_f1_score}')"
   ]
  },
  {
   "cell_type": "code",
   "execution_count": 35,
   "metadata": {},
   "outputs": [],
   "source": [
    "def get_scores(param_name):\n",
    "    \"\"\"Get test scores from GridSearchCV\n",
    "    Args:\n",
    "        hyperparam_key: name of the hyperparameter from GridSearchCV cv_results_\n",
    "        \n",
    "    Returns:\n",
    "        A panda dataframe with test scores.\n",
    "    \n",
    "    \"\"\"\n",
    "    cols = [f'param_{param_name}', 'mean_test_score', 'std_test_score']\n",
    "    result_df = pd.DataFrame(columns=cols)\n",
    "    for col in cols:\n",
    "        result_df[col] = grid.cv_results_[col]\n",
    "    return result_df    "
   ]
  },
  {
   "cell_type": "code",
   "execution_count": 36,
   "metadata": {},
   "outputs": [],
   "source": [
    "params = {'n_estimators':range(4,33,4)}\n",
    "grid = GridSearchCV(estimator = GradientBoostingClassifier(learning_rate=0.01, random_state=42), param_grid = params, scoring='f1',n_jobs=4, cv=5, return_train_score=True)  \n",
    "grid.fit(X_train,y_train);"
   ]
  },
  {
   "cell_type": "code",
   "execution_count": 37,
   "metadata": {},
   "outputs": [
    {
     "name": "stdout",
     "output_type": "stream",
     "text": [
      "Grid search result: best n_estimators = {'n_estimators': 28}, best training_score = 0.7182956315413115, f1_score: 0.7199444058373871\n"
     ]
    },
    {
     "data": {
      "text/html": [
       "<div>\n",
       "<style scoped>\n",
       "    .dataframe tbody tr th:only-of-type {\n",
       "        vertical-align: middle;\n",
       "    }\n",
       "\n",
       "    .dataframe tbody tr th {\n",
       "        vertical-align: top;\n",
       "    }\n",
       "\n",
       "    .dataframe thead th {\n",
       "        text-align: right;\n",
       "    }\n",
       "</style>\n",
       "<table border=\"1\" class=\"dataframe\">\n",
       "  <thead>\n",
       "    <tr style=\"text-align: right;\">\n",
       "      <th></th>\n",
       "      <th>param_n_estimators</th>\n",
       "      <th>mean_test_score</th>\n",
       "      <th>std_test_score</th>\n",
       "    </tr>\n",
       "  </thead>\n",
       "  <tbody>\n",
       "    <tr>\n",
       "      <th>0</th>\n",
       "      <td>4</td>\n",
       "      <td>0.692321</td>\n",
       "      <td>0.000000</td>\n",
       "    </tr>\n",
       "    <tr>\n",
       "      <th>1</th>\n",
       "      <td>8</td>\n",
       "      <td>0.692321</td>\n",
       "      <td>0.000000</td>\n",
       "    </tr>\n",
       "    <tr>\n",
       "      <th>2</th>\n",
       "      <td>12</td>\n",
       "      <td>0.703037</td>\n",
       "      <td>0.000505</td>\n",
       "    </tr>\n",
       "    <tr>\n",
       "      <th>3</th>\n",
       "      <td>16</td>\n",
       "      <td>0.712773</td>\n",
       "      <td>0.001534</td>\n",
       "    </tr>\n",
       "    <tr>\n",
       "      <th>4</th>\n",
       "      <td>20</td>\n",
       "      <td>0.712238</td>\n",
       "      <td>0.003582</td>\n",
       "    </tr>\n",
       "    <tr>\n",
       "      <th>5</th>\n",
       "      <td>24</td>\n",
       "      <td>0.715227</td>\n",
       "      <td>0.006476</td>\n",
       "    </tr>\n",
       "    <tr>\n",
       "      <th>6</th>\n",
       "      <td>28</td>\n",
       "      <td>0.718296</td>\n",
       "      <td>0.003929</td>\n",
       "    </tr>\n",
       "    <tr>\n",
       "      <th>7</th>\n",
       "      <td>32</td>\n",
       "      <td>0.715927</td>\n",
       "      <td>0.005731</td>\n",
       "    </tr>\n",
       "  </tbody>\n",
       "</table>\n",
       "</div>"
      ],
      "text/plain": [
       "  param_n_estimators  mean_test_score  std_test_score\n",
       "0                  4         0.692321        0.000000\n",
       "1                  8         0.692321        0.000000\n",
       "2                 12         0.703037        0.000505\n",
       "3                 16         0.712773        0.001534\n",
       "4                 20         0.712238        0.003582\n",
       "5                 24         0.715227        0.006476\n",
       "6                 28         0.718296        0.003929\n",
       "7                 32         0.715927        0.005731"
      ]
     },
     "execution_count": 37,
     "metadata": {},
     "output_type": "execute_result"
    }
   ],
   "source": [
    "param_name = list(params.keys())[0]\n",
    "get_f1_score(grid, param_name)\n",
    "get_scores('n_estimators')"
   ]
  },
  {
   "cell_type": "markdown",
   "metadata": {
    "tags": []
   },
   "source": [
    "n_estimators as 28 has the best score."
   ]
  },
  {
   "cell_type": "markdown",
   "metadata": {},
   "source": [
    "**max_depth**\n",
    "\n",
    "max_depth represents the depth of each tree in the forest. The deeper the tree, the more splits it has and it captures more information about the data. We fit each decision tree with depths ranging from 1 to 32."
   ]
  },
  {
   "cell_type": "code",
   "execution_count": 38,
   "metadata": {},
   "outputs": [],
   "source": [
    "param_name = 'max_depth'\n",
    "max_depths = range(5,16,2)\n",
    "params = {param_name:max_depths}\n",
    "\n",
    "grid = GridSearchCV(estimator = GradientBoostingClassifier(learning_rate=0.01, n_estimators=28, random_state=42), param_grid = params, scoring='f1',n_jobs=4, cv=5, return_train_score=True)  \n",
    "grid.fit(X_train,y_train);"
   ]
  },
  {
   "cell_type": "code",
   "execution_count": 39,
   "metadata": {},
   "outputs": [
    {
     "name": "stdout",
     "output_type": "stream",
     "text": [
      "Grid search result: best max_depth = {'max_depth': 7}, best training_score = 0.7269588475386956, f1_score: 0.7326290125965056\n"
     ]
    },
    {
     "data": {
      "text/html": [
       "<div>\n",
       "<style scoped>\n",
       "    .dataframe tbody tr th:only-of-type {\n",
       "        vertical-align: middle;\n",
       "    }\n",
       "\n",
       "    .dataframe tbody tr th {\n",
       "        vertical-align: top;\n",
       "    }\n",
       "\n",
       "    .dataframe thead th {\n",
       "        text-align: right;\n",
       "    }\n",
       "</style>\n",
       "<table border=\"1\" class=\"dataframe\">\n",
       "  <thead>\n",
       "    <tr style=\"text-align: right;\">\n",
       "      <th></th>\n",
       "      <th>param_max_depth</th>\n",
       "      <th>mean_test_score</th>\n",
       "      <th>std_test_score</th>\n",
       "    </tr>\n",
       "  </thead>\n",
       "  <tbody>\n",
       "    <tr>\n",
       "      <th>0</th>\n",
       "      <td>5</td>\n",
       "      <td>0.720968</td>\n",
       "      <td>0.001518</td>\n",
       "    </tr>\n",
       "    <tr>\n",
       "      <th>1</th>\n",
       "      <td>7</td>\n",
       "      <td>0.726959</td>\n",
       "      <td>0.002143</td>\n",
       "    </tr>\n",
       "    <tr>\n",
       "      <th>2</th>\n",
       "      <td>9</td>\n",
       "      <td>0.722594</td>\n",
       "      <td>0.003338</td>\n",
       "    </tr>\n",
       "    <tr>\n",
       "      <th>3</th>\n",
       "      <td>11</td>\n",
       "      <td>0.716878</td>\n",
       "      <td>0.004319</td>\n",
       "    </tr>\n",
       "    <tr>\n",
       "      <th>4</th>\n",
       "      <td>13</td>\n",
       "      <td>0.708853</td>\n",
       "      <td>0.003207</td>\n",
       "    </tr>\n",
       "    <tr>\n",
       "      <th>5</th>\n",
       "      <td>15</td>\n",
       "      <td>0.701408</td>\n",
       "      <td>0.002438</td>\n",
       "    </tr>\n",
       "  </tbody>\n",
       "</table>\n",
       "</div>"
      ],
      "text/plain": [
       "  param_max_depth  mean_test_score  std_test_score\n",
       "0               5         0.720968        0.001518\n",
       "1               7         0.726959        0.002143\n",
       "2               9         0.722594        0.003338\n",
       "3              11         0.716878        0.004319\n",
       "4              13         0.708853        0.003207\n",
       "5              15         0.701408        0.002438"
      ]
     },
     "execution_count": 39,
     "metadata": {},
     "output_type": "execute_result"
    }
   ],
   "source": [
    "get_f1_score(grid, param_name)\n",
    "get_scores(param_name)"
   ]
  },
  {
   "cell_type": "markdown",
   "metadata": {},
   "source": [
    "Max_depth as 7 is the optimal value."
   ]
  },
  {
   "cell_type": "markdown",
   "metadata": {},
   "source": [
    "**min_samples_leaf**\n",
    "\n",
    "min_samples_leaf is The minimum number of samples required to be at a leaf node. This parameter is similar to min_samples_splits, however, this describe the minimum number of samples of samples at the leafs, the base of the tree."
   ]
  },
  {
   "cell_type": "code",
   "execution_count": 40,
   "metadata": {},
   "outputs": [],
   "source": [
    "min_samples_leafs = range(10,31,5)\n",
    "param_name = 'min_samples_leaf'\n",
    "params = {param_name:min_samples_leafs}\n",
    "\n",
    "grid = GridSearchCV(estimator = GradientBoostingClassifier(learning_rate=0.01, n_estimators=28, max_depth=7, random_state=42), param_grid = params, scoring='f1',n_jobs=4, cv=5, return_train_score=True)  \n",
    "grid.fit(X_train,y_train);"
   ]
  },
  {
   "cell_type": "code",
   "execution_count": 41,
   "metadata": {},
   "outputs": [
    {
     "name": "stdout",
     "output_type": "stream",
     "text": [
      "Grid search result: best min_samples_leaf = {'min_samples_leaf': 25}, best training_score = 0.7274949155769966, f1_score: 0.7327887981330221\n"
     ]
    },
    {
     "data": {
      "text/html": [
       "<div>\n",
       "<style scoped>\n",
       "    .dataframe tbody tr th:only-of-type {\n",
       "        vertical-align: middle;\n",
       "    }\n",
       "\n",
       "    .dataframe tbody tr th {\n",
       "        vertical-align: top;\n",
       "    }\n",
       "\n",
       "    .dataframe thead th {\n",
       "        text-align: right;\n",
       "    }\n",
       "</style>\n",
       "<table border=\"1\" class=\"dataframe\">\n",
       "  <thead>\n",
       "    <tr style=\"text-align: right;\">\n",
       "      <th></th>\n",
       "      <th>param_min_samples_leaf</th>\n",
       "      <th>mean_test_score</th>\n",
       "      <th>std_test_score</th>\n",
       "    </tr>\n",
       "  </thead>\n",
       "  <tbody>\n",
       "    <tr>\n",
       "      <th>0</th>\n",
       "      <td>10</td>\n",
       "      <td>0.726926</td>\n",
       "      <td>0.001793</td>\n",
       "    </tr>\n",
       "    <tr>\n",
       "      <th>1</th>\n",
       "      <td>15</td>\n",
       "      <td>0.727335</td>\n",
       "      <td>0.002657</td>\n",
       "    </tr>\n",
       "    <tr>\n",
       "      <th>2</th>\n",
       "      <td>20</td>\n",
       "      <td>0.727284</td>\n",
       "      <td>0.002135</td>\n",
       "    </tr>\n",
       "    <tr>\n",
       "      <th>3</th>\n",
       "      <td>25</td>\n",
       "      <td>0.727495</td>\n",
       "      <td>0.001850</td>\n",
       "    </tr>\n",
       "    <tr>\n",
       "      <th>4</th>\n",
       "      <td>30</td>\n",
       "      <td>0.725879</td>\n",
       "      <td>0.002118</td>\n",
       "    </tr>\n",
       "  </tbody>\n",
       "</table>\n",
       "</div>"
      ],
      "text/plain": [
       "  param_min_samples_leaf  mean_test_score  std_test_score\n",
       "0                     10         0.726926        0.001793\n",
       "1                     15         0.727335        0.002657\n",
       "2                     20         0.727284        0.002135\n",
       "3                     25         0.727495        0.001850\n",
       "4                     30         0.725879        0.002118"
      ]
     },
     "execution_count": 41,
     "metadata": {},
     "output_type": "execute_result"
    }
   ],
   "source": [
    "get_f1_score(grid, param_name)\n",
    "get_scores(param_name)"
   ]
  },
  {
   "cell_type": "markdown",
   "metadata": {},
   "source": [
    "Optimal min_samples_leaf is 25. "
   ]
  },
  {
   "cell_type": "markdown",
   "metadata": {},
   "source": [
    "**max_features**\n",
    "\n",
    "max_features represents the number of features to consider when looking for the best split."
   ]
  },
  {
   "cell_type": "code",
   "execution_count": 42,
   "metadata": {},
   "outputs": [],
   "source": [
    "max_features = list(range(1,X_train.shape[1], 4))\n",
    "param_name = 'max_features'\n",
    "params = {param_name:max_features}\n",
    "\n",
    "grid = GridSearchCV(estimator = GradientBoostingClassifier(learning_rate=0.01, n_estimators=28, max_depth=7, min_samples_leaf=25, random_state=42), param_grid = params, scoring='f1',n_jobs=4, cv=5, return_train_score=True)  \n",
    "grid.fit(X_train,y_train);"
   ]
  },
  {
   "cell_type": "code",
   "execution_count": 43,
   "metadata": {},
   "outputs": [
    {
     "name": "stdout",
     "output_type": "stream",
     "text": [
      "Grid search result: best max_features = {'max_features': 45}, best training_score = 0.7284238685220747, f1_score: 0.7310365978327539\n"
     ]
    },
    {
     "data": {
      "text/html": [
       "<div>\n",
       "<style scoped>\n",
       "    .dataframe tbody tr th:only-of-type {\n",
       "        vertical-align: middle;\n",
       "    }\n",
       "\n",
       "    .dataframe tbody tr th {\n",
       "        vertical-align: top;\n",
       "    }\n",
       "\n",
       "    .dataframe thead th {\n",
       "        text-align: right;\n",
       "    }\n",
       "</style>\n",
       "<table border=\"1\" class=\"dataframe\">\n",
       "  <thead>\n",
       "    <tr style=\"text-align: right;\">\n",
       "      <th></th>\n",
       "      <th>param_max_features</th>\n",
       "      <th>mean_test_score</th>\n",
       "      <th>std_test_score</th>\n",
       "    </tr>\n",
       "  </thead>\n",
       "  <tbody>\n",
       "    <tr>\n",
       "      <th>0</th>\n",
       "      <td>1</td>\n",
       "      <td>0.705190</td>\n",
       "      <td>0.001194</td>\n",
       "    </tr>\n",
       "    <tr>\n",
       "      <th>1</th>\n",
       "      <td>5</td>\n",
       "      <td>0.726174</td>\n",
       "      <td>0.003428</td>\n",
       "    </tr>\n",
       "    <tr>\n",
       "      <th>2</th>\n",
       "      <td>9</td>\n",
       "      <td>0.727890</td>\n",
       "      <td>0.003311</td>\n",
       "    </tr>\n",
       "    <tr>\n",
       "      <th>3</th>\n",
       "      <td>13</td>\n",
       "      <td>0.726425</td>\n",
       "      <td>0.001543</td>\n",
       "    </tr>\n",
       "    <tr>\n",
       "      <th>4</th>\n",
       "      <td>17</td>\n",
       "      <td>0.726398</td>\n",
       "      <td>0.001698</td>\n",
       "    </tr>\n",
       "    <tr>\n",
       "      <th>5</th>\n",
       "      <td>21</td>\n",
       "      <td>0.727720</td>\n",
       "      <td>0.001264</td>\n",
       "    </tr>\n",
       "    <tr>\n",
       "      <th>6</th>\n",
       "      <td>25</td>\n",
       "      <td>0.727444</td>\n",
       "      <td>0.002583</td>\n",
       "    </tr>\n",
       "    <tr>\n",
       "      <th>7</th>\n",
       "      <td>29</td>\n",
       "      <td>0.727796</td>\n",
       "      <td>0.001806</td>\n",
       "    </tr>\n",
       "    <tr>\n",
       "      <th>8</th>\n",
       "      <td>33</td>\n",
       "      <td>0.727929</td>\n",
       "      <td>0.002502</td>\n",
       "    </tr>\n",
       "    <tr>\n",
       "      <th>9</th>\n",
       "      <td>37</td>\n",
       "      <td>0.727600</td>\n",
       "      <td>0.002241</td>\n",
       "    </tr>\n",
       "    <tr>\n",
       "      <th>10</th>\n",
       "      <td>41</td>\n",
       "      <td>0.727379</td>\n",
       "      <td>0.000898</td>\n",
       "    </tr>\n",
       "    <tr>\n",
       "      <th>11</th>\n",
       "      <td>45</td>\n",
       "      <td>0.728424</td>\n",
       "      <td>0.001426</td>\n",
       "    </tr>\n",
       "    <tr>\n",
       "      <th>12</th>\n",
       "      <td>49</td>\n",
       "      <td>0.727837</td>\n",
       "      <td>0.002277</td>\n",
       "    </tr>\n",
       "    <tr>\n",
       "      <th>13</th>\n",
       "      <td>53</td>\n",
       "      <td>0.727562</td>\n",
       "      <td>0.001136</td>\n",
       "    </tr>\n",
       "  </tbody>\n",
       "</table>\n",
       "</div>"
      ],
      "text/plain": [
       "   param_max_features  mean_test_score  std_test_score\n",
       "0                   1         0.705190        0.001194\n",
       "1                   5         0.726174        0.003428\n",
       "2                   9         0.727890        0.003311\n",
       "3                  13         0.726425        0.001543\n",
       "4                  17         0.726398        0.001698\n",
       "5                  21         0.727720        0.001264\n",
       "6                  25         0.727444        0.002583\n",
       "7                  29         0.727796        0.001806\n",
       "8                  33         0.727929        0.002502\n",
       "9                  37         0.727600        0.002241\n",
       "10                 41         0.727379        0.000898\n",
       "11                 45         0.728424        0.001426\n",
       "12                 49         0.727837        0.002277\n",
       "13                 53         0.727562        0.001136"
      ]
     },
     "execution_count": 43,
     "metadata": {},
     "output_type": "execute_result"
    }
   ],
   "source": [
    "get_f1_score(grid, param_name)\n",
    "get_scores(param_name)"
   ]
  },
  {
   "cell_type": "markdown",
   "metadata": {},
   "source": [
    "**Final model**"
   ]
  },
  {
   "cell_type": "code",
   "execution_count": 44,
   "metadata": {},
   "outputs": [
    {
     "data": {
      "text/plain": [
       "GradientBoostingClassifier(learning_rate=0.01, max_depth=7, max_features=45,\n",
       "                           min_samples_leaf=25, n_estimators=28,\n",
       "                           random_state=42)"
      ]
     },
     "execution_count": 44,
     "metadata": {},
     "output_type": "execute_result"
    }
   ],
   "source": [
    "clf = grid.best_estimator_\n",
    "clf"
   ]
  },
  {
   "cell_type": "code",
   "execution_count": 45,
   "metadata": {},
   "outputs": [
    {
     "name": "stdout",
     "output_type": "stream",
     "text": [
      "true postives: 7151, false postives: 3577\n",
      "true negatives: 4154, false negatives: 1685\n",
      "\n",
      "Normalized confusion matrix:\n",
      "[[0.53731729 0.46268271]\n",
      " [0.19069715 0.80930285]]\n"
     ]
    }
   ],
   "source": [
    "y_pred = clf.predict(X_test)\n",
    "conf_matrix = offerm.get_confusion_matrix(y_test, y_pred, normalized=True)"
   ]
  },
  {
   "cell_type": "code",
   "execution_count": 46,
   "metadata": {},
   "outputs": [],
   "source": [
    "offerm.save_model(clf, '../output/models/offer_response.pkl')"
   ]
  },
  {
   "cell_type": "markdown",
   "metadata": {},
   "source": [
    "## Improvements\n",
    "\n",
    "Addtional data and more accurate data may increase the performance of the model, specifically\n",
    "\n",
    "1. Larger data collection for customer demographic info. In the current set, we only have age, gender, and income. The region where customer lives would be a nice to have.\n",
    "  \n",
    "2. Different way to collect data. With current dataset, the transactions are to have been inferred based on offer period. This reduces the accuracy of labeling the dataset.\n",
    "\n",
    "3. Include `customer_id` as part of input features to improve model accuracy. Even though 'customer_id' is a str type, we can apply the Hashed Feature design pattern. More info about this design pattern can be found at [Machine Learning Design Patterns](https://learning.oreilly.com/library/view/machine-learning-design/9781098115777/ch02.html#problem-id00001). "
   ]
  },
  {
   "cell_type": "markdown",
   "metadata": {},
   "source": [
    "## Reference\n",
    "\n",
    " - [Complete Machine Learning Guide to Parameter Tuning in Gradient Boosting (GBM) in Python](https://www.analyticsvidhya.com/blog/2016/02/complete-guide-parameter-tuning-gradient-boosting-gbm-python/)\n",
    " - [In Depth: Parameter tuning for Random Forest](https://medium.com/all-things-ai/in-depth-parameter-tuning-for-random-forest-d67bb7e920d)."
   ]
  },
  {
   "cell_type": "code",
   "execution_count": null,
   "metadata": {},
   "outputs": [],
   "source": []
  }
 ],
 "metadata": {
  "kernelspec": {
   "display_name": "Python 3 (ipykernel)",
   "language": "python",
   "name": "python3"
  },
  "language_info": {
   "codemirror_mode": {
    "name": "ipython",
    "version": 3
   },
   "file_extension": ".py",
   "mimetype": "text/x-python",
   "name": "python",
   "nbconvert_exporter": "python",
   "pygments_lexer": "ipython3",
   "version": "3.9.6"
  }
 },
 "nbformat": 4,
 "nbformat_minor": 4
}
