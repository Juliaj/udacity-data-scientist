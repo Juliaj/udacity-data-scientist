{
 "cells": [
  {
   "cell_type": "markdown",
   "id": "8d1444ae",
   "metadata": {},
   "source": [
    "# Data Cleaning and Processing"
   ]
  },
  {
   "cell_type": "code",
   "execution_count": 1,
   "id": "23018696",
   "metadata": {},
   "outputs": [],
   "source": [
    "import pandas as pd\n",
    "import numpy as np\n",
    "import math\n",
    "import json\n",
    "%matplotlib inline\n",
    "\n",
    "# Add pipelines to path for python modules\n",
    "import sys; sys.path.insert(0, '../pipelines')\n",
    "\n",
    "import data_processing.profile as dpprof\n",
    "import data_processing.portfolio as dpport\n",
    "import data_processing.transcript as dptran\n",
    "import data_processing.util as util\n",
    "\n",
    "%load_ext autoreload\n",
    "%autoreload 2"
   ]
  },
  {
   "cell_type": "markdown",
   "id": "587cbbce-8422-4c9a-a0c0-a3ff025e6241",
   "metadata": {
    "tags": []
   },
   "source": [
    "## Dataset overview\n",
    "\n",
    "There are three datasets which simulates how people make purchasing decisions and how those decisions are influenced by promotional offers. \n",
    "\n",
    "- Portfolio dataset contains offer meta data such as offer type and duration.\n",
    "- Profile dataset captures demographic information of customers. \n",
    "- Transcript records customer's interactions with these offer. "
   ]
  },
  {
   "cell_type": "markdown",
   "id": "58ccad98",
   "metadata": {
    "tags": []
   },
   "source": [
    "## Portfolio\n",
    "\n",
    "Containing offer ids and meta data about each offer (duration, type, etc.).\n",
    "\n",
    "portfolio.json\n",
    "- id (string) - offer id\n",
    "- offer_type (string) - type of offer ie BOGO, discount, informational\n",
    "- difficulty (int) - minimum required spend to complete an offer\n",
    "- reward (int) - reward given for completing an offer\n",
    "- duration (int) - time for offer to be open, in days\n",
    "- channels (list of strings)"
   ]
  },
  {
   "cell_type": "code",
   "execution_count": 2,
   "id": "d743b590",
   "metadata": {},
   "outputs": [],
   "source": [
    "# read in the json files\n",
    "portfolio = pd.read_json('../data/0_raw/portfolio.json', orient='records', lines=True)"
   ]
  },
  {
   "cell_type": "code",
   "execution_count": 3,
   "id": "2f61f722",
   "metadata": {
    "scrolled": true,
    "tags": []
   },
   "outputs": [
    {
     "data": {
      "text/html": [
       "<div>\n",
       "<style scoped>\n",
       "    .dataframe tbody tr th:only-of-type {\n",
       "        vertical-align: middle;\n",
       "    }\n",
       "\n",
       "    .dataframe tbody tr th {\n",
       "        vertical-align: top;\n",
       "    }\n",
       "\n",
       "    .dataframe thead th {\n",
       "        text-align: right;\n",
       "    }\n",
       "</style>\n",
       "<table border=\"1\" class=\"dataframe\">\n",
       "  <thead>\n",
       "    <tr style=\"text-align: right;\">\n",
       "      <th></th>\n",
       "      <th>reward</th>\n",
       "      <th>channels</th>\n",
       "      <th>difficulty</th>\n",
       "      <th>duration</th>\n",
       "      <th>offer_type</th>\n",
       "      <th>id</th>\n",
       "    </tr>\n",
       "  </thead>\n",
       "  <tbody>\n",
       "    <tr>\n",
       "      <th>0</th>\n",
       "      <td>10</td>\n",
       "      <td>[email, mobile, social]</td>\n",
       "      <td>10</td>\n",
       "      <td>7</td>\n",
       "      <td>bogo</td>\n",
       "      <td>ae264e3637204a6fb9bb56bc8210ddfd</td>\n",
       "    </tr>\n",
       "    <tr>\n",
       "      <th>1</th>\n",
       "      <td>10</td>\n",
       "      <td>[web, email, mobile, social]</td>\n",
       "      <td>10</td>\n",
       "      <td>5</td>\n",
       "      <td>bogo</td>\n",
       "      <td>4d5c57ea9a6940dd891ad53e9dbe8da0</td>\n",
       "    </tr>\n",
       "    <tr>\n",
       "      <th>2</th>\n",
       "      <td>0</td>\n",
       "      <td>[web, email, mobile]</td>\n",
       "      <td>0</td>\n",
       "      <td>4</td>\n",
       "      <td>informational</td>\n",
       "      <td>3f207df678b143eea3cee63160fa8bed</td>\n",
       "    </tr>\n",
       "    <tr>\n",
       "      <th>3</th>\n",
       "      <td>5</td>\n",
       "      <td>[web, email, mobile]</td>\n",
       "      <td>5</td>\n",
       "      <td>7</td>\n",
       "      <td>bogo</td>\n",
       "      <td>9b98b8c7a33c4b65b9aebfe6a799e6d9</td>\n",
       "    </tr>\n",
       "    <tr>\n",
       "      <th>4</th>\n",
       "      <td>5</td>\n",
       "      <td>[web, email]</td>\n",
       "      <td>20</td>\n",
       "      <td>10</td>\n",
       "      <td>discount</td>\n",
       "      <td>0b1e1539f2cc45b7b9fa7c272da2e1d7</td>\n",
       "    </tr>\n",
       "  </tbody>\n",
       "</table>\n",
       "</div>"
      ],
      "text/plain": [
       "   reward                      channels  difficulty  duration     offer_type  \\\n",
       "0      10       [email, mobile, social]          10         7           bogo   \n",
       "1      10  [web, email, mobile, social]          10         5           bogo   \n",
       "2       0          [web, email, mobile]           0         4  informational   \n",
       "3       5          [web, email, mobile]           5         7           bogo   \n",
       "4       5                  [web, email]          20        10       discount   \n",
       "\n",
       "                                 id  \n",
       "0  ae264e3637204a6fb9bb56bc8210ddfd  \n",
       "1  4d5c57ea9a6940dd891ad53e9dbe8da0  \n",
       "2  3f207df678b143eea3cee63160fa8bed  \n",
       "3  9b98b8c7a33c4b65b9aebfe6a799e6d9  \n",
       "4  0b1e1539f2cc45b7b9fa7c272da2e1d7  "
      ]
     },
     "execution_count": 3,
     "metadata": {},
     "output_type": "execute_result"
    }
   ],
   "source": [
    "portfolio.head()"
   ]
  },
  {
   "cell_type": "markdown",
   "id": "d3e6a5a5-17fa-4fde-ba1b-a7f9a148493d",
   "metadata": {
    "tags": []
   },
   "source": [
    "### Process channels column\n",
    "\n",
    "`Channels` column is a list and the task is to make a one hot encoding for each of the channels. In addtion, add a column to indicate the total number of channels that an offer was offered on."
   ]
  },
  {
   "cell_type": "code",
   "execution_count": 4,
   "id": "57fee0ce",
   "metadata": {},
   "outputs": [],
   "source": [
    "def process_channels_data(df, col='channels'):\n",
    "    ''' Get the unique channels \n",
    "    \n",
    "    INPUT:\n",
    "    df - (pandas dataframe) input data\n",
    "    \n",
    "    OUTPUT:\n",
    "    channels_df - (pandas dataframe) with each channel as a seperate column and total channel count\n",
    "    \n",
    "    '''\n",
    "    \n",
    "    #Exract unique channels\n",
    "    channs = set()\n",
    "    for chan in df[col]:\n",
    "        channs.update(set(chan))\n",
    "    channs = list(channs)\n",
    "    \n",
    "    new_channs = pd.DataFrame()\n",
    "    for column in channs:\n",
    "        new_channs[f'{column}_ch'] = df[col].apply(lambda x: 1 if column in x else 0)\n",
    "        new_channs['num_channels'] = df[col].apply(lambda x: len(x))\n",
    "    \n",
    "    return new_channs"
   ]
  },
  {
   "cell_type": "code",
   "execution_count": 5,
   "id": "2e9dcff9-1232-45cb-853c-fc04a8291808",
   "metadata": {},
   "outputs": [],
   "source": [
    "# Split channels into their own column and add a channels count column\n",
    "new_channs = process_channels_data(portfolio)"
   ]
  },
  {
   "cell_type": "code",
   "execution_count": 6,
   "id": "f7723a82-7d30-4807-8624-24290ac541ab",
   "metadata": {},
   "outputs": [
    {
     "data": {
      "text/plain": [
       "Index(['email_ch', 'num_channels', 'social_ch', 'web_ch', 'mobile_ch'], dtype='object')"
      ]
     },
     "execution_count": 6,
     "metadata": {},
     "output_type": "execute_result"
    }
   ],
   "source": [
    "new_channs.columns"
   ]
  },
  {
   "cell_type": "code",
   "execution_count": 7,
   "id": "02c6e30d-e7b1-4f0c-9367-45f8cd582908",
   "metadata": {},
   "outputs": [
    {
     "data": {
      "text/html": [
       "<div>\n",
       "<style scoped>\n",
       "    .dataframe tbody tr th:only-of-type {\n",
       "        vertical-align: middle;\n",
       "    }\n",
       "\n",
       "    .dataframe tbody tr th {\n",
       "        vertical-align: top;\n",
       "    }\n",
       "\n",
       "    .dataframe thead th {\n",
       "        text-align: right;\n",
       "    }\n",
       "</style>\n",
       "<table border=\"1\" class=\"dataframe\">\n",
       "  <thead>\n",
       "    <tr style=\"text-align: right;\">\n",
       "      <th></th>\n",
       "      <th>email_ch</th>\n",
       "      <th>num_channels</th>\n",
       "      <th>social_ch</th>\n",
       "      <th>web_ch</th>\n",
       "      <th>mobile_ch</th>\n",
       "    </tr>\n",
       "  </thead>\n",
       "  <tbody>\n",
       "    <tr>\n",
       "      <th>0</th>\n",
       "      <td>1</td>\n",
       "      <td>3</td>\n",
       "      <td>1</td>\n",
       "      <td>0</td>\n",
       "      <td>1</td>\n",
       "    </tr>\n",
       "    <tr>\n",
       "      <th>1</th>\n",
       "      <td>1</td>\n",
       "      <td>4</td>\n",
       "      <td>1</td>\n",
       "      <td>1</td>\n",
       "      <td>1</td>\n",
       "    </tr>\n",
       "    <tr>\n",
       "      <th>2</th>\n",
       "      <td>1</td>\n",
       "      <td>3</td>\n",
       "      <td>0</td>\n",
       "      <td>1</td>\n",
       "      <td>1</td>\n",
       "    </tr>\n",
       "    <tr>\n",
       "      <th>3</th>\n",
       "      <td>1</td>\n",
       "      <td>3</td>\n",
       "      <td>0</td>\n",
       "      <td>1</td>\n",
       "      <td>1</td>\n",
       "    </tr>\n",
       "    <tr>\n",
       "      <th>4</th>\n",
       "      <td>1</td>\n",
       "      <td>2</td>\n",
       "      <td>0</td>\n",
       "      <td>1</td>\n",
       "      <td>0</td>\n",
       "    </tr>\n",
       "  </tbody>\n",
       "</table>\n",
       "</div>"
      ],
      "text/plain": [
       "   email_ch  num_channels  social_ch  web_ch  mobile_ch\n",
       "0         1             3          1       0          1\n",
       "1         1             4          1       1          1\n",
       "2         1             3          0       1          1\n",
       "3         1             3          0       1          1\n",
       "4         1             2          0       1          0"
      ]
     },
     "execution_count": 7,
     "metadata": {},
     "output_type": "execute_result"
    }
   ],
   "source": [
    "new_channs.head()"
   ]
  },
  {
   "cell_type": "markdown",
   "id": "8a1eb9eb-4e45-4005-b7af-9b2085558045",
   "metadata": {
    "tags": []
   },
   "source": [
    "### Process offer_type column\n",
    "\n",
    "Column `offer_type` indicates the type of the offer. Do we have missing data?"
   ]
  },
  {
   "cell_type": "code",
   "execution_count": 8,
   "id": "7c274b1c",
   "metadata": {},
   "outputs": [
    {
     "data": {
      "text/plain": [
       "0"
      ]
     },
     "execution_count": 8,
     "metadata": {},
     "output_type": "execute_result"
    }
   ],
   "source": [
    "# add dummy fields for offer_type\n",
    "portfolio['offer_type'].isnull().sum()"
   ]
  },
  {
   "cell_type": "code",
   "execution_count": 9,
   "id": "886d9c91-6586-49e1-a766-5637168021cd",
   "metadata": {},
   "outputs": [
    {
     "data": {
      "image/png": "[encoded data removed]",
      "text/plain": [
       "<Figure size 432x288 with 1 Axes>"
      ]
     },
     "metadata": {
      "needs_background": "light"
     },
     "output_type": "display_data"
    }
   ],
   "source": [
    "# reward distribution\n",
    "portfolio['reward'].hist();"
   ]
  },
  {
   "cell_type": "code",
   "execution_count": 10,
   "id": "9488fa43",
   "metadata": {},
   "outputs": [
    {
     "data": {
      "image/png": "[encoded data removed]",
      "text/plain": [
       "<Figure size 432x288 with 1 Axes>"
      ]
     },
     "metadata": {
      "needs_background": "light"
     },
     "output_type": "display_data"
    }
   ],
   "source": [
    "# offer_type \n",
    "portfolio['offer_type'].hist();"
   ]
  },
  {
   "cell_type": "markdown",
   "id": "f319baa9-34a9-441b-9ec3-a46fbf5a55fd",
   "metadata": {},
   "source": [
    "### Concatenate the new columns to Portfolio"
   ]
  },
  {
   "cell_type": "code",
   "execution_count": 11,
   "id": "841726f1-e1c3-4c94-a37a-629b43005348",
   "metadata": {},
   "outputs": [
    {
     "data": {
      "text/html": [
       "<div>\n",
       "<style scoped>\n",
       "    .dataframe tbody tr th:only-of-type {\n",
       "        vertical-align: middle;\n",
       "    }\n",
       "\n",
       "    .dataframe tbody tr th {\n",
       "        vertical-align: top;\n",
       "    }\n",
       "\n",
       "    .dataframe thead th {\n",
       "        text-align: right;\n",
       "    }\n",
       "</style>\n",
       "<table border=\"1\" class=\"dataframe\">\n",
       "  <thead>\n",
       "    <tr style=\"text-align: right;\">\n",
       "      <th></th>\n",
       "      <th>reward</th>\n",
       "      <th>channels</th>\n",
       "      <th>difficulty</th>\n",
       "      <th>duration</th>\n",
       "      <th>offer_type</th>\n",
       "      <th>id</th>\n",
       "      <th>email_ch</th>\n",
       "      <th>num_channels</th>\n",
       "      <th>social_ch</th>\n",
       "      <th>web_ch</th>\n",
       "      <th>mobile_ch</th>\n",
       "    </tr>\n",
       "  </thead>\n",
       "  <tbody>\n",
       "    <tr>\n",
       "      <th>0</th>\n",
       "      <td>10</td>\n",
       "      <td>[email, mobile, social]</td>\n",
       "      <td>10</td>\n",
       "      <td>7</td>\n",
       "      <td>bogo</td>\n",
       "      <td>ae264e3637204a6fb9bb56bc8210ddfd</td>\n",
       "      <td>1</td>\n",
       "      <td>3</td>\n",
       "      <td>1</td>\n",
       "      <td>0</td>\n",
       "      <td>1</td>\n",
       "    </tr>\n",
       "    <tr>\n",
       "      <th>1</th>\n",
       "      <td>10</td>\n",
       "      <td>[web, email, mobile, social]</td>\n",
       "      <td>10</td>\n",
       "      <td>5</td>\n",
       "      <td>bogo</td>\n",
       "      <td>4d5c57ea9a6940dd891ad53e9dbe8da0</td>\n",
       "      <td>1</td>\n",
       "      <td>4</td>\n",
       "      <td>1</td>\n",
       "      <td>1</td>\n",
       "      <td>1</td>\n",
       "    </tr>\n",
       "    <tr>\n",
       "      <th>2</th>\n",
       "      <td>0</td>\n",
       "      <td>[web, email, mobile]</td>\n",
       "      <td>0</td>\n",
       "      <td>4</td>\n",
       "      <td>informational</td>\n",
       "      <td>3f207df678b143eea3cee63160fa8bed</td>\n",
       "      <td>1</td>\n",
       "      <td>3</td>\n",
       "      <td>0</td>\n",
       "      <td>1</td>\n",
       "      <td>1</td>\n",
       "    </tr>\n",
       "    <tr>\n",
       "      <th>3</th>\n",
       "      <td>5</td>\n",
       "      <td>[web, email, mobile]</td>\n",
       "      <td>5</td>\n",
       "      <td>7</td>\n",
       "      <td>bogo</td>\n",
       "      <td>9b98b8c7a33c4b65b9aebfe6a799e6d9</td>\n",
       "      <td>1</td>\n",
       "      <td>3</td>\n",
       "      <td>0</td>\n",
       "      <td>1</td>\n",
       "      <td>1</td>\n",
       "    </tr>\n",
       "    <tr>\n",
       "      <th>4</th>\n",
       "      <td>5</td>\n",
       "      <td>[web, email]</td>\n",
       "      <td>20</td>\n",
       "      <td>10</td>\n",
       "      <td>discount</td>\n",
       "      <td>0b1e1539f2cc45b7b9fa7c272da2e1d7</td>\n",
       "      <td>1</td>\n",
       "      <td>2</td>\n",
       "      <td>0</td>\n",
       "      <td>1</td>\n",
       "      <td>0</td>\n",
       "    </tr>\n",
       "  </tbody>\n",
       "</table>\n",
       "</div>"
      ],
      "text/plain": [
       "   reward                      channels  difficulty  duration     offer_type  \\\n",
       "0      10       [email, mobile, social]          10         7           bogo   \n",
       "1      10  [web, email, mobile, social]          10         5           bogo   \n",
       "2       0          [web, email, mobile]           0         4  informational   \n",
       "3       5          [web, email, mobile]           5         7           bogo   \n",
       "4       5                  [web, email]          20        10       discount   \n",
       "\n",
       "                                 id  email_ch  num_channels  social_ch  \\\n",
       "0  ae264e3637204a6fb9bb56bc8210ddfd         1             3          1   \n",
       "1  4d5c57ea9a6940dd891ad53e9dbe8da0         1             4          1   \n",
       "2  3f207df678b143eea3cee63160fa8bed         1             3          0   \n",
       "3  9b98b8c7a33c4b65b9aebfe6a799e6d9         1             3          0   \n",
       "4  0b1e1539f2cc45b7b9fa7c272da2e1d7         1             2          0   \n",
       "\n",
       "   web_ch  mobile_ch  \n",
       "0       0          1  \n",
       "1       1          1  \n",
       "2       1          1  \n",
       "3       1          1  \n",
       "4       1          0  "
      ]
     },
     "execution_count": 11,
     "metadata": {},
     "output_type": "execute_result"
    }
   ],
   "source": [
    "new_portfo = pd.concat([portfolio, new_channs], axis=1)\n",
    "new_portfo.head()"
   ]
  },
  {
   "cell_type": "markdown",
   "id": "385dd823-f5fd-445a-a931-76a46c73d2d8",
   "metadata": {},
   "source": [
    "### Convert duration into hours \n",
    "\n",
    "Duration is the valid period before the offer expires. As an example, a BOGO offer might be valid for only 5 days. In the data set, informational offers have a validity period even though these ads are merely providing information about a product; for example, if an informational offer has 7 days of validity, you can assume the customer is feeling the influence of the offer for 7 days after receiving the advertisement. The task is to convert the duraiton into hours to facilate data joining later on."
   ]
  },
  {
   "cell_type": "code",
   "execution_count": 12,
   "id": "919be84c-7ddb-4130-a7e0-54bdb3d2e754",
   "metadata": {
    "tags": []
   },
   "outputs": [
    {
     "data": {
      "text/html": [
       "<div>\n",
       "<style scoped>\n",
       "    .dataframe tbody tr th:only-of-type {\n",
       "        vertical-align: middle;\n",
       "    }\n",
       "\n",
       "    .dataframe tbody tr th {\n",
       "        vertical-align: top;\n",
       "    }\n",
       "\n",
       "    .dataframe thead th {\n",
       "        text-align: right;\n",
       "    }\n",
       "</style>\n",
       "<table border=\"1\" class=\"dataframe\">\n",
       "  <thead>\n",
       "    <tr style=\"text-align: right;\">\n",
       "      <th></th>\n",
       "      <th>reward</th>\n",
       "      <th>channels</th>\n",
       "      <th>difficulty</th>\n",
       "      <th>duration</th>\n",
       "      <th>offer_type</th>\n",
       "      <th>id</th>\n",
       "    </tr>\n",
       "  </thead>\n",
       "  <tbody>\n",
       "    <tr>\n",
       "      <th>2</th>\n",
       "      <td>0</td>\n",
       "      <td>[web, email, mobile]</td>\n",
       "      <td>0</td>\n",
       "      <td>4</td>\n",
       "      <td>informational</td>\n",
       "      <td>3f207df678b143eea3cee63160fa8bed</td>\n",
       "    </tr>\n",
       "    <tr>\n",
       "      <th>7</th>\n",
       "      <td>0</td>\n",
       "      <td>[email, mobile, social]</td>\n",
       "      <td>0</td>\n",
       "      <td>3</td>\n",
       "      <td>informational</td>\n",
       "      <td>5a8bc65990b245e5a138643cd4eb9837</td>\n",
       "    </tr>\n",
       "  </tbody>\n",
       "</table>\n",
       "</div>"
      ],
      "text/plain": [
       "   reward                 channels  difficulty  duration     offer_type  \\\n",
       "2       0     [web, email, mobile]           0         4  informational   \n",
       "7       0  [email, mobile, social]           0         3  informational   \n",
       "\n",
       "                                 id  \n",
       "2  3f207df678b143eea3cee63160fa8bed  \n",
       "7  5a8bc65990b245e5a138643cd4eb9837  "
      ]
     },
     "execution_count": 12,
     "metadata": {},
     "output_type": "execute_result"
    }
   ],
   "source": [
    "portfolio[portfolio['offer_type'] == 'informational']"
   ]
  },
  {
   "cell_type": "markdown",
   "id": "59d752d7-c7b4-4a3e-9c4f-5cbeb303b58e",
   "metadata": {},
   "source": [
    "### Putting all steps together"
   ]
  },
  {
   "cell_type": "code",
   "execution_count": 13,
   "id": "1aece540-578d-4795-b5e9-64c46bf19e50",
   "metadata": {},
   "outputs": [
    {
     "data": {
      "text/plain": [
       "(10, 12)"
      ]
     },
     "execution_count": 13,
     "metadata": {},
     "output_type": "execute_result"
    }
   ],
   "source": [
    "new_portfo = dpport.process(portfolio)\n",
    "new_portfo.shape"
   ]
  },
  {
   "cell_type": "code",
   "execution_count": 14,
   "id": "705924a7-ff88-4df0-ba03-5998c3aee222",
   "metadata": {},
   "outputs": [
    {
     "data": {
      "text/html": [
       "<div>\n",
       "<style scoped>\n",
       "    .dataframe tbody tr th:only-of-type {\n",
       "        vertical-align: middle;\n",
       "    }\n",
       "\n",
       "    .dataframe tbody tr th {\n",
       "        vertical-align: top;\n",
       "    }\n",
       "\n",
       "    .dataframe thead th {\n",
       "        text-align: right;\n",
       "    }\n",
       "</style>\n",
       "<table border=\"1\" class=\"dataframe\">\n",
       "  <thead>\n",
       "    <tr style=\"text-align: right;\">\n",
       "      <th></th>\n",
       "      <th>offer_reward</th>\n",
       "      <th>difficulty</th>\n",
       "      <th>duration</th>\n",
       "      <th>offer_id</th>\n",
       "      <th>email_ch</th>\n",
       "      <th>num_channels</th>\n",
       "      <th>social_ch</th>\n",
       "      <th>web_ch</th>\n",
       "      <th>mobile_ch</th>\n",
       "      <th>bogo</th>\n",
       "      <th>discount</th>\n",
       "      <th>informational</th>\n",
       "    </tr>\n",
       "  </thead>\n",
       "  <tbody>\n",
       "    <tr>\n",
       "      <th>0</th>\n",
       "      <td>10</td>\n",
       "      <td>10</td>\n",
       "      <td>168</td>\n",
       "      <td>ae264e3637204a6fb9bb56bc8210ddfd</td>\n",
       "      <td>1</td>\n",
       "      <td>3</td>\n",
       "      <td>1</td>\n",
       "      <td>0</td>\n",
       "      <td>1</td>\n",
       "      <td>1</td>\n",
       "      <td>0</td>\n",
       "      <td>0</td>\n",
       "    </tr>\n",
       "    <tr>\n",
       "      <th>1</th>\n",
       "      <td>10</td>\n",
       "      <td>10</td>\n",
       "      <td>120</td>\n",
       "      <td>4d5c57ea9a6940dd891ad53e9dbe8da0</td>\n",
       "      <td>1</td>\n",
       "      <td>4</td>\n",
       "      <td>1</td>\n",
       "      <td>1</td>\n",
       "      <td>1</td>\n",
       "      <td>1</td>\n",
       "      <td>0</td>\n",
       "      <td>0</td>\n",
       "    </tr>\n",
       "    <tr>\n",
       "      <th>2</th>\n",
       "      <td>0</td>\n",
       "      <td>0</td>\n",
       "      <td>96</td>\n",
       "      <td>3f207df678b143eea3cee63160fa8bed</td>\n",
       "      <td>1</td>\n",
       "      <td>3</td>\n",
       "      <td>0</td>\n",
       "      <td>1</td>\n",
       "      <td>1</td>\n",
       "      <td>0</td>\n",
       "      <td>0</td>\n",
       "      <td>1</td>\n",
       "    </tr>\n",
       "    <tr>\n",
       "      <th>3</th>\n",
       "      <td>5</td>\n",
       "      <td>5</td>\n",
       "      <td>168</td>\n",
       "      <td>9b98b8c7a33c4b65b9aebfe6a799e6d9</td>\n",
       "      <td>1</td>\n",
       "      <td>3</td>\n",
       "      <td>0</td>\n",
       "      <td>1</td>\n",
       "      <td>1</td>\n",
       "      <td>1</td>\n",
       "      <td>0</td>\n",
       "      <td>0</td>\n",
       "    </tr>\n",
       "    <tr>\n",
       "      <th>4</th>\n",
       "      <td>5</td>\n",
       "      <td>20</td>\n",
       "      <td>240</td>\n",
       "      <td>0b1e1539f2cc45b7b9fa7c272da2e1d7</td>\n",
       "      <td>1</td>\n",
       "      <td>2</td>\n",
       "      <td>0</td>\n",
       "      <td>1</td>\n",
       "      <td>0</td>\n",
       "      <td>0</td>\n",
       "      <td>1</td>\n",
       "      <td>0</td>\n",
       "    </tr>\n",
       "    <tr>\n",
       "      <th>5</th>\n",
       "      <td>3</td>\n",
       "      <td>7</td>\n",
       "      <td>168</td>\n",
       "      <td>2298d6c36e964ae4a3e7e9706d1fb8c2</td>\n",
       "      <td>1</td>\n",
       "      <td>4</td>\n",
       "      <td>1</td>\n",
       "      <td>1</td>\n",
       "      <td>1</td>\n",
       "      <td>0</td>\n",
       "      <td>1</td>\n",
       "      <td>0</td>\n",
       "    </tr>\n",
       "    <tr>\n",
       "      <th>6</th>\n",
       "      <td>2</td>\n",
       "      <td>10</td>\n",
       "      <td>240</td>\n",
       "      <td>fafdcd668e3743c1bb461111dcafc2a4</td>\n",
       "      <td>1</td>\n",
       "      <td>4</td>\n",
       "      <td>1</td>\n",
       "      <td>1</td>\n",
       "      <td>1</td>\n",
       "      <td>0</td>\n",
       "      <td>1</td>\n",
       "      <td>0</td>\n",
       "    </tr>\n",
       "    <tr>\n",
       "      <th>7</th>\n",
       "      <td>0</td>\n",
       "      <td>0</td>\n",
       "      <td>72</td>\n",
       "      <td>5a8bc65990b245e5a138643cd4eb9837</td>\n",
       "      <td>1</td>\n",
       "      <td>3</td>\n",
       "      <td>1</td>\n",
       "      <td>0</td>\n",
       "      <td>1</td>\n",
       "      <td>0</td>\n",
       "      <td>0</td>\n",
       "      <td>1</td>\n",
       "    </tr>\n",
       "    <tr>\n",
       "      <th>8</th>\n",
       "      <td>5</td>\n",
       "      <td>5</td>\n",
       "      <td>120</td>\n",
       "      <td>f19421c1d4aa40978ebb69ca19b0e20d</td>\n",
       "      <td>1</td>\n",
       "      <td>4</td>\n",
       "      <td>1</td>\n",
       "      <td>1</td>\n",
       "      <td>1</td>\n",
       "      <td>1</td>\n",
       "      <td>0</td>\n",
       "      <td>0</td>\n",
       "    </tr>\n",
       "    <tr>\n",
       "      <th>9</th>\n",
       "      <td>2</td>\n",
       "      <td>10</td>\n",
       "      <td>168</td>\n",
       "      <td>2906b810c7d4411798c6938adc9daaa5</td>\n",
       "      <td>1</td>\n",
       "      <td>3</td>\n",
       "      <td>0</td>\n",
       "      <td>1</td>\n",
       "      <td>1</td>\n",
       "      <td>0</td>\n",
       "      <td>1</td>\n",
       "      <td>0</td>\n",
       "    </tr>\n",
       "  </tbody>\n",
       "</table>\n",
       "</div>"
      ],
      "text/plain": [
       "   offer_reward  difficulty  duration                          offer_id  \\\n",
       "0            10          10       168  ae264e3637204a6fb9bb56bc8210ddfd   \n",
       "1            10          10       120  4d5c57ea9a6940dd891ad53e9dbe8da0   \n",
       "2             0           0        96  3f207df678b143eea3cee63160fa8bed   \n",
       "3             5           5       168  9b98b8c7a33c4b65b9aebfe6a799e6d9   \n",
       "4             5          20       240  0b1e1539f2cc45b7b9fa7c272da2e1d7   \n",
       "5             3           7       168  2298d6c36e964ae4a3e7e9706d1fb8c2   \n",
       "6             2          10       240  fafdcd668e3743c1bb461111dcafc2a4   \n",
       "7             0           0        72  5a8bc65990b245e5a138643cd4eb9837   \n",
       "8             5           5       120  f19421c1d4aa40978ebb69ca19b0e20d   \n",
       "9             2          10       168  2906b810c7d4411798c6938adc9daaa5   \n",
       "\n",
       "   email_ch  num_channels  social_ch  web_ch  mobile_ch  bogo  discount  \\\n",
       "0         1             3          1       0          1     1         0   \n",
       "1         1             4          1       1          1     1         0   \n",
       "2         1             3          0       1          1     0         0   \n",
       "3         1             3          0       1          1     1         0   \n",
       "4         1             2          0       1          0     0         1   \n",
       "5         1             4          1       1          1     0         1   \n",
       "6         1             4          1       1          1     0         1   \n",
       "7         1             3          1       0          1     0         0   \n",
       "8         1             4          1       1          1     1         0   \n",
       "9         1             3          0       1          1     0         1   \n",
       "\n",
       "   informational  \n",
       "0              0  \n",
       "1              0  \n",
       "2              1  \n",
       "3              0  \n",
       "4              0  \n",
       "5              0  \n",
       "6              0  \n",
       "7              1  \n",
       "8              0  \n",
       "9              0  "
      ]
     },
     "execution_count": 14,
     "metadata": {},
     "output_type": "execute_result"
    }
   ],
   "source": [
    "new_portfo[:new_portfo.shape[0]]"
   ]
  },
  {
   "cell_type": "markdown",
   "id": "215dff7a",
   "metadata": {
    "tags": []
   },
   "source": [
    "## Profile\n",
    "\n",
    "Profile contains demographic data for each customer.\n",
    "\n",
    "profile.json\n",
    "- age (int) - age of the customer\n",
    "- became_member_on (int) - date when customer created an app account\n",
    "- gender (str) - gender of the customer (note some entries contain 'O' for other rather than M or F)\n",
    "- id (str) - customer id\n",
    "- income (float) - customer's income\n",
    "\n",
    "**Major data processing tasks**\n",
    "\n",
    "- Renaming `id` column to customer_id.\n",
    "- Applying OneHotEncoding to feature `gender`.\n",
    "- Bucketizing 'age' into age groups by 10s, and apply one-hot encoding.\n",
    "- Creating additional features based on `became_member_year` to break out year and month when customers became members. \n",
    "- Converting `income` into income groups by 10k. \n",
    "\n",
    "\n",
    "There are a group of customers who has age = 118, based on inspection, this is an anomalous group and the data will be removed."
   ]
  },
  {
   "cell_type": "code",
   "execution_count": 15,
   "id": "edc72fb4",
   "metadata": {},
   "outputs": [],
   "source": [
    "profile = pd.read_json('../data/0_raw/profile.json', orient='records', lines=True)"
   ]
  },
  {
   "cell_type": "code",
   "execution_count": 16,
   "id": "9b01a709-3ff0-421c-b8e1-29443ea2d784",
   "metadata": {
    "tags": []
   },
   "outputs": [
    {
     "data": {
      "text/html": [
       "<div>\n",
       "<style scoped>\n",
       "    .dataframe tbody tr th:only-of-type {\n",
       "        vertical-align: middle;\n",
       "    }\n",
       "\n",
       "    .dataframe tbody tr th {\n",
       "        vertical-align: top;\n",
       "    }\n",
       "\n",
       "    .dataframe thead th {\n",
       "        text-align: right;\n",
       "    }\n",
       "</style>\n",
       "<table border=\"1\" class=\"dataframe\">\n",
       "  <thead>\n",
       "    <tr style=\"text-align: right;\">\n",
       "      <th></th>\n",
       "      <th>gender</th>\n",
       "      <th>age</th>\n",
       "      <th>id</th>\n",
       "      <th>became_member_on</th>\n",
       "      <th>income</th>\n",
       "    </tr>\n",
       "  </thead>\n",
       "  <tbody>\n",
       "    <tr>\n",
       "      <th>0</th>\n",
       "      <td>None</td>\n",
       "      <td>118</td>\n",
       "      <td>68be06ca386d4c31939f3a4f0e3dd783</td>\n",
       "      <td>20170212</td>\n",
       "      <td>NaN</td>\n",
       "    </tr>\n",
       "    <tr>\n",
       "      <th>1</th>\n",
       "      <td>F</td>\n",
       "      <td>55</td>\n",
       "      <td>0610b486422d4921ae7d2bf64640c50b</td>\n",
       "      <td>20170715</td>\n",
       "      <td>112000.0</td>\n",
       "    </tr>\n",
       "    <tr>\n",
       "      <th>2</th>\n",
       "      <td>None</td>\n",
       "      <td>118</td>\n",
       "      <td>38fe809add3b4fcf9315a9694bb96ff5</td>\n",
       "      <td>20180712</td>\n",
       "      <td>NaN</td>\n",
       "    </tr>\n",
       "    <tr>\n",
       "      <th>3</th>\n",
       "      <td>F</td>\n",
       "      <td>75</td>\n",
       "      <td>78afa995795e4d85b5d9ceeca43f5fef</td>\n",
       "      <td>20170509</td>\n",
       "      <td>100000.0</td>\n",
       "    </tr>\n",
       "    <tr>\n",
       "      <th>4</th>\n",
       "      <td>None</td>\n",
       "      <td>118</td>\n",
       "      <td>a03223e636434f42ac4c3df47e8bac43</td>\n",
       "      <td>20170804</td>\n",
       "      <td>NaN</td>\n",
       "    </tr>\n",
       "  </tbody>\n",
       "</table>\n",
       "</div>"
      ],
      "text/plain": [
       "  gender  age                                id  became_member_on    income\n",
       "0   None  118  68be06ca386d4c31939f3a4f0e3dd783          20170212       NaN\n",
       "1      F   55  0610b486422d4921ae7d2bf64640c50b          20170715  112000.0\n",
       "2   None  118  38fe809add3b4fcf9315a9694bb96ff5          20180712       NaN\n",
       "3      F   75  78afa995795e4d85b5d9ceeca43f5fef          20170509  100000.0\n",
       "4   None  118  a03223e636434f42ac4c3df47e8bac43          20170804       NaN"
      ]
     },
     "execution_count": 16,
     "metadata": {},
     "output_type": "execute_result"
    }
   ],
   "source": [
    "profile.head()"
   ]
  },
  {
   "cell_type": "code",
   "execution_count": 17,
   "id": "3d82f0a3-c4e7-49e2-a660-258daf48ecb7",
   "metadata": {},
   "outputs": [
    {
     "data": {
      "text/plain": [
       "(17000, 5)"
      ]
     },
     "execution_count": 17,
     "metadata": {},
     "output_type": "execute_result"
    }
   ],
   "source": [
    "profile.shape"
   ]
  },
  {
   "cell_type": "markdown",
   "id": "5abf73b0-acb8-41ec-93b5-67795366d0e5",
   "metadata": {
    "tags": []
   },
   "source": [
    "#### Check on missing data\n",
    "There are 12% of data missing for `income` column."
   ]
  },
  {
   "cell_type": "code",
   "execution_count": 18,
   "id": "bc8afdd8-d4c6-4438-9f34-94aee2774dbf",
   "metadata": {},
   "outputs": [
    {
     "data": {
      "text/plain": [
       "gender              12.794118\n",
       "age                  0.000000\n",
       "id                   0.000000\n",
       "became_member_on     0.000000\n",
       "income              12.794118\n",
       "dtype: float64"
      ]
     },
     "execution_count": 18,
     "metadata": {},
     "output_type": "execute_result"
    }
   ],
   "source": [
    "profile.isna().sum()/profile.shape[0] * 100"
   ]
  },
  {
   "cell_type": "markdown",
   "id": "545a10b3-2999-4216-97e3-9592763f9dc1",
   "metadata": {},
   "source": [
    "There are 12% of missing data for gender and income column."
   ]
  },
  {
   "cell_type": "markdown",
   "id": "e876493e-3d13-4730-b473-bce0ea7927fd",
   "metadata": {
    "tags": []
   },
   "source": [
    "#### Handle the missing data in gender column\n",
    "\n",
    "There are 4 categories of gender: 'F', 'M', 'O' and None. Put unknwon if gender is missing or with value 'O'. then encode it as one-hot."
   ]
  },
  {
   "cell_type": "code",
   "execution_count": 19,
   "id": "bf3248bb-7e3f-4d04-aae3-fa03c8eff6fc",
   "metadata": {},
   "outputs": [
    {
     "data": {
      "text/plain": [
       "array([None, 'F', 'M', 'O'], dtype=object)"
      ]
     },
     "execution_count": 19,
     "metadata": {},
     "output_type": "execute_result"
    }
   ],
   "source": [
    "profile['gender'].unique()"
   ]
  },
  {
   "cell_type": "code",
   "execution_count": 20,
   "id": "d2cc6924-f6c6-4903-9d9f-8830c81a52c6",
   "metadata": {},
   "outputs": [
    {
     "data": {
      "text/plain": [
       "(212,\n",
       "     gender  age                                id  became_member_on   income\n",
       " 31       O   53  d1ede868e29245ea91818a903fec04c6          20170916  52000.0\n",
       " 273      O   60  d0be9ff460964c3398a33ad9b2829f3a          20180216  94000.0\n",
       " 383      O   49  0d0a9ca9281248a8a35806c9ae68f872          20171207  42000.0\n",
       " 513      O   63  01f46a5191424005af436cdf48a5da7c          20150920  89000.0\n",
       " 576      O   73  644ac06dc9b34a5bbd237a465cf47571          20180316  88000.0)"
      ]
     },
     "execution_count": 20,
     "metadata": {},
     "output_type": "execute_result"
    }
   ],
   "source": [
    "# number of records with gender as 'O'\n",
    "profile[profile['gender']=='O'].shape[0], profile[profile['gender']=='O'].head()"
   ]
  },
  {
   "cell_type": "code",
   "execution_count": 22,
   "id": "6301c8fc-8cbe-4e09-88cc-92f20f1539eb",
   "metadata": {},
   "outputs": [
    {
     "data": {
      "text/html": [
       "<div>\n",
       "<style scoped>\n",
       "    .dataframe tbody tr th:only-of-type {\n",
       "        vertical-align: middle;\n",
       "    }\n",
       "\n",
       "    .dataframe tbody tr th {\n",
       "        vertical-align: top;\n",
       "    }\n",
       "\n",
       "    .dataframe thead th {\n",
       "        text-align: right;\n",
       "    }\n",
       "</style>\n",
       "<table border=\"1\" class=\"dataframe\">\n",
       "  <thead>\n",
       "    <tr style=\"text-align: right;\">\n",
       "      <th></th>\n",
       "      <th>gender</th>\n",
       "      <th>age</th>\n",
       "      <th>id</th>\n",
       "      <th>became_member_on</th>\n",
       "      <th>income</th>\n",
       "      <th>F</th>\n",
       "      <th>M</th>\n",
       "      <th>O</th>\n",
       "    </tr>\n",
       "  </thead>\n",
       "  <tbody>\n",
       "    <tr>\n",
       "      <th>0</th>\n",
       "      <td>None</td>\n",
       "      <td>118</td>\n",
       "      <td>68be06ca386d4c31939f3a4f0e3dd783</td>\n",
       "      <td>20170212</td>\n",
       "      <td>NaN</td>\n",
       "      <td>0</td>\n",
       "      <td>0</td>\n",
       "      <td>0</td>\n",
       "    </tr>\n",
       "    <tr>\n",
       "      <th>1</th>\n",
       "      <td>F</td>\n",
       "      <td>55</td>\n",
       "      <td>0610b486422d4921ae7d2bf64640c50b</td>\n",
       "      <td>20170715</td>\n",
       "      <td>112000.0</td>\n",
       "      <td>1</td>\n",
       "      <td>0</td>\n",
       "      <td>0</td>\n",
       "    </tr>\n",
       "    <tr>\n",
       "      <th>2</th>\n",
       "      <td>None</td>\n",
       "      <td>118</td>\n",
       "      <td>38fe809add3b4fcf9315a9694bb96ff5</td>\n",
       "      <td>20180712</td>\n",
       "      <td>NaN</td>\n",
       "      <td>0</td>\n",
       "      <td>0</td>\n",
       "      <td>0</td>\n",
       "    </tr>\n",
       "    <tr>\n",
       "      <th>3</th>\n",
       "      <td>F</td>\n",
       "      <td>75</td>\n",
       "      <td>78afa995795e4d85b5d9ceeca43f5fef</td>\n",
       "      <td>20170509</td>\n",
       "      <td>100000.0</td>\n",
       "      <td>1</td>\n",
       "      <td>0</td>\n",
       "      <td>0</td>\n",
       "    </tr>\n",
       "    <tr>\n",
       "      <th>4</th>\n",
       "      <td>None</td>\n",
       "      <td>118</td>\n",
       "      <td>a03223e636434f42ac4c3df47e8bac43</td>\n",
       "      <td>20170804</td>\n",
       "      <td>NaN</td>\n",
       "      <td>0</td>\n",
       "      <td>0</td>\n",
       "      <td>0</td>\n",
       "    </tr>\n",
       "  </tbody>\n",
       "</table>\n",
       "</div>"
      ],
      "text/plain": [
       "  gender  age                                id  became_member_on    income  \\\n",
       "0   None  118  68be06ca386d4c31939f3a4f0e3dd783          20170212       NaN   \n",
       "1      F   55  0610b486422d4921ae7d2bf64640c50b          20170715  112000.0   \n",
       "2   None  118  38fe809add3b4fcf9315a9694bb96ff5          20180712       NaN   \n",
       "3      F   75  78afa995795e4d85b5d9ceeca43f5fef          20170509  100000.0   \n",
       "4   None  118  a03223e636434f42ac4c3df47e8bac43          20170804       NaN   \n",
       "\n",
       "   F  M  O  \n",
       "0  0  0  0  \n",
       "1  1  0  0  \n",
       "2  0  0  0  \n",
       "3  1  0  0  \n",
       "4  0  0  0  "
      ]
     },
     "execution_count": 22,
     "metadata": {},
     "output_type": "execute_result"
    }
   ],
   "source": [
    "# combine the steps of handling missing data and one-hot encoding\n",
    "genders_encoded = dpprof.encode_gender(profile)\n",
    "new_profile = pd.concat([profile, genders_encoded], axis=1)\n",
    "new_profile.head()"
   ]
  },
  {
   "cell_type": "markdown",
   "id": "59319364-acd4-4660-85cf-afa599bbf77b",
   "metadata": {},
   "source": [
    "#### Process become_member_on column\n",
    "\n",
    "we can build a feature to reveal whether a customer is new or long term. Since we don't know the start time of the study so we'll use current time to subtract data from `membership_length` for membership duration. In addtion, we extract `year` and `month` from this column to store information when customers became members, and finally apply one-hot encoding."
   ]
  },
  {
   "cell_type": "code",
   "execution_count": 24,
   "id": "5ecb949f-0405-4eb9-a9f1-6d7133ef773c",
   "metadata": {},
   "outputs": [
    {
     "data": {
      "text/plain": [
       "20180726"
      ]
     },
     "execution_count": 24,
     "metadata": {},
     "output_type": "execute_result"
    }
   ],
   "source": [
    "# joining date for newest memember\n",
    "profile['became_member_on'].max()"
   ]
  },
  {
   "cell_type": "markdown",
   "id": "e251c518-8d24-4c73-a5fa-529baaa42aea",
   "metadata": {
    "tags": []
   },
   "source": [
    "#### Customer with age = 118\n",
    "\n",
    "There are a group of customers having an odd age of 118. The gender and income data are also missing from this group. Logically, we drop the records."
   ]
  },
  {
   "cell_type": "code",
   "execution_count": 25,
   "id": "1381f9d0-c062-46c2-a18f-562eb7cff109",
   "metadata": {},
   "outputs": [
    {
     "data": {
      "text/plain": [
       "(2175, 5)"
      ]
     },
     "execution_count": 25,
     "metadata": {},
     "output_type": "execute_result"
    }
   ],
   "source": [
    "# find the total number records of these anomalous data \n",
    "long_lived_customers = profile[profile['age'] == 118]\n",
    "long_lived_customers.shape"
   ]
  },
  {
   "cell_type": "code",
   "execution_count": 26,
   "id": "dceb0dc1-7551-47bb-a659-9525e56953dd",
   "metadata": {},
   "outputs": [
    {
     "data": {
      "text/html": [
       "<div>\n",
       "<style scoped>\n",
       "    .dataframe tbody tr th:only-of-type {\n",
       "        vertical-align: middle;\n",
       "    }\n",
       "\n",
       "    .dataframe tbody tr th {\n",
       "        vertical-align: top;\n",
       "    }\n",
       "\n",
       "    .dataframe thead th {\n",
       "        text-align: right;\n",
       "    }\n",
       "</style>\n",
       "<table border=\"1\" class=\"dataframe\">\n",
       "  <thead>\n",
       "    <tr style=\"text-align: right;\">\n",
       "      <th></th>\n",
       "      <th>gender</th>\n",
       "      <th>age</th>\n",
       "      <th>id</th>\n",
       "      <th>became_member_on</th>\n",
       "      <th>income</th>\n",
       "    </tr>\n",
       "  </thead>\n",
       "  <tbody>\n",
       "    <tr>\n",
       "      <th>0</th>\n",
       "      <td>None</td>\n",
       "      <td>118</td>\n",
       "      <td>68be06ca386d4c31939f3a4f0e3dd783</td>\n",
       "      <td>20170212</td>\n",
       "      <td>NaN</td>\n",
       "    </tr>\n",
       "    <tr>\n",
       "      <th>2</th>\n",
       "      <td>None</td>\n",
       "      <td>118</td>\n",
       "      <td>38fe809add3b4fcf9315a9694bb96ff5</td>\n",
       "      <td>20180712</td>\n",
       "      <td>NaN</td>\n",
       "    </tr>\n",
       "    <tr>\n",
       "      <th>4</th>\n",
       "      <td>None</td>\n",
       "      <td>118</td>\n",
       "      <td>a03223e636434f42ac4c3df47e8bac43</td>\n",
       "      <td>20170804</td>\n",
       "      <td>NaN</td>\n",
       "    </tr>\n",
       "    <tr>\n",
       "      <th>6</th>\n",
       "      <td>None</td>\n",
       "      <td>118</td>\n",
       "      <td>8ec6ce2a7e7949b1bf142def7d0e0586</td>\n",
       "      <td>20170925</td>\n",
       "      <td>NaN</td>\n",
       "    </tr>\n",
       "    <tr>\n",
       "      <th>7</th>\n",
       "      <td>None</td>\n",
       "      <td>118</td>\n",
       "      <td>68617ca6246f4fbc85e91a2a49552598</td>\n",
       "      <td>20171002</td>\n",
       "      <td>NaN</td>\n",
       "    </tr>\n",
       "    <tr>\n",
       "      <th>9</th>\n",
       "      <td>None</td>\n",
       "      <td>118</td>\n",
       "      <td>8974fc5686fe429db53ddde067b88302</td>\n",
       "      <td>20161122</td>\n",
       "      <td>NaN</td>\n",
       "    </tr>\n",
       "    <tr>\n",
       "      <th>10</th>\n",
       "      <td>None</td>\n",
       "      <td>118</td>\n",
       "      <td>c4863c7985cf408faee930f111475da3</td>\n",
       "      <td>20170824</td>\n",
       "      <td>NaN</td>\n",
       "    </tr>\n",
       "    <tr>\n",
       "      <th>11</th>\n",
       "      <td>None</td>\n",
       "      <td>118</td>\n",
       "      <td>148adfcaa27d485b82f323aaaad036bd</td>\n",
       "      <td>20150919</td>\n",
       "      <td>NaN</td>\n",
       "    </tr>\n",
       "    <tr>\n",
       "      <th>17</th>\n",
       "      <td>None</td>\n",
       "      <td>118</td>\n",
       "      <td>744d603ef08c4f33af5a61c8c7628d1c</td>\n",
       "      <td>20170801</td>\n",
       "      <td>NaN</td>\n",
       "    </tr>\n",
       "    <tr>\n",
       "      <th>23</th>\n",
       "      <td>None</td>\n",
       "      <td>118</td>\n",
       "      <td>2b826eba31074a059d63b0ae8f50b7d5</td>\n",
       "      <td>20170907</td>\n",
       "      <td>NaN</td>\n",
       "    </tr>\n",
       "  </tbody>\n",
       "</table>\n",
       "</div>"
      ],
      "text/plain": [
       "   gender  age                                id  became_member_on  income\n",
       "0    None  118  68be06ca386d4c31939f3a4f0e3dd783          20170212     NaN\n",
       "2    None  118  38fe809add3b4fcf9315a9694bb96ff5          20180712     NaN\n",
       "4    None  118  a03223e636434f42ac4c3df47e8bac43          20170804     NaN\n",
       "6    None  118  8ec6ce2a7e7949b1bf142def7d0e0586          20170925     NaN\n",
       "7    None  118  68617ca6246f4fbc85e91a2a49552598          20171002     NaN\n",
       "9    None  118  8974fc5686fe429db53ddde067b88302          20161122     NaN\n",
       "10   None  118  c4863c7985cf408faee930f111475da3          20170824     NaN\n",
       "11   None  118  148adfcaa27d485b82f323aaaad036bd          20150919     NaN\n",
       "17   None  118  744d603ef08c4f33af5a61c8c7628d1c          20170801     NaN\n",
       "23   None  118  2b826eba31074a059d63b0ae8f50b7d5          20170907     NaN"
      ]
     },
     "execution_count": 26,
     "metadata": {},
     "output_type": "execute_result"
    }
   ],
   "source": [
    "long_lived_customers[:10]"
   ]
  },
  {
   "cell_type": "markdown",
   "id": "2e1789f7-ab00-4ce6-9ca4-f2297733c238",
   "metadata": {
    "tags": []
   },
   "source": [
    "### Combine all processing steps together"
   ]
  },
  {
   "cell_type": "code",
   "execution_count": 27,
   "id": "c98e40e7-475d-496c-ac02-9f262ddd45a8",
   "metadata": {},
   "outputs": [
    {
     "data": {
      "text/plain": [
       "(14825, 51)"
      ]
     },
     "execution_count": 27,
     "metadata": {},
     "output_type": "execute_result"
    }
   ],
   "source": [
    "new_profile = dpprof.process(profile)\n",
    "new_profile.shape "
   ]
  },
  {
   "cell_type": "code",
   "execution_count": 28,
   "id": "9bd39a4f-4aef-4b05-95ab-2d37c2410a0a",
   "metadata": {
    "tags": []
   },
   "outputs": [
    {
     "data": {
      "text/html": [
       "<div>\n",
       "<style scoped>\n",
       "    .dataframe tbody tr th:only-of-type {\n",
       "        vertical-align: middle;\n",
       "    }\n",
       "\n",
       "    .dataframe tbody tr th {\n",
       "        vertical-align: top;\n",
       "    }\n",
       "\n",
       "    .dataframe thead th {\n",
       "        text-align: right;\n",
       "    }\n",
       "</style>\n",
       "<table border=\"1\" class=\"dataframe\">\n",
       "  <thead>\n",
       "    <tr style=\"text-align: right;\">\n",
       "      <th></th>\n",
       "      <th>gender</th>\n",
       "      <th>age</th>\n",
       "      <th>customer_id</th>\n",
       "      <th>became_member_on</th>\n",
       "      <th>income</th>\n",
       "      <th>became_member_on</th>\n",
       "      <th>became_member_year</th>\n",
       "      <th>became_member_month</th>\n",
       "      <th>membership_length</th>\n",
       "      <th>became_member_year_2013</th>\n",
       "      <th>...</th>\n",
       "      <th>income_40K</th>\n",
       "      <th>income_50K</th>\n",
       "      <th>income_60K</th>\n",
       "      <th>income_70K</th>\n",
       "      <th>income_80K</th>\n",
       "      <th>income_90K</th>\n",
       "      <th>income_100K</th>\n",
       "      <th>income_110K</th>\n",
       "      <th>income_120K</th>\n",
       "      <th>income_130K</th>\n",
       "    </tr>\n",
       "  </thead>\n",
       "  <tbody>\n",
       "    <tr>\n",
       "      <th>1</th>\n",
       "      <td>F</td>\n",
       "      <td>55</td>\n",
       "      <td>0610b486422d4921ae7d2bf64640c50b</td>\n",
       "      <td>20170715</td>\n",
       "      <td>112000.0</td>\n",
       "      <td>20170715</td>\n",
       "      <td>2017</td>\n",
       "      <td>7</td>\n",
       "      <td>1514</td>\n",
       "      <td>0</td>\n",
       "      <td>...</td>\n",
       "      <td>0</td>\n",
       "      <td>0</td>\n",
       "      <td>0</td>\n",
       "      <td>0</td>\n",
       "      <td>0</td>\n",
       "      <td>0</td>\n",
       "      <td>0</td>\n",
       "      <td>1</td>\n",
       "      <td>0</td>\n",
       "      <td>0</td>\n",
       "    </tr>\n",
       "    <tr>\n",
       "      <th>3</th>\n",
       "      <td>F</td>\n",
       "      <td>75</td>\n",
       "      <td>78afa995795e4d85b5d9ceeca43f5fef</td>\n",
       "      <td>20170509</td>\n",
       "      <td>100000.0</td>\n",
       "      <td>20170509</td>\n",
       "      <td>2017</td>\n",
       "      <td>5</td>\n",
       "      <td>1581</td>\n",
       "      <td>0</td>\n",
       "      <td>...</td>\n",
       "      <td>0</td>\n",
       "      <td>0</td>\n",
       "      <td>0</td>\n",
       "      <td>0</td>\n",
       "      <td>0</td>\n",
       "      <td>0</td>\n",
       "      <td>1</td>\n",
       "      <td>0</td>\n",
       "      <td>0</td>\n",
       "      <td>0</td>\n",
       "    </tr>\n",
       "    <tr>\n",
       "      <th>5</th>\n",
       "      <td>M</td>\n",
       "      <td>68</td>\n",
       "      <td>e2127556f4f64592b11af22de27a7932</td>\n",
       "      <td>20180426</td>\n",
       "      <td>70000.0</td>\n",
       "      <td>20180426</td>\n",
       "      <td>2018</td>\n",
       "      <td>4</td>\n",
       "      <td>1229</td>\n",
       "      <td>0</td>\n",
       "      <td>...</td>\n",
       "      <td>0</td>\n",
       "      <td>0</td>\n",
       "      <td>0</td>\n",
       "      <td>1</td>\n",
       "      <td>0</td>\n",
       "      <td>0</td>\n",
       "      <td>0</td>\n",
       "      <td>0</td>\n",
       "      <td>0</td>\n",
       "      <td>0</td>\n",
       "    </tr>\n",
       "    <tr>\n",
       "      <th>8</th>\n",
       "      <td>M</td>\n",
       "      <td>65</td>\n",
       "      <td>389bc3fa690240e798340f5a15918d5c</td>\n",
       "      <td>20180209</td>\n",
       "      <td>53000.0</td>\n",
       "      <td>20180209</td>\n",
       "      <td>2018</td>\n",
       "      <td>2</td>\n",
       "      <td>1305</td>\n",
       "      <td>0</td>\n",
       "      <td>...</td>\n",
       "      <td>0</td>\n",
       "      <td>1</td>\n",
       "      <td>0</td>\n",
       "      <td>0</td>\n",
       "      <td>0</td>\n",
       "      <td>0</td>\n",
       "      <td>0</td>\n",
       "      <td>0</td>\n",
       "      <td>0</td>\n",
       "      <td>0</td>\n",
       "    </tr>\n",
       "    <tr>\n",
       "      <th>12</th>\n",
       "      <td>M</td>\n",
       "      <td>58</td>\n",
       "      <td>2eeac8d8feae4a8cad5a6af0499a211d</td>\n",
       "      <td>20171111</td>\n",
       "      <td>51000.0</td>\n",
       "      <td>20171111</td>\n",
       "      <td>2017</td>\n",
       "      <td>11</td>\n",
       "      <td>1395</td>\n",
       "      <td>0</td>\n",
       "      <td>...</td>\n",
       "      <td>0</td>\n",
       "      <td>1</td>\n",
       "      <td>0</td>\n",
       "      <td>0</td>\n",
       "      <td>0</td>\n",
       "      <td>0</td>\n",
       "      <td>0</td>\n",
       "      <td>0</td>\n",
       "      <td>0</td>\n",
       "      <td>0</td>\n",
       "    </tr>\n",
       "  </tbody>\n",
       "</table>\n",
       "<p>5 rows × 51 columns</p>\n",
       "</div>"
      ],
      "text/plain": [
       "   gender  age                       customer_id  became_member_on    income  \\\n",
       "1       F   55  0610b486422d4921ae7d2bf64640c50b          20170715  112000.0   \n",
       "3       F   75  78afa995795e4d85b5d9ceeca43f5fef          20170509  100000.0   \n",
       "5       M   68  e2127556f4f64592b11af22de27a7932          20180426   70000.0   \n",
       "8       M   65  389bc3fa690240e798340f5a15918d5c          20180209   53000.0   \n",
       "12      M   58  2eeac8d8feae4a8cad5a6af0499a211d          20171111   51000.0   \n",
       "\n",
       "    became_member_on  became_member_year  became_member_month  \\\n",
       "1           20170715                2017                    7   \n",
       "3           20170509                2017                    5   \n",
       "5           20180426                2018                    4   \n",
       "8           20180209                2018                    2   \n",
       "12          20171111                2017                   11   \n",
       "\n",
       "    membership_length  became_member_year_2013  ...  income_40K  income_50K  \\\n",
       "1                1514                        0  ...           0           0   \n",
       "3                1581                        0  ...           0           0   \n",
       "5                1229                        0  ...           0           0   \n",
       "8                1305                        0  ...           0           1   \n",
       "12               1395                        0  ...           0           1   \n",
       "\n",
       "    income_60K  income_70K  income_80K  income_90K  income_100K  income_110K  \\\n",
       "1            0           0           0           0            0            1   \n",
       "3            0           0           0           0            1            0   \n",
       "5            0           1           0           0            0            0   \n",
       "8            0           0           0           0            0            0   \n",
       "12           0           0           0           0            0            0   \n",
       "\n",
       "    income_120K  income_130K  \n",
       "1             0            0  \n",
       "3             0            0  \n",
       "5             0            0  \n",
       "8             0            0  \n",
       "12            0            0  \n",
       "\n",
       "[5 rows x 51 columns]"
      ]
     },
     "execution_count": 28,
     "metadata": {},
     "output_type": "execute_result"
    }
   ],
   "source": [
    "new_profile.head()"
   ]
  },
  {
   "cell_type": "code",
   "execution_count": 113,
   "id": "323d89b6-b1f0-41fa-867c-fa1fda136065",
   "metadata": {},
   "outputs": [],
   "source": [
    "def plot_bar(df,column,xlabel,ylabel,title, color='c'):\n",
    "    \n",
    "    \"\"\" Plots a bar chart\n",
    "    \n",
    "    Args:\n",
    "        df : a pandas dataframe \n",
    "        column : the culumn name\n",
    "        xlabel : name of xlabel\n",
    "        ylabel : name of ylabel\n",
    "        title : chart title\n",
    "    \n",
    "    \"\"\"\n",
    "    df[column].value_counts().plot.bar(figsize=(12,4), fontsize=12,color=color)\n",
    "    plt.xlabel(xlabel)\n",
    "    plt.ylabel(ylabel)\n",
    "    plt.title(title)"
   ]
  },
  {
   "cell_type": "markdown",
   "id": "ff86acd4-c591-4c14-8f7b-6233f8cb80a3",
   "metadata": {},
   "source": [
    "#### Customer by age groups"
   ]
  },
  {
   "cell_type": "code",
   "execution_count": 131,
   "id": "0d94f62a-51ef-4623-83c6-a93987bf2ae1",
   "metadata": {},
   "outputs": [
    {
     "data": {
      "image/png": "[encoded data removed]",
      "text/plain": [
       "<Figure size 864x288 with 1 Axes>"
      ]
     },
     "metadata": {
      "needs_background": "light"
     },
     "output_type": "display_data"
    }
   ],
   "source": [
    "age_groups = new_profile[[c for c in new_profile.columns if 'age_' in c]].sum()\n",
    "\n",
    "age_groups_df = pd.DataFrame(age_groups, columns=['count'], index=age_groups.name).reset_index()\n",
    "age_groups_df.sort_values('count', ascending=False, inplace=True)\n",
    "age_groups_df.plot(kind='bar', x='index', y='count', title='Number of customers by age group (without age 118)', figsize=(12,4), color='#69b8b6');"
   ]
  },
  {
   "cell_type": "markdown",
   "id": "934a0517-5218-47f1-8cec-2b30f1ef0aa1",
   "metadata": {},
   "source": [
    "Most costumers are between 40 and 80 years with age 50 as the biggest group. "
   ]
  },
  {
   "cell_type": "markdown",
   "id": "536691f2-3357-4ce1-b9b8-4c9551fb958e",
   "metadata": {},
   "source": [
    "#### Customer by membership year"
   ]
  },
  {
   "cell_type": "code",
   "execution_count": 129,
   "id": "52eb9bc0-82e3-4b42-843f-043e5abdfca2",
   "metadata": {},
   "outputs": [
    {
     "data": {
      "image/png": "[encoded data removed]",
      "text/plain": [
       "<Figure size 864x288 with 1 Axes>"
      ]
     },
     "metadata": {
      "needs_background": "light"
     },
     "output_type": "display_data"
    }
   ],
   "source": [
    "plot_bar(new_profile,'became_member_year','Year','Count','Number of customers of membership starting year', color='#5586ab')"
   ]
  },
  {
   "cell_type": "markdown",
   "id": "16121ab9-0c80-4e06-ac14-c07f6fd706ab",
   "metadata": {},
   "source": [
    "#### Membership by gender and year"
   ]
  },
  {
   "cell_type": "code",
   "execution_count": 128,
   "id": "24b35d4b-5da1-4ac1-b5fd-8033a484ac1d",
   "metadata": {},
   "outputs": [
    {
     "data": {
      "image/png": "[encoded data removed]",
      "text/plain": [
       "<Figure size 720x360 with 1 Axes>"
      ]
     },
     "metadata": {
      "needs_background": "light"
     },
     "output_type": "display_data"
    }
   ],
   "source": [
    "import seaborn as sns \n",
    "\n",
    "# groupby start_year and gender to plot a graph\n",
    "membership_starting_year = new_profile.groupby(['became_member_year', 'gender']).size()\n",
    "membership_starting_year = membership_date.reset_index()\n",
    "membership_starting_year.columns = ['became_member_year', 'gender', 'count']\n",
    "\n",
    "# plot a bar graph for age distribution as a function of gender in membership program\n",
    "plt.figure(figsize=(10, 5))\n",
    "sns.barplot(x='became_member_year', y='count', hue='gender', data=membership_starting_year, palette=\"deep\")\n",
    "plt.xlabel('Membership Starting Year')\n",
    "plt.ylabel('Count');\n",
    "plt.title('Gender counts by membership year');"
   ]
  },
  {
   "cell_type": "markdown",
   "id": "ff564614-dfba-4185-8710-258a0d7b8931",
   "metadata": {},
   "source": [
    "Most customers started their membership in 2017. Male customers had significant growth in the year of 2017 and continue exceeding the females in year 2018."
   ]
  },
  {
   "cell_type": "markdown",
   "id": "91355c70-4caf-445d-a3bb-e70086c62eca",
   "metadata": {},
   "source": [
    "#### Customer by income group"
   ]
  },
  {
   "cell_type": "code",
   "execution_count": 132,
   "id": "2846a075-9b73-4dfe-bebc-519c495f0907",
   "metadata": {},
   "outputs": [
    {
     "data": {
      "image/png": "[encoded data removed]",
      "text/plain": [
       "<Figure size 864x288 with 1 Axes>"
      ]
     },
     "metadata": {
      "needs_background": "light"
     },
     "output_type": "display_data"
    }
   ],
   "source": [
    "income_groups = new_profile[[c for c in new_profile.columns if 'income_' in c]].sum()\n",
    "\n",
    "income_groups_df = pd.DataFrame(income_groups, columns=['count'], index=income_groups.name).reset_index()\n",
    "income_groups_df.sort_values('count', ascending=False, inplace=True)\n",
    "income_groups_df.plot(kind='bar', x='index', y='count', title='Number of customers by income group', figsize=(12,4), color=\"#69b8b6\");"
   ]
  },
  {
   "cell_type": "markdown",
   "id": "2ac35203-5f92-4a86-87e5-d32e0a05c4f3",
   "metadata": {},
   "source": [
    "Most of customer are in the income buckets of 30k to 80k. There're fewer customers in the higher buckets above 100k. "
   ]
  },
  {
   "cell_type": "markdown",
   "id": "6c32480b",
   "metadata": {
    "tags": []
   },
   "source": [
    "## Transcript\n",
    "\n",
    "Transcript captures all activities and interations from customers. The raw data is from transcript.json with following schema:\n",
    "\n",
    "- event (str) - record description (ie transaction, offer received, offer viewed, etc.)\n",
    "- person (str) - customer id\n",
    "- time (int) - time in hours since start of test. The data begins at time t=0\n",
    "- value - (dict of strings) - either an offer id or transaction amount depending on the record\n",
    "\n",
    "**Main tasks**\n",
    "\n",
    " - Renaming `person` to customer_id.\n",
    " - Extract data from `value` field.\n",
    " - Apply one-hot encoding to event column.\n",
    " - Removing the records of customers with age 118 since those are anomalous data."
   ]
  },
  {
   "cell_type": "code",
   "execution_count": 31,
   "id": "f81d8f1a",
   "metadata": {},
   "outputs": [],
   "source": [
    "transcript = pd.read_json('../data/0_raw/transcript.json', orient='records', lines=True)"
   ]
  },
  {
   "cell_type": "code",
   "execution_count": 32,
   "id": "84c48b9f",
   "metadata": {},
   "outputs": [
    {
     "data": {
      "text/html": [
       "<div>\n",
       "<style scoped>\n",
       "    .dataframe tbody tr th:only-of-type {\n",
       "        vertical-align: middle;\n",
       "    }\n",
       "\n",
       "    .dataframe tbody tr th {\n",
       "        vertical-align: top;\n",
       "    }\n",
       "\n",
       "    .dataframe thead th {\n",
       "        text-align: right;\n",
       "    }\n",
       "</style>\n",
       "<table border=\"1\" class=\"dataframe\">\n",
       "  <thead>\n",
       "    <tr style=\"text-align: right;\">\n",
       "      <th></th>\n",
       "      <th>person</th>\n",
       "      <th>event</th>\n",
       "      <th>value</th>\n",
       "      <th>time</th>\n",
       "    </tr>\n",
       "  </thead>\n",
       "  <tbody>\n",
       "    <tr>\n",
       "      <th>0</th>\n",
       "      <td>78afa995795e4d85b5d9ceeca43f5fef</td>\n",
       "      <td>offer received</td>\n",
       "      <td>{'offer id': '9b98b8c7a33c4b65b9aebfe6a799e6d9'}</td>\n",
       "      <td>0</td>\n",
       "    </tr>\n",
       "    <tr>\n",
       "      <th>1</th>\n",
       "      <td>a03223e636434f42ac4c3df47e8bac43</td>\n",
       "      <td>offer received</td>\n",
       "      <td>{'offer id': '0b1e1539f2cc45b7b9fa7c272da2e1d7'}</td>\n",
       "      <td>0</td>\n",
       "    </tr>\n",
       "    <tr>\n",
       "      <th>2</th>\n",
       "      <td>e2127556f4f64592b11af22de27a7932</td>\n",
       "      <td>offer received</td>\n",
       "      <td>{'offer id': '2906b810c7d4411798c6938adc9daaa5'}</td>\n",
       "      <td>0</td>\n",
       "    </tr>\n",
       "    <tr>\n",
       "      <th>3</th>\n",
       "      <td>8ec6ce2a7e7949b1bf142def7d0e0586</td>\n",
       "      <td>offer received</td>\n",
       "      <td>{'offer id': 'fafdcd668e3743c1bb461111dcafc2a4'}</td>\n",
       "      <td>0</td>\n",
       "    </tr>\n",
       "    <tr>\n",
       "      <th>4</th>\n",
       "      <td>68617ca6246f4fbc85e91a2a49552598</td>\n",
       "      <td>offer received</td>\n",
       "      <td>{'offer id': '4d5c57ea9a6940dd891ad53e9dbe8da0'}</td>\n",
       "      <td>0</td>\n",
       "    </tr>\n",
       "  </tbody>\n",
       "</table>\n",
       "</div>"
      ],
      "text/plain": [
       "                             person           event  \\\n",
       "0  78afa995795e4d85b5d9ceeca43f5fef  offer received   \n",
       "1  a03223e636434f42ac4c3df47e8bac43  offer received   \n",
       "2  e2127556f4f64592b11af22de27a7932  offer received   \n",
       "3  8ec6ce2a7e7949b1bf142def7d0e0586  offer received   \n",
       "4  68617ca6246f4fbc85e91a2a49552598  offer received   \n",
       "\n",
       "                                              value  time  \n",
       "0  {'offer id': '9b98b8c7a33c4b65b9aebfe6a799e6d9'}     0  \n",
       "1  {'offer id': '0b1e1539f2cc45b7b9fa7c272da2e1d7'}     0  \n",
       "2  {'offer id': '2906b810c7d4411798c6938adc9daaa5'}     0  \n",
       "3  {'offer id': 'fafdcd668e3743c1bb461111dcafc2a4'}     0  \n",
       "4  {'offer id': '4d5c57ea9a6940dd891ad53e9dbe8da0'}     0  "
      ]
     },
     "execution_count": 32,
     "metadata": {},
     "output_type": "execute_result"
    }
   ],
   "source": [
    "transcript.head()"
   ]
  },
  {
   "cell_type": "markdown",
   "id": "8150f185-2c21-4c50-9bec-c2fe4429a9be",
   "metadata": {},
   "source": [
    "### Encode event column with one-hot"
   ]
  },
  {
   "cell_type": "code",
   "execution_count": 33,
   "id": "40d2adcb-a70f-4d73-86cc-3a80490b702e",
   "metadata": {},
   "outputs": [
    {
     "data": {
      "text/plain": [
       "array(['offer received', 'offer viewed', 'transaction', 'offer completed'],\n",
       "      dtype=object)"
      ]
     },
     "execution_count": 33,
     "metadata": {},
     "output_type": "execute_result"
    }
   ],
   "source": [
    "transcript['event'].unique()"
   ]
  },
  {
   "cell_type": "code",
   "execution_count": 34,
   "id": "4f256843-42ee-4ce4-ac13-01d490c602fa",
   "metadata": {
    "tags": []
   },
   "outputs": [
    {
     "data": {
      "text/html": [
       "<div>\n",
       "<style scoped>\n",
       "    .dataframe tbody tr th:only-of-type {\n",
       "        vertical-align: middle;\n",
       "    }\n",
       "\n",
       "    .dataframe tbody tr th {\n",
       "        vertical-align: top;\n",
       "    }\n",
       "\n",
       "    .dataframe thead th {\n",
       "        text-align: right;\n",
       "    }\n",
       "</style>\n",
       "<table border=\"1\" class=\"dataframe\">\n",
       "  <thead>\n",
       "    <tr style=\"text-align: right;\">\n",
       "      <th></th>\n",
       "      <th>person</th>\n",
       "      <th>event</th>\n",
       "      <th>value</th>\n",
       "      <th>time</th>\n",
       "      <th>offer completed</th>\n",
       "      <th>offer received</th>\n",
       "      <th>offer viewed</th>\n",
       "      <th>transaction</th>\n",
       "    </tr>\n",
       "  </thead>\n",
       "  <tbody>\n",
       "    <tr>\n",
       "      <th>0</th>\n",
       "      <td>78afa995795e4d85b5d9ceeca43f5fef</td>\n",
       "      <td>offer received</td>\n",
       "      <td>{'offer id': '9b98b8c7a33c4b65b9aebfe6a799e6d9'}</td>\n",
       "      <td>0</td>\n",
       "      <td>0</td>\n",
       "      <td>1</td>\n",
       "      <td>0</td>\n",
       "      <td>0</td>\n",
       "    </tr>\n",
       "    <tr>\n",
       "      <th>1</th>\n",
       "      <td>a03223e636434f42ac4c3df47e8bac43</td>\n",
       "      <td>offer received</td>\n",
       "      <td>{'offer id': '0b1e1539f2cc45b7b9fa7c272da2e1d7'}</td>\n",
       "      <td>0</td>\n",
       "      <td>0</td>\n",
       "      <td>1</td>\n",
       "      <td>0</td>\n",
       "      <td>0</td>\n",
       "    </tr>\n",
       "    <tr>\n",
       "      <th>2</th>\n",
       "      <td>e2127556f4f64592b11af22de27a7932</td>\n",
       "      <td>offer received</td>\n",
       "      <td>{'offer id': '2906b810c7d4411798c6938adc9daaa5'}</td>\n",
       "      <td>0</td>\n",
       "      <td>0</td>\n",
       "      <td>1</td>\n",
       "      <td>0</td>\n",
       "      <td>0</td>\n",
       "    </tr>\n",
       "    <tr>\n",
       "      <th>3</th>\n",
       "      <td>8ec6ce2a7e7949b1bf142def7d0e0586</td>\n",
       "      <td>offer received</td>\n",
       "      <td>{'offer id': 'fafdcd668e3743c1bb461111dcafc2a4'}</td>\n",
       "      <td>0</td>\n",
       "      <td>0</td>\n",
       "      <td>1</td>\n",
       "      <td>0</td>\n",
       "      <td>0</td>\n",
       "    </tr>\n",
       "    <tr>\n",
       "      <th>4</th>\n",
       "      <td>68617ca6246f4fbc85e91a2a49552598</td>\n",
       "      <td>offer received</td>\n",
       "      <td>{'offer id': '4d5c57ea9a6940dd891ad53e9dbe8da0'}</td>\n",
       "      <td>0</td>\n",
       "      <td>0</td>\n",
       "      <td>1</td>\n",
       "      <td>0</td>\n",
       "      <td>0</td>\n",
       "    </tr>\n",
       "  </tbody>\n",
       "</table>\n",
       "</div>"
      ],
      "text/plain": [
       "                             person           event  \\\n",
       "0  78afa995795e4d85b5d9ceeca43f5fef  offer received   \n",
       "1  a03223e636434f42ac4c3df47e8bac43  offer received   \n",
       "2  e2127556f4f64592b11af22de27a7932  offer received   \n",
       "3  8ec6ce2a7e7949b1bf142def7d0e0586  offer received   \n",
       "4  68617ca6246f4fbc85e91a2a49552598  offer received   \n",
       "\n",
       "                                              value  time  offer completed  \\\n",
       "0  {'offer id': '9b98b8c7a33c4b65b9aebfe6a799e6d9'}     0                0   \n",
       "1  {'offer id': '0b1e1539f2cc45b7b9fa7c272da2e1d7'}     0                0   \n",
       "2  {'offer id': '2906b810c7d4411798c6938adc9daaa5'}     0                0   \n",
       "3  {'offer id': 'fafdcd668e3743c1bb461111dcafc2a4'}     0                0   \n",
       "4  {'offer id': '4d5c57ea9a6940dd891ad53e9dbe8da0'}     0                0   \n",
       "\n",
       "   offer received  offer viewed  transaction  \n",
       "0               1             0            0  \n",
       "1               1             0            0  \n",
       "2               1             0            0  \n",
       "3               1             0            0  \n",
       "4               1             0            0  "
      ]
     },
     "execution_count": 34,
     "metadata": {},
     "output_type": "execute_result"
    }
   ],
   "source": [
    "new_transcript = transcript\n",
    "events = pd.get_dummies(transcript['event'])\n",
    "new_transcript = pd.concat([new_transcript, events], axis=1)\n",
    "new_transcript.head()"
   ]
  },
  {
   "cell_type": "markdown",
   "id": "da9a739a-97f3-4852-8cc4-4a028d364bc1",
   "metadata": {
    "tags": []
   },
   "source": [
    "### Transform value column\n",
    "\n",
    "Value column is a dictionary with keys such as 'reward', 'amount', 'offer id' and 'offer_id'. The task is to separate the data into a set of columns.  Make offer_id column. "
   ]
  },
  {
   "cell_type": "code",
   "execution_count": 35,
   "id": "9f52a855-aecc-460d-978f-021978413185",
   "metadata": {},
   "outputs": [
    {
     "data": {
      "text/plain": [
       "['amount', 'offer id', 'reward', 'offer_id']"
      ]
     },
     "execution_count": 35,
     "metadata": {},
     "output_type": "execute_result"
    }
   ],
   "source": [
    "def get_value_keys(df):\n",
    "    keys = set()\n",
    "    for v in df['value']:\n",
    "        if v:\n",
    "            keys.update(v.keys())\n",
    "    return list(keys)\n",
    "get_value_keys(transcript)"
   ]
  },
  {
   "cell_type": "code",
   "execution_count": 36,
   "id": "1b1878c2-779f-4522-b579-8a2cd5de4b18",
   "metadata": {},
   "outputs": [
    {
     "name": "stdout",
     "output_type": "stream",
     "text": [
      "number of offers processed:306534, null values encountered: 0\n"
     ]
    }
   ],
   "source": [
    "offer_ids, rewards, amounts, null_value_count = dptran.process_values(transcript)\n",
    "print(f'number of offers processed:{len(offer_ids)}, null values encountered: {null_value_count}')"
   ]
  },
  {
   "cell_type": "code",
   "execution_count": 37,
   "id": "5a4218d3-3cfa-40ab-9a48-542625348ce8",
   "metadata": {
    "tags": []
   },
   "outputs": [],
   "source": [
    "new_transcript['offer_id'] = offer_ids"
   ]
  },
  {
   "cell_type": "code",
   "execution_count": 38,
   "id": "4e86e245-699f-49e6-be74-ec0b80dc5854",
   "metadata": {},
   "outputs": [],
   "source": [
    "new_transcript['reward'] = rewards"
   ]
  },
  {
   "cell_type": "code",
   "execution_count": 39,
   "id": "f425f180-f7e5-429e-8f07-ce86fb7f3d33",
   "metadata": {},
   "outputs": [],
   "source": [
    "new_transcript['amount'] = amounts"
   ]
  },
  {
   "cell_type": "code",
   "execution_count": 40,
   "id": "8ecfe2fd-67b6-4a5a-ae2a-7350ab3dfc82",
   "metadata": {},
   "outputs": [
    {
     "data": {
      "text/html": [
       "<div>\n",
       "<style scoped>\n",
       "    .dataframe tbody tr th:only-of-type {\n",
       "        vertical-align: middle;\n",
       "    }\n",
       "\n",
       "    .dataframe tbody tr th {\n",
       "        vertical-align: top;\n",
       "    }\n",
       "\n",
       "    .dataframe thead th {\n",
       "        text-align: right;\n",
       "    }\n",
       "</style>\n",
       "<table border=\"1\" class=\"dataframe\">\n",
       "  <thead>\n",
       "    <tr style=\"text-align: right;\">\n",
       "      <th></th>\n",
       "      <th>person</th>\n",
       "      <th>event</th>\n",
       "      <th>time</th>\n",
       "      <th>offer completed</th>\n",
       "      <th>offer received</th>\n",
       "      <th>offer viewed</th>\n",
       "      <th>transaction</th>\n",
       "      <th>offer_id</th>\n",
       "      <th>reward</th>\n",
       "      <th>amount</th>\n",
       "    </tr>\n",
       "  </thead>\n",
       "  <tbody>\n",
       "    <tr>\n",
       "      <th>0</th>\n",
       "      <td>78afa995795e4d85b5d9ceeca43f5fef</td>\n",
       "      <td>offer received</td>\n",
       "      <td>0</td>\n",
       "      <td>0</td>\n",
       "      <td>1</td>\n",
       "      <td>0</td>\n",
       "      <td>0</td>\n",
       "      <td>9b98b8c7a33c4b65b9aebfe6a799e6d9</td>\n",
       "      <td>0.0</td>\n",
       "      <td>0.0</td>\n",
       "    </tr>\n",
       "    <tr>\n",
       "      <th>1</th>\n",
       "      <td>a03223e636434f42ac4c3df47e8bac43</td>\n",
       "      <td>offer received</td>\n",
       "      <td>0</td>\n",
       "      <td>0</td>\n",
       "      <td>1</td>\n",
       "      <td>0</td>\n",
       "      <td>0</td>\n",
       "      <td>0b1e1539f2cc45b7b9fa7c272da2e1d7</td>\n",
       "      <td>0.0</td>\n",
       "      <td>0.0</td>\n",
       "    </tr>\n",
       "    <tr>\n",
       "      <th>2</th>\n",
       "      <td>e2127556f4f64592b11af22de27a7932</td>\n",
       "      <td>offer received</td>\n",
       "      <td>0</td>\n",
       "      <td>0</td>\n",
       "      <td>1</td>\n",
       "      <td>0</td>\n",
       "      <td>0</td>\n",
       "      <td>2906b810c7d4411798c6938adc9daaa5</td>\n",
       "      <td>0.0</td>\n",
       "      <td>0.0</td>\n",
       "    </tr>\n",
       "    <tr>\n",
       "      <th>3</th>\n",
       "      <td>8ec6ce2a7e7949b1bf142def7d0e0586</td>\n",
       "      <td>offer received</td>\n",
       "      <td>0</td>\n",
       "      <td>0</td>\n",
       "      <td>1</td>\n",
       "      <td>0</td>\n",
       "      <td>0</td>\n",
       "      <td>fafdcd668e3743c1bb461111dcafc2a4</td>\n",
       "      <td>0.0</td>\n",
       "      <td>0.0</td>\n",
       "    </tr>\n",
       "    <tr>\n",
       "      <th>4</th>\n",
       "      <td>68617ca6246f4fbc85e91a2a49552598</td>\n",
       "      <td>offer received</td>\n",
       "      <td>0</td>\n",
       "      <td>0</td>\n",
       "      <td>1</td>\n",
       "      <td>0</td>\n",
       "      <td>0</td>\n",
       "      <td>4d5c57ea9a6940dd891ad53e9dbe8da0</td>\n",
       "      <td>0.0</td>\n",
       "      <td>0.0</td>\n",
       "    </tr>\n",
       "  </tbody>\n",
       "</table>\n",
       "</div>"
      ],
      "text/plain": [
       "                             person           event  time  offer completed  \\\n",
       "0  78afa995795e4d85b5d9ceeca43f5fef  offer received     0                0   \n",
       "1  a03223e636434f42ac4c3df47e8bac43  offer received     0                0   \n",
       "2  e2127556f4f64592b11af22de27a7932  offer received     0                0   \n",
       "3  8ec6ce2a7e7949b1bf142def7d0e0586  offer received     0                0   \n",
       "4  68617ca6246f4fbc85e91a2a49552598  offer received     0                0   \n",
       "\n",
       "   offer received  offer viewed  transaction  \\\n",
       "0               1             0            0   \n",
       "1               1             0            0   \n",
       "2               1             0            0   \n",
       "3               1             0            0   \n",
       "4               1             0            0   \n",
       "\n",
       "                           offer_id  reward  amount  \n",
       "0  9b98b8c7a33c4b65b9aebfe6a799e6d9     0.0     0.0  \n",
       "1  0b1e1539f2cc45b7b9fa7c272da2e1d7     0.0     0.0  \n",
       "2  2906b810c7d4411798c6938adc9daaa5     0.0     0.0  \n",
       "3  fafdcd668e3743c1bb461111dcafc2a4     0.0     0.0  \n",
       "4  4d5c57ea9a6940dd891ad53e9dbe8da0     0.0     0.0  "
      ]
     },
     "execution_count": 40,
     "metadata": {},
     "output_type": "execute_result"
    }
   ],
   "source": [
    "new_transcript = new_transcript.drop('value', axis=1)\n",
    "new_transcript.head()"
   ]
  },
  {
   "cell_type": "markdown",
   "id": "3ef9197e-6036-4af1-82ee-eb0636dd81f9",
   "metadata": {},
   "source": [
    "### Put steps together"
   ]
  },
  {
   "cell_type": "code",
   "execution_count": 41,
   "id": "114d1727-4a94-44fb-a029-650911bca982",
   "metadata": {
    "tags": []
   },
   "outputs": [
    {
     "data": {
      "text/html": [
       "<div>\n",
       "<style scoped>\n",
       "    .dataframe tbody tr th:only-of-type {\n",
       "        vertical-align: middle;\n",
       "    }\n",
       "\n",
       "    .dataframe tbody tr th {\n",
       "        vertical-align: top;\n",
       "    }\n",
       "\n",
       "    .dataframe thead th {\n",
       "        text-align: right;\n",
       "    }\n",
       "</style>\n",
       "<table border=\"1\" class=\"dataframe\">\n",
       "  <thead>\n",
       "    <tr style=\"text-align: right;\">\n",
       "      <th></th>\n",
       "      <th>customer_id</th>\n",
       "      <th>event</th>\n",
       "      <th>time</th>\n",
       "      <th>offer_id</th>\n",
       "      <th>reward</th>\n",
       "      <th>amount</th>\n",
       "      <th>offer completed</th>\n",
       "      <th>offer received</th>\n",
       "      <th>offer viewed</th>\n",
       "      <th>transaction</th>\n",
       "    </tr>\n",
       "  </thead>\n",
       "  <tbody>\n",
       "    <tr>\n",
       "      <th>0</th>\n",
       "      <td>78afa995795e4d85b5d9ceeca43f5fef</td>\n",
       "      <td>offer received</td>\n",
       "      <td>0</td>\n",
       "      <td>9b98b8c7a33c4b65b9aebfe6a799e6d9</td>\n",
       "      <td>0.0</td>\n",
       "      <td>0.0</td>\n",
       "      <td>0</td>\n",
       "      <td>1</td>\n",
       "      <td>0</td>\n",
       "      <td>0</td>\n",
       "    </tr>\n",
       "    <tr>\n",
       "      <th>1</th>\n",
       "      <td>a03223e636434f42ac4c3df47e8bac43</td>\n",
       "      <td>offer received</td>\n",
       "      <td>0</td>\n",
       "      <td>0b1e1539f2cc45b7b9fa7c272da2e1d7</td>\n",
       "      <td>0.0</td>\n",
       "      <td>0.0</td>\n",
       "      <td>0</td>\n",
       "      <td>1</td>\n",
       "      <td>0</td>\n",
       "      <td>0</td>\n",
       "    </tr>\n",
       "    <tr>\n",
       "      <th>2</th>\n",
       "      <td>e2127556f4f64592b11af22de27a7932</td>\n",
       "      <td>offer received</td>\n",
       "      <td>0</td>\n",
       "      <td>2906b810c7d4411798c6938adc9daaa5</td>\n",
       "      <td>0.0</td>\n",
       "      <td>0.0</td>\n",
       "      <td>0</td>\n",
       "      <td>1</td>\n",
       "      <td>0</td>\n",
       "      <td>0</td>\n",
       "    </tr>\n",
       "    <tr>\n",
       "      <th>3</th>\n",
       "      <td>8ec6ce2a7e7949b1bf142def7d0e0586</td>\n",
       "      <td>offer received</td>\n",
       "      <td>0</td>\n",
       "      <td>fafdcd668e3743c1bb461111dcafc2a4</td>\n",
       "      <td>0.0</td>\n",
       "      <td>0.0</td>\n",
       "      <td>0</td>\n",
       "      <td>1</td>\n",
       "      <td>0</td>\n",
       "      <td>0</td>\n",
       "    </tr>\n",
       "    <tr>\n",
       "      <th>4</th>\n",
       "      <td>68617ca6246f4fbc85e91a2a49552598</td>\n",
       "      <td>offer received</td>\n",
       "      <td>0</td>\n",
       "      <td>4d5c57ea9a6940dd891ad53e9dbe8da0</td>\n",
       "      <td>0.0</td>\n",
       "      <td>0.0</td>\n",
       "      <td>0</td>\n",
       "      <td>1</td>\n",
       "      <td>0</td>\n",
       "      <td>0</td>\n",
       "    </tr>\n",
       "  </tbody>\n",
       "</table>\n",
       "</div>"
      ],
      "text/plain": [
       "                        customer_id           event  time  \\\n",
       "0  78afa995795e4d85b5d9ceeca43f5fef  offer received     0   \n",
       "1  a03223e636434f42ac4c3df47e8bac43  offer received     0   \n",
       "2  e2127556f4f64592b11af22de27a7932  offer received     0   \n",
       "3  8ec6ce2a7e7949b1bf142def7d0e0586  offer received     0   \n",
       "4  68617ca6246f4fbc85e91a2a49552598  offer received     0   \n",
       "\n",
       "                           offer_id  reward  amount  offer completed  \\\n",
       "0  9b98b8c7a33c4b65b9aebfe6a799e6d9     0.0     0.0                0   \n",
       "1  0b1e1539f2cc45b7b9fa7c272da2e1d7     0.0     0.0                0   \n",
       "2  2906b810c7d4411798c6938adc9daaa5     0.0     0.0                0   \n",
       "3  fafdcd668e3743c1bb461111dcafc2a4     0.0     0.0                0   \n",
       "4  4d5c57ea9a6940dd891ad53e9dbe8da0     0.0     0.0                0   \n",
       "\n",
       "   offer received  offer viewed  transaction  \n",
       "0               1             0            0  \n",
       "1               1             0            0  \n",
       "2               1             0            0  \n",
       "3               1             0            0  \n",
       "4               1             0            0  "
      ]
     },
     "execution_count": 41,
     "metadata": {},
     "output_type": "execute_result"
    }
   ],
   "source": [
    "new_transcript = dptran.process(transcript)\n",
    "new_transcript.head()"
   ]
  },
  {
   "cell_type": "code",
   "execution_count": 42,
   "id": "bbfb3026-494e-4a93-ad9f-4df32eb3662c",
   "metadata": {},
   "outputs": [
    {
     "data": {
      "text/html": [
       "<div>\n",
       "<style scoped>\n",
       "    .dataframe tbody tr th:only-of-type {\n",
       "        vertical-align: middle;\n",
       "    }\n",
       "\n",
       "    .dataframe tbody tr th {\n",
       "        vertical-align: top;\n",
       "    }\n",
       "\n",
       "    .dataframe thead th {\n",
       "        text-align: right;\n",
       "    }\n",
       "</style>\n",
       "<table border=\"1\" class=\"dataframe\">\n",
       "  <thead>\n",
       "    <tr style=\"text-align: right;\">\n",
       "      <th></th>\n",
       "      <th>person</th>\n",
       "      <th>event</th>\n",
       "      <th>value</th>\n",
       "      <th>time</th>\n",
       "    </tr>\n",
       "  </thead>\n",
       "  <tbody>\n",
       "    <tr>\n",
       "      <th>18067</th>\n",
       "      <td>8ec6ce2a7e7949b1bf142def7d0e0586</td>\n",
       "      <td>offer viewed</td>\n",
       "      <td>{'offer id': 'fafdcd668e3743c1bb461111dcafc2a4'}</td>\n",
       "      <td>12</td>\n",
       "    </tr>\n",
       "    <tr>\n",
       "      <th>18068</th>\n",
       "      <td>f082d80f0aac47a99173ba8ef8fc1909</td>\n",
       "      <td>transaction</td>\n",
       "      <td>{'amount': 5.47}</td>\n",
       "      <td>12</td>\n",
       "    </tr>\n",
       "    <tr>\n",
       "      <th>18069</th>\n",
       "      <td>f082d80f0aac47a99173ba8ef8fc1909</td>\n",
       "      <td>offer completed</td>\n",
       "      <td>{'offer_id': '9b98b8c7a33c4b65b9aebfe6a799e6d9...</td>\n",
       "      <td>12</td>\n",
       "    </tr>\n",
       "    <tr>\n",
       "      <th>18070</th>\n",
       "      <td>102e9454054946fda62242d2e176fdce</td>\n",
       "      <td>transaction</td>\n",
       "      <td>{'amount': 14.35}</td>\n",
       "      <td>12</td>\n",
       "    </tr>\n",
       "    <tr>\n",
       "      <th>18071</th>\n",
       "      <td>02c083884c7d45b39cc68e1314fec56c</td>\n",
       "      <td>transaction</td>\n",
       "      <td>{'amount': 4.5600000000000005}</td>\n",
       "      <td>12</td>\n",
       "    </tr>\n",
       "  </tbody>\n",
       "</table>\n",
       "</div>"
      ],
      "text/plain": [
       "                                 person            event  \\\n",
       "18067  8ec6ce2a7e7949b1bf142def7d0e0586     offer viewed   \n",
       "18068  f082d80f0aac47a99173ba8ef8fc1909      transaction   \n",
       "18069  f082d80f0aac47a99173ba8ef8fc1909  offer completed   \n",
       "18070  102e9454054946fda62242d2e176fdce      transaction   \n",
       "18071  02c083884c7d45b39cc68e1314fec56c      transaction   \n",
       "\n",
       "                                                   value  time  \n",
       "18067   {'offer id': 'fafdcd668e3743c1bb461111dcafc2a4'}    12  \n",
       "18068                                   {'amount': 5.47}    12  \n",
       "18069  {'offer_id': '9b98b8c7a33c4b65b9aebfe6a799e6d9...    12  \n",
       "18070                                  {'amount': 14.35}    12  \n",
       "18071                     {'amount': 4.5600000000000005}    12  "
      ]
     },
     "execution_count": 42,
     "metadata": {},
     "output_type": "execute_result"
    }
   ],
   "source": [
    "# retrieve a few records with view time not zero\n",
    "transcript[(transcript['time']>10) & (transcript['event'] != 'offer received')].head()"
   ]
  },
  {
   "cell_type": "markdown",
   "id": "5e2430b0-6b71-437c-9719-4ecef40ddc5d",
   "metadata": {
    "tags": []
   },
   "source": [
    "## Create offer-response dataset\n",
    "\n",
    "This is the most signfication step for the data processing where we combine transcript, portfolio datasets and produce new dataset grouped by customer and offer. \n",
    "\n",
    "The major objective for this project is to analyze how customer responds to an offer. The analysis can't depend on the offer completed because a customer can complete an offer without receiving nor viewing offer. To process the data, two columns are created, `responded`, `purchase_during_offer`. That an offer is responded is defined as following :\n",
    "\n",
    "1. For an information offer, it is reviewed and purcahse is made during offer period.\n",
    "2. For a discount or bogo offer, it is considered as responded if there are \"offer completed\" events and purchase made during the offer period.\n",
    "\n",
    "The offer period is defined as time between an offer is received until an offer passes its duration. There are large number of records in the transcript dataset where the same offer has been sent to the customer. In that case, the offer starts with the first time when customer recieves it and ends when the last offer expires.\n",
    "\n",
    "`purchase_during_offer` are the transctions recorded during the offer period."
   ]
  },
  {
   "cell_type": "code",
   "execution_count": 51,
   "id": "9674a573-0035-4e81-9ca2-c8b36454cf66",
   "metadata": {},
   "outputs": [],
   "source": [
    "# transcript\n",
    "transcript_pkl_file = '../data/1_interim/transcript.pkl'\n",
    "transcript_df = util.load_pkl(transcript_pkl_file)\n",
    "# portfolio\n",
    "portfolio_pkl_file = '../data/1_interim/portfolio.pkl'\n",
    "portfolio_df = util.load_pkl(portfolio_pkl_file)\n",
    "# portfolio\n",
    "profile_df = util.load_pkl('../data/1_interim/profile.pkl')"
   ]
  },
  {
   "cell_type": "markdown",
   "id": "76504c31-06f0-4d16-aa13-af2f975076d1",
   "metadata": {},
   "source": [
    "### Offer-response dataset\n",
    "\n",
    "The **dataprocessing.offer-response** module handles all the logic to create offer-response dataset."
   ]
  },
  {
   "cell_type": "code",
   "execution_count": 52,
   "id": "e7c70ae4-1f60-4f4f-bf66-e0b45e566dba",
   "metadata": {},
   "outputs": [
    {
     "data": {
      "text/plain": [
       "(63288, 68)"
      ]
     },
     "execution_count": 52,
     "metadata": {},
     "output_type": "execute_result"
    }
   ],
   "source": [
    "offer_response_df = util.load_pkl('../data/1_interim/offer_response.pkl')\n",
    "offer_response_df.shape"
   ]
  },
  {
   "cell_type": "code",
   "execution_count": 53,
   "id": "d21f03da-364b-40c2-b1d6-67cfc3b88f9d",
   "metadata": {},
   "outputs": [
    {
     "data": {
      "text/html": [
       "<div>\n",
       "<style scoped>\n",
       "    .dataframe tbody tr th:only-of-type {\n",
       "        vertical-align: middle;\n",
       "    }\n",
       "\n",
       "    .dataframe tbody tr th {\n",
       "        vertical-align: top;\n",
       "    }\n",
       "\n",
       "    .dataframe thead th {\n",
       "        text-align: right;\n",
       "    }\n",
       "</style>\n",
       "<table border=\"1\" class=\"dataframe\">\n",
       "  <thead>\n",
       "    <tr style=\"text-align: right;\">\n",
       "      <th></th>\n",
       "      <th>customer_id</th>\n",
       "      <th>offer_id</th>\n",
       "      <th>offer_received_sum</th>\n",
       "      <th>offer_viewed_sum</th>\n",
       "      <th>offer_completed_sum</th>\n",
       "      <th>offer_reward</th>\n",
       "      <th>difficulty</th>\n",
       "      <th>duration</th>\n",
       "      <th>web_ch</th>\n",
       "      <th>num_channels</th>\n",
       "      <th>...</th>\n",
       "      <th>income_40K</th>\n",
       "      <th>income_50K</th>\n",
       "      <th>income_60K</th>\n",
       "      <th>income_70K</th>\n",
       "      <th>income_80K</th>\n",
       "      <th>income_90K</th>\n",
       "      <th>income_100K</th>\n",
       "      <th>income_110K</th>\n",
       "      <th>income_120K</th>\n",
       "      <th>income_130K</th>\n",
       "    </tr>\n",
       "  </thead>\n",
       "  <tbody>\n",
       "    <tr>\n",
       "      <th>0</th>\n",
       "      <td>0009655768c64bdeb2e877511632db8f</td>\n",
       "      <td>2906b810c7d4411798c6938adc9daaa5</td>\n",
       "      <td>1</td>\n",
       "      <td>0</td>\n",
       "      <td>1</td>\n",
       "      <td>2</td>\n",
       "      <td>10</td>\n",
       "      <td>168</td>\n",
       "      <td>1</td>\n",
       "      <td>3</td>\n",
       "      <td>...</td>\n",
       "      <td>0.0</td>\n",
       "      <td>0.0</td>\n",
       "      <td>0.0</td>\n",
       "      <td>1.0</td>\n",
       "      <td>0.0</td>\n",
       "      <td>0.0</td>\n",
       "      <td>0.0</td>\n",
       "      <td>0.0</td>\n",
       "      <td>0.0</td>\n",
       "      <td>0.0</td>\n",
       "    </tr>\n",
       "    <tr>\n",
       "      <th>1</th>\n",
       "      <td>0009655768c64bdeb2e877511632db8f</td>\n",
       "      <td>3f207df678b143eea3cee63160fa8bed</td>\n",
       "      <td>1</td>\n",
       "      <td>1</td>\n",
       "      <td>0</td>\n",
       "      <td>0</td>\n",
       "      <td>0</td>\n",
       "      <td>96</td>\n",
       "      <td>1</td>\n",
       "      <td>3</td>\n",
       "      <td>...</td>\n",
       "      <td>0.0</td>\n",
       "      <td>0.0</td>\n",
       "      <td>0.0</td>\n",
       "      <td>1.0</td>\n",
       "      <td>0.0</td>\n",
       "      <td>0.0</td>\n",
       "      <td>0.0</td>\n",
       "      <td>0.0</td>\n",
       "      <td>0.0</td>\n",
       "      <td>0.0</td>\n",
       "    </tr>\n",
       "    <tr>\n",
       "      <th>2</th>\n",
       "      <td>0009655768c64bdeb2e877511632db8f</td>\n",
       "      <td>5a8bc65990b245e5a138643cd4eb9837</td>\n",
       "      <td>1</td>\n",
       "      <td>1</td>\n",
       "      <td>0</td>\n",
       "      <td>0</td>\n",
       "      <td>0</td>\n",
       "      <td>72</td>\n",
       "      <td>0</td>\n",
       "      <td>3</td>\n",
       "      <td>...</td>\n",
       "      <td>0.0</td>\n",
       "      <td>0.0</td>\n",
       "      <td>0.0</td>\n",
       "      <td>1.0</td>\n",
       "      <td>0.0</td>\n",
       "      <td>0.0</td>\n",
       "      <td>0.0</td>\n",
       "      <td>0.0</td>\n",
       "      <td>0.0</td>\n",
       "      <td>0.0</td>\n",
       "    </tr>\n",
       "    <tr>\n",
       "      <th>3</th>\n",
       "      <td>0009655768c64bdeb2e877511632db8f</td>\n",
       "      <td>f19421c1d4aa40978ebb69ca19b0e20d</td>\n",
       "      <td>1</td>\n",
       "      <td>1</td>\n",
       "      <td>1</td>\n",
       "      <td>5</td>\n",
       "      <td>5</td>\n",
       "      <td>120</td>\n",
       "      <td>1</td>\n",
       "      <td>4</td>\n",
       "      <td>...</td>\n",
       "      <td>0.0</td>\n",
       "      <td>0.0</td>\n",
       "      <td>0.0</td>\n",
       "      <td>1.0</td>\n",
       "      <td>0.0</td>\n",
       "      <td>0.0</td>\n",
       "      <td>0.0</td>\n",
       "      <td>0.0</td>\n",
       "      <td>0.0</td>\n",
       "      <td>0.0</td>\n",
       "    </tr>\n",
       "    <tr>\n",
       "      <th>4</th>\n",
       "      <td>0009655768c64bdeb2e877511632db8f</td>\n",
       "      <td>fafdcd668e3743c1bb461111dcafc2a4</td>\n",
       "      <td>1</td>\n",
       "      <td>1</td>\n",
       "      <td>1</td>\n",
       "      <td>2</td>\n",
       "      <td>10</td>\n",
       "      <td>240</td>\n",
       "      <td>1</td>\n",
       "      <td>4</td>\n",
       "      <td>...</td>\n",
       "      <td>0.0</td>\n",
       "      <td>0.0</td>\n",
       "      <td>0.0</td>\n",
       "      <td>1.0</td>\n",
       "      <td>0.0</td>\n",
       "      <td>0.0</td>\n",
       "      <td>0.0</td>\n",
       "      <td>0.0</td>\n",
       "      <td>0.0</td>\n",
       "      <td>0.0</td>\n",
       "    </tr>\n",
       "  </tbody>\n",
       "</table>\n",
       "<p>5 rows × 68 columns</p>\n",
       "</div>"
      ],
      "text/plain": [
       "                        customer_id                          offer_id  \\\n",
       "0  0009655768c64bdeb2e877511632db8f  2906b810c7d4411798c6938adc9daaa5   \n",
       "1  0009655768c64bdeb2e877511632db8f  3f207df678b143eea3cee63160fa8bed   \n",
       "2  0009655768c64bdeb2e877511632db8f  5a8bc65990b245e5a138643cd4eb9837   \n",
       "3  0009655768c64bdeb2e877511632db8f  f19421c1d4aa40978ebb69ca19b0e20d   \n",
       "4  0009655768c64bdeb2e877511632db8f  fafdcd668e3743c1bb461111dcafc2a4   \n",
       "\n",
       "   offer_received_sum  offer_viewed_sum  offer_completed_sum  offer_reward  \\\n",
       "0                   1                 0                    1             2   \n",
       "1                   1                 1                    0             0   \n",
       "2                   1                 1                    0             0   \n",
       "3                   1                 1                    1             5   \n",
       "4                   1                 1                    1             2   \n",
       "\n",
       "   difficulty  duration  web_ch  num_channels  ...  income_40K  income_50K  \\\n",
       "0          10       168       1             3  ...         0.0         0.0   \n",
       "1           0        96       1             3  ...         0.0         0.0   \n",
       "2           0        72       0             3  ...         0.0         0.0   \n",
       "3           5       120       1             4  ...         0.0         0.0   \n",
       "4          10       240       1             4  ...         0.0         0.0   \n",
       "\n",
       "   income_60K  income_70K  income_80K  income_90K  income_100K  income_110K  \\\n",
       "0         0.0         1.0         0.0         0.0          0.0          0.0   \n",
       "1         0.0         1.0         0.0         0.0          0.0          0.0   \n",
       "2         0.0         1.0         0.0         0.0          0.0          0.0   \n",
       "3         0.0         1.0         0.0         0.0          0.0          0.0   \n",
       "4         0.0         1.0         0.0         0.0          0.0          0.0   \n",
       "\n",
       "  income_120K  income_130K  \n",
       "0         0.0          0.0  \n",
       "1         0.0          0.0  \n",
       "2         0.0          0.0  \n",
       "3         0.0          0.0  \n",
       "4         0.0          0.0  \n",
       "\n",
       "[5 rows x 68 columns]"
      ]
     },
     "execution_count": 53,
     "metadata": {},
     "output_type": "execute_result"
    }
   ],
   "source": [
    "offer_response_df.head()"
   ]
  },
  {
   "cell_type": "markdown",
   "id": "de905297-3750-4715-9372-527b216ef3f9",
   "metadata": {},
   "source": [
    "There are total 63K samples in the dataset with 68 different fields. Let's look at some of the business related question based on the data from this set. "
   ]
  },
  {
   "cell_type": "markdown",
   "id": "ae28085e-3aee-48e0-824d-f038ede7a42a",
   "metadata": {},
   "source": [
    "#### How do customers respond the offers, e.g. what is the most popular offer?\n",
    "\n",
    "As part of producing offer-response dataset, a summary dataset (response_summary) was created based on the new dataset. This dataset reveals the responding rate from customers. "
   ]
  },
  {
   "cell_type": "code",
   "execution_count": 54,
   "id": "e4384cc1-d3aa-4099-8b8a-0d6273804026",
   "metadata": {},
   "outputs": [
    {
     "data": {
      "text/html": [
       "<div>\n",
       "<style scoped>\n",
       "    .dataframe tbody tr th:only-of-type {\n",
       "        vertical-align: middle;\n",
       "    }\n",
       "\n",
       "    .dataframe tbody tr th {\n",
       "        vertical-align: top;\n",
       "    }\n",
       "\n",
       "    .dataframe thead th {\n",
       "        text-align: right;\n",
       "    }\n",
       "</style>\n",
       "<table border=\"1\" class=\"dataframe\">\n",
       "  <thead>\n",
       "    <tr style=\"text-align: right;\">\n",
       "      <th></th>\n",
       "      <th>offer_id</th>\n",
       "      <th>count</th>\n",
       "      <th>responded_count</th>\n",
       "      <th>success_rate</th>\n",
       "      <th>offer_type</th>\n",
       "    </tr>\n",
       "  </thead>\n",
       "  <tbody>\n",
       "    <tr>\n",
       "      <th>9</th>\n",
       "      <td>fafdcd668e3743c1bb461111dcafc2a4</td>\n",
       "      <td>6332</td>\n",
       "      <td>4433</td>\n",
       "      <td>70.01</td>\n",
       "      <td>discount</td>\n",
       "    </tr>\n",
       "    <tr>\n",
       "      <th>1</th>\n",
       "      <td>2298d6c36e964ae4a3e7e9706d1fb8c2</td>\n",
       "      <td>6325</td>\n",
       "      <td>4313</td>\n",
       "      <td>68.19</td>\n",
       "      <td>discount</td>\n",
       "    </tr>\n",
       "    <tr>\n",
       "      <th>5</th>\n",
       "      <td>5a8bc65990b245e5a138643cd4eb9837</td>\n",
       "      <td>6320</td>\n",
       "      <td>4002</td>\n",
       "      <td>63.32</td>\n",
       "      <td>informational</td>\n",
       "    </tr>\n",
       "    <tr>\n",
       "      <th>8</th>\n",
       "      <td>f19421c1d4aa40978ebb69ca19b0e20d</td>\n",
       "      <td>6262</td>\n",
       "      <td>3655</td>\n",
       "      <td>58.37</td>\n",
       "      <td>bogo</td>\n",
       "    </tr>\n",
       "    <tr>\n",
       "      <th>4</th>\n",
       "      <td>4d5c57ea9a6940dd891ad53e9dbe8da0</td>\n",
       "      <td>6330</td>\n",
       "      <td>2825</td>\n",
       "      <td>44.63</td>\n",
       "      <td>bogo</td>\n",
       "    </tr>\n",
       "    <tr>\n",
       "      <th>7</th>\n",
       "      <td>ae264e3637204a6fb9bb56bc8210ddfd</td>\n",
       "      <td>6374</td>\n",
       "      <td>2843</td>\n",
       "      <td>44.60</td>\n",
       "      <td>bogo</td>\n",
       "    </tr>\n",
       "    <tr>\n",
       "      <th>3</th>\n",
       "      <td>3f207df678b143eea3cee63160fa8bed</td>\n",
       "      <td>6331</td>\n",
       "      <td>2618</td>\n",
       "      <td>41.35</td>\n",
       "      <td>informational</td>\n",
       "    </tr>\n",
       "    <tr>\n",
       "      <th>6</th>\n",
       "      <td>9b98b8c7a33c4b65b9aebfe6a799e6d9</td>\n",
       "      <td>6355</td>\n",
       "      <td>2504</td>\n",
       "      <td>39.40</td>\n",
       "      <td>bogo</td>\n",
       "    </tr>\n",
       "    <tr>\n",
       "      <th>2</th>\n",
       "      <td>2906b810c7d4411798c6938adc9daaa5</td>\n",
       "      <td>6285</td>\n",
       "      <td>2415</td>\n",
       "      <td>38.42</td>\n",
       "      <td>discount</td>\n",
       "    </tr>\n",
       "    <tr>\n",
       "      <th>0</th>\n",
       "      <td>0b1e1539f2cc45b7b9fa7c272da2e1d7</td>\n",
       "      <td>6374</td>\n",
       "      <td>1472</td>\n",
       "      <td>23.09</td>\n",
       "      <td>discount</td>\n",
       "    </tr>\n",
       "  </tbody>\n",
       "</table>\n",
       "</div>"
      ],
      "text/plain": [
       "                           offer_id  count  responded_count  success_rate  \\\n",
       "9  fafdcd668e3743c1bb461111dcafc2a4   6332             4433         70.01   \n",
       "1  2298d6c36e964ae4a3e7e9706d1fb8c2   6325             4313         68.19   \n",
       "5  5a8bc65990b245e5a138643cd4eb9837   6320             4002         63.32   \n",
       "8  f19421c1d4aa40978ebb69ca19b0e20d   6262             3655         58.37   \n",
       "4  4d5c57ea9a6940dd891ad53e9dbe8da0   6330             2825         44.63   \n",
       "7  ae264e3637204a6fb9bb56bc8210ddfd   6374             2843         44.60   \n",
       "3  3f207df678b143eea3cee63160fa8bed   6331             2618         41.35   \n",
       "6  9b98b8c7a33c4b65b9aebfe6a799e6d9   6355             2504         39.40   \n",
       "2  2906b810c7d4411798c6938adc9daaa5   6285             2415         38.42   \n",
       "0  0b1e1539f2cc45b7b9fa7c272da2e1d7   6374             1472         23.09   \n",
       "\n",
       "      offer_type  \n",
       "9       discount  \n",
       "1       discount  \n",
       "5  informational  \n",
       "8           bogo  \n",
       "4           bogo  \n",
       "7           bogo  \n",
       "3  informational  \n",
       "6           bogo  \n",
       "2       discount  \n",
       "0       discount  "
      ]
     },
     "execution_count": 54,
     "metadata": {},
     "output_type": "execute_result"
    }
   ],
   "source": [
    "response_summary_df = util.load_pkl('../data/1_interim/offer_summary.pkl')\n",
    "response_summary_df"
   ]
  },
  {
   "cell_type": "markdown",
   "id": "a014641d-b2ab-4a89-abac-5c0af5c6f753",
   "metadata": {},
   "source": [
    "The most popular offer (fafdcd668e3743c1bb461111dcafc2a4) is a discount offer which more than 70% offer sent were responded. The least popular offer is also a discount offer(0b1e1539f2cc45b7b9fa7c272da2e1d7) which around 23% offer sent were responded. Both offers had the same duration, however the difficulty of the more popular one was a half of the other one."
   ]
  },
  {
   "cell_type": "markdown",
   "id": "5d948793-839c-4629-9735-b9766534881d",
   "metadata": {
    "tags": []
   },
   "source": [
    "#### How do offer types affect respondence ? Do customers view informational offers?"
   ]
  },
  {
   "cell_type": "code",
   "execution_count": 141,
   "id": "95a27c2a-04f2-497d-9327-cd1485b44f85",
   "metadata": {},
   "outputs": [
    {
     "data": {
      "text/html": [
       "<div>\n",
       "<style scoped>\n",
       "    .dataframe tbody tr th:only-of-type {\n",
       "        vertical-align: middle;\n",
       "    }\n",
       "\n",
       "    .dataframe tbody tr th {\n",
       "        vertical-align: top;\n",
       "    }\n",
       "\n",
       "    .dataframe thead th {\n",
       "        text-align: right;\n",
       "    }\n",
       "</style>\n",
       "<table border=\"1\" class=\"dataframe\">\n",
       "  <thead>\n",
       "    <tr style=\"text-align: right;\">\n",
       "      <th></th>\n",
       "      <th>offer_id</th>\n",
       "      <th>count</th>\n",
       "      <th>responded_count</th>\n",
       "      <th>success_rate</th>\n",
       "      <th>offer_type</th>\n",
       "    </tr>\n",
       "  </thead>\n",
       "  <tbody>\n",
       "    <tr>\n",
       "      <th>5</th>\n",
       "      <td>5a8bc65990b245e5a138643cd4eb9837</td>\n",
       "      <td>6320</td>\n",
       "      <td>4002</td>\n",
       "      <td>63.32</td>\n",
       "      <td>informational</td>\n",
       "    </tr>\n",
       "    <tr>\n",
       "      <th>3</th>\n",
       "      <td>3f207df678b143eea3cee63160fa8bed</td>\n",
       "      <td>6331</td>\n",
       "      <td>2618</td>\n",
       "      <td>41.35</td>\n",
       "      <td>informational</td>\n",
       "    </tr>\n",
       "  </tbody>\n",
       "</table>\n",
       "</div>"
      ],
      "text/plain": [
       "                           offer_id  count  responded_count  success_rate  \\\n",
       "5  5a8bc65990b245e5a138643cd4eb9837   6320             4002         63.32   \n",
       "3  3f207df678b143eea3cee63160fa8bed   6331             2618         41.35   \n",
       "\n",
       "      offer_type  \n",
       "5  informational  \n",
       "3  informational  "
      ]
     },
     "execution_count": 141,
     "metadata": {},
     "output_type": "execute_result"
    }
   ],
   "source": [
    "response_summary_df[response_summary_df['offer_type'] == 'informational']"
   ]
  },
  {
   "cell_type": "markdown",
   "id": "bc3ac142-06e4-4de5-9272-e18314683b81",
   "metadata": {},
   "source": [
    "Offer types affect respondence as well as the difficulty of these offers. Based on data above, customers not only viewed the informational offers, they also made purchase during the offer. "
   ]
  },
  {
   "cell_type": "markdown",
   "id": "f33092b8-58cb-47b4-81d7-33207240cc29",
   "metadata": {},
   "source": [
    "#### Which offer has made the most for Starbucks? What's the difference between BOGO offers and Discount offers?"
   ]
  },
  {
   "cell_type": "markdown",
   "id": "4799015f-06bb-4c22-bb5e-2d40137e3362",
   "metadata": {},
   "source": [
    "#### Does income/age play a factor on completion of the offers ?\n",
    "\n",
    "The distribution of income by gender can be viewed in following charts. The minimum and maximum incomes for both male and female are similar but the number of male customers in low-income level is higher. Also, income distribution pattern for Others is also similar to males and females. The minimum and maximum incomes are lower than the other two groups."
   ]
  },
  {
   "cell_type": "code",
   "execution_count": 147,
   "id": "07d6cf2e-2ea2-4d1b-a1fb-a27fc43e4bfa",
   "metadata": {
    "jupyter": {
     "source_hidden": true
    },
    "tags": []
   },
   "outputs": [
    {
     "data": {
      "image/png": "[encoded data removed]",
      "text/plain": [
       "<Figure size 1440x576 with 3 Axes>"
      ]
     },
     "metadata": {
      "needs_background": "light"
     },
     "output_type": "display_data"
    }
   ],
   "source": [
    "import warnings\n",
    "\n",
    "def fxn():\n",
    "    warnings.warn(\"deprecated\", DeprecationWarning)\n",
    "\n",
    "with warnings.catch_warnings():\n",
    "    warnings.simplefilter(\"ignore\")\n",
    "    fxn()\n",
    "    \n",
    "    # to be able to draw three subplots in a row\n",
    "    fig, ax = plt.subplots(figsize=(20,8),nrows=1, ncols=3, sharex=True, sharey=True)\n",
    "    fig.tight_layout(pad=9.0)\n",
    "\n",
    "    # plot a male customers income distribution\n",
    "    plt.subplot(131)\n",
    "    sns.distplot(profile.loc[profile['gender'] == 'M', 'income'])\n",
    "    plt.xlabel('Income(M)', fontsize=10)\n",
    "    plt.ylabel('Counts', fontsize=10)\n",
    "    plt.title('Histogram of Income(M)', fontsize=14)\n",
    "    plt.grid(True)\n",
    "\n",
    "    # plot a female customers income distribution\n",
    "    plt.subplot(132)\n",
    "    sns.distplot(profile.loc[profile['gender'] == 'F', 'income'])\n",
    "    plt.xlabel('Income(F)', fontsize=10)\n",
    "    plt.ylabel('Counts', fontsize=10)\n",
    "    plt.title('Histogram of Income(F)', fontsize=14)\n",
    "    plt.grid(True)\n",
    "\n",
    "    # plot other customers income distribution\n",
    "    plt.subplot(133)\n",
    "    sns.distplot(profile[profile['gender'] == 'O']['income'])\n",
    "    plt.xlabel('Income(O)', fontsize=10)\n",
    "    plt.ylabel('Counts', fontsize=10)\n",
    "    plt.title('Histogram of Income(O)', fontsize=14)\n",
    "    plt.grid(True)"
   ]
  },
  {
   "cell_type": "markdown",
   "id": "a40850d1-7521-4a3b-9fb5-0626b6b6ed43",
   "metadata": {},
   "source": [
    "**Offer Interactions by Gender**"
   ]
  },
  {
   "cell_type": "code",
   "execution_count": 173,
   "id": "7752de6e-af48-4d92-9c78-192a3d79db90",
   "metadata": {
    "tags": []
   },
   "outputs": [
    {
     "data": {
      "image/png": "[encoded data removed]",
      "text/plain": [
       "<Figure size 864x288 with 1 Axes>"
      ]
     },
     "metadata": {
      "needs_background": "light"
     },
     "output_type": "display_data"
    }
   ],
   "source": [
    "events_by_gender = offer_response_df[['offer_completed_sum', 'offer_viewed_sum', 'offer_completed_sum', 'gender']].groupby('gender').sum()\n",
    "events_by_gender.plot(kind='bar', figsize=(12,4), cmap='tab20c', title='Offer activity count by gender');"
   ]
  },
  {
   "cell_type": "markdown",
   "id": "90ee91a9-ec6e-439b-b706-03478f8c0fba",
   "metadata": {},
   "source": [
    "From the chart above, Male customers were very active in terms of viewing the offer received."
   ]
  },
  {
   "cell_type": "markdown",
   "id": "79f4b3aa-27d6-411e-bd44-e7b6096978ac",
   "metadata": {},
   "source": [
    "**Offer Response by Gender**"
   ]
  },
  {
   "cell_type": "code",
   "execution_count": 182,
   "id": "5d5ea3d4-11af-458c-a3d6-e29bc92b7f3a",
   "metadata": {},
   "outputs": [
    {
     "data": {
      "image/png": "[encoded data removed]",
      "text/plain": [
       "<Figure size 864x288 with 1 Axes>"
      ]
     },
     "metadata": {
      "needs_background": "light"
     },
     "output_type": "display_data"
    }
   ],
   "source": [
    "resp_by_gender = offer_response_df[['gender','responded']].groupby('gender').sum()\n",
    "resp_by_gender.plot(kind='bar', figsize=(12,4), cmap='Pastel1', title='Offer response count by gender');"
   ]
  },
  {
   "cell_type": "markdown",
   "id": "1a72148c-e79a-42d4-9ff0-4005b321d6db",
   "metadata": {},
   "source": [
    "Male customers viewed lot of offers and also responded more often to these offers than femable customers."
   ]
  },
  {
   "cell_type": "markdown",
   "id": "353f7c4d-39cd-4069-99a8-f00e9e562fbb",
   "metadata": {},
   "source": [
    "**Offer Purchase by Gender**"
   ]
  },
  {
   "cell_type": "code",
   "execution_count": 179,
   "id": "1d157b08-38d9-4355-ad06-6e915451b07d",
   "metadata": {},
   "outputs": [
    {
     "data": {
      "image/png": "[encoded data removed]",
      "text/plain": [
       "<Figure size 864x288 with 1 Axes>"
      ]
     },
     "metadata": {
      "needs_background": "light"
     },
     "output_type": "display_data"
    }
   ],
   "source": [
    "purchases_by_gender = offer_response_df[['gender', 'purchase_during_offer']].groupby('gender').sum()\n",
    "purchases_by_gender.plot(kind='bar', figsize=(12,4), cmap='Pastel2', title='Offer purchase by gender');"
   ]
  },
  {
   "cell_type": "markdown",
   "id": "e06cb09c-4347-49e9-9c7c-a2b7e0ba3fd2",
   "metadata": {},
   "source": [
    "Even though Male customers were more active than female customers in terms of offer activties, in terms of money spending, female customers spent more money during the offers!"
   ]
  },
  {
   "cell_type": "code",
   "execution_count": null,
   "id": "0a567116-f9ee-4b5b-a539-0e4e387f6a57",
   "metadata": {},
   "outputs": [],
   "source": []
  }
 ],
 "metadata": {
  "kernelspec": {
   "display_name": "py3_starbucks_challenge",
   "language": "python",
   "name": "py3_starbucks_challenge"
  },
  "language_info": {
   "codemirror_mode": {
    "name": "ipython",
    "version": 3
   },
   "file_extension": ".py",
   "mimetype": "text/x-python",
   "name": "python",
   "nbconvert_exporter": "python",
   "pygments_lexer": "ipython3",
   "version": "3.9.6"
  },
  "toc": {
   "base_numbering": 1,
   "nav_menu": {},
   "number_sections": true,
   "sideBar": true,
   "skip_h1_title": false,
   "title_cell": "Table of Contents",
   "title_sidebar": "Contents",
   "toc_cell": false,
   "toc_position": {},
   "toc_section_display": true,
   "toc_window_display": false
  }
 },
 "nbformat": 4,
 "nbformat_minor": 5
}
