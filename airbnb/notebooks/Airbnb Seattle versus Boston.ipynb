{
 "cells": [
  {
   "cell_type": "markdown",
   "metadata": {},
   "source": [
    "<h2> Airbnb Seattle versus Boston </h2>\n",
    "\n",
    "\n",
    "How does Airbnb rental market different between Seattle and Boston ?"
   ]
  },
  {
   "cell_type": "code",
   "execution_count": 1,
   "metadata": {},
   "outputs": [],
   "source": [
    "%load_ext autoreload\n",
    "%autoreload 2\n",
    "\n",
    "import numpy as np\n",
    "import pandas as pd\n",
    "import matplotlib.pyplot as plt\n",
    "%matplotlib inline\n",
    "\n",
    "pd.set_option(\"display.max_rows\", 999)\n",
    "pd.set_option(\"display.max_columns\", 999)\n",
    "pd.set_option('precision', 5)\n",
    "\n",
    "\n",
    "import src.data.rental_calendar as cal\n",
    "import src.data.listings as lst\n",
    "import src.data.reviews as rev\n",
    "import src.data.rental_calendar as cal\n",
    "import src.data.util as util\n",
    "\n",
    "# https://www.airdna.co"
   ]
  },
  {
   "cell_type": "code",
   "execution_count": 2,
   "metadata": {},
   "outputs": [],
   "source": [
    "def load_and_clean_data(city):\n",
    "    \"\"\"Load the listing dataset from csv file, convert zipcode and price into numeric types\n",
    "      Parameter: \n",
    "          city: city name\n",
    "      Return: Pandas DataFrame\n",
    "    \"\"\"\n",
    "    datafile =f'../data/raw/{city}/listings.csv'\n",
    "    listings = lst.Listings(datafile, city)\n",
    "    listings_df = listings.process_zipcode(listings.df)\n",
    "    listings_df = listings.convert_price(listings_df)\n",
    "    return listings_df"
   ]
  },
  {
   "cell_type": "markdown",
   "metadata": {},
   "source": [
    "**Load Seattle listings data**"
   ]
  },
  {
   "cell_type": "code",
   "execution_count": 3,
   "metadata": {},
   "outputs": [],
   "source": [
    "city = 'seattle'\n",
    "seattle_listings_df = load_and_clean_data(city)"
   ]
  },
  {
   "cell_type": "code",
   "execution_count": 4,
   "metadata": {},
   "outputs": [
    {
     "data": {
      "text/plain": [
       "Index(['id', 'listing_url', 'scrape_id', 'last_scraped', 'name', 'summary',\n",
       "       'space', 'description', 'experiences_offered', 'neighborhood_overview',\n",
       "       'notes', 'transit', 'thumbnail_url', 'medium_url', 'picture_url',\n",
       "       'xl_picture_url', 'host_id', 'host_url', 'host_name', 'host_since',\n",
       "       'host_location', 'host_about', 'host_response_time',\n",
       "       'host_response_rate', 'host_acceptance_rate', 'host_is_superhost',\n",
       "       'host_thumbnail_url', 'host_picture_url', 'host_neighbourhood',\n",
       "       'host_listings_count', 'host_total_listings_count',\n",
       "       'host_verifications', 'host_has_profile_pic', 'host_identity_verified',\n",
       "       'street', 'neighbourhood', 'neighbourhood_cleansed',\n",
       "       'neighbourhood_group_cleansed', 'city', 'state', 'zipcode', 'market',\n",
       "       'smart_location', 'country_code', 'country', 'latitude', 'longitude',\n",
       "       'is_location_exact', 'property_type', 'room_type', 'accommodates',\n",
       "       'bathrooms', 'bedrooms', 'beds', 'bed_type', 'amenities', 'square_feet',\n",
       "       'weekly_price', 'monthly_price', 'security_deposit', 'cleaning_fee',\n",
       "       'guests_included', 'extra_people', 'minimum_nights', 'maximum_nights',\n",
       "       'calendar_updated', 'has_availability', 'availability_30',\n",
       "       'availability_60', 'availability_90', 'availability_365',\n",
       "       'calendar_last_scraped', 'number_of_reviews', 'first_review',\n",
       "       'last_review', 'review_scores_rating', 'review_scores_accuracy',\n",
       "       'review_scores_cleanliness', 'review_scores_checkin',\n",
       "       'review_scores_communication', 'review_scores_location',\n",
       "       'review_scores_value', 'requires_license', 'license',\n",
       "       'jurisdiction_names', 'instant_bookable', 'cancellation_policy',\n",
       "       'require_guest_profile_picture', 'require_guest_phone_verification',\n",
       "       'calculated_host_listings_count', 'reviews_per_month', 'price'],\n",
       "      dtype='object')"
      ]
     },
     "execution_count": 4,
     "metadata": {},
     "output_type": "execute_result"
    }
   ],
   "source": [
    "seattle_listings_df.columns"
   ]
  },
  {
   "cell_type": "code",
   "execution_count": 5,
   "metadata": {},
   "outputs": [
    {
     "data": {
      "text/plain": [
       "array(['Entire home/apt', 'Private room', 'Shared room'], dtype=object)"
      ]
     },
     "execution_count": 5,
     "metadata": {},
     "output_type": "execute_result"
    }
   ],
   "source": [
    "seattle_listings_df['room_type'].unique()"
   ]
  },
  {
   "cell_type": "markdown",
   "metadata": {},
   "source": [
    "**Load Boston listings data**"
   ]
  },
  {
   "cell_type": "code",
   "execution_count": 6,
   "metadata": {},
   "outputs": [],
   "source": [
    "city = 'boston'\n",
    "boston_listings_df = load_and_clean_data(city)"
   ]
  },
  {
   "cell_type": "code",
   "execution_count": 7,
   "metadata": {},
   "outputs": [
    {
     "data": {
      "text/plain": [
       "array(['Entire home/apt', 'Private room', 'Shared room'], dtype=object)"
      ]
     },
     "execution_count": 7,
     "metadata": {},
     "output_type": "execute_result"
    }
   ],
   "source": [
    "boston_listings_df['room_type'].unique()"
   ]
  },
  {
   "cell_type": "markdown",
   "metadata": {},
   "source": [
    "### Question 1\n",
    "\n",
    "What are the top 10 neighbourhoods for listing rentals from both cities ? "
   ]
  },
  {
   "cell_type": "code",
   "execution_count": 8,
   "metadata": {},
   "outputs": [
    {
     "name": "stdout",
     "output_type": "stream",
     "text": [
      "(81,)\n"
     ]
    },
    {
     "data": {
      "image/png": "[encoded data removed]",
      "text/plain": [
       "<Figure size 432x288 with 1 Axes>"
      ]
     },
     "metadata": {
      "needs_background": "light"
     },
     "output_type": "display_data"
    }
   ],
   "source": [
    "seattle_listings_by_neighbourhood = seattle_listings_df['neighbourhood'].value_counts()\n",
    "print(seattle_listings_by_neighbourhood.shape)\n",
    "seattle_listings_by_neighbourhood[:10].plot(kind='bar', title='Top 10 Seattle neighbourhood for rentals',  alpha=.5);"
   ]
  },
  {
   "cell_type": "markdown",
   "metadata": {},
   "source": [
    "The Captical Hill in Seattle had almost twice of listings than the number two neighourhood Ballard. "
   ]
  },
  {
   "cell_type": "code",
   "execution_count": 9,
   "metadata": {
    "scrolled": false
   },
   "outputs": [
    {
     "name": "stdout",
     "output_type": "stream",
     "text": [
      "(30,)\n"
     ]
    },
    {
     "data": {
      "image/png": "[encoded data removed]",
      "text/plain": [
       "<Figure size 432x288 with 1 Axes>"
      ]
     },
     "metadata": {
      "needs_background": "light"
     },
     "output_type": "display_data"
    }
   ],
   "source": [
    "boston_listings_by_neighbourhood = boston_listings_df['neighbourhood'].value_counts()\n",
    "print(boston_listings_by_neighbourhood.shape)\n",
    "boston_listings_by_neighbourhood[:10].plot(kind='bar', title='Top 10 Boston neighbourhood for rentals',  alpha=.5);"
   ]
  },
  {
   "cell_type": "markdown",
   "metadata": {},
   "source": [
    "The listings from Boston were more linearly distributed among the top 10 neighourhoods."
   ]
  },
  {
   "cell_type": "code",
   "execution_count": 10,
   "metadata": {},
   "outputs": [
    {
     "name": "stdout",
     "output_type": "stream",
     "text": [
      "Seattle top 10 neighbourhood counts for 45.81% of rental listings\n"
     ]
    }
   ],
   "source": [
    "print('Seattle top 10 neighbourhood counts for {}% of rental listings'.format( round(seattle_listings_by_neighbourhood[:10].sum()/seattle_listings_df.shape[0] * 100, 2)))\n"
   ]
  },
  {
   "cell_type": "code",
   "execution_count": 11,
   "metadata": {},
   "outputs": [
    {
     "name": "stdout",
     "output_type": "stream",
     "text": [
      "Boston top 10 neighbourhood counts for 65.91% of rental listings\n"
     ]
    }
   ],
   "source": [
    "print('Boston top 10 neighbourhood counts for {}% of rental listings'.format( round(boston_listings_by_neighbourhood[:10].sum()/boston_listings_df.shape[0] * 100, 2)))"
   ]
  },
  {
   "cell_type": "markdown",
   "metadata": {},
   "source": [
    "### Question 2\n",
    "\n",
    "Active Rentals by room type: Entire room, private room and shared room"
   ]
  },
  {
   "cell_type": "code",
   "execution_count": 12,
   "metadata": {},
   "outputs": [
    {
     "data": {
      "text/plain": [
       "<matplotlib.legend.Legend at 0x7fa69133b250>"
      ]
     },
     "execution_count": 12,
     "metadata": {},
     "output_type": "execute_result"
    },
    {
     "data": {
      "image/png": "[encoded data removed]",
      "text/plain": [
       "<Figure size 432x288 with 1 Axes>"
      ]
     },
     "metadata": {
      "needs_background": "light"
     },
     "output_type": "display_data"
    }
   ],
   "source": [
    "# make a bar chart with data from both cities\n",
    "sea_by_room_type = seattle_listings_df['room_type'].value_counts().to_frame('seattle_listings')\n",
    "bos_by_room_type = boston_listings_df['room_type'].value_counts().to_frame('boston_listings')\n",
    "by_room_types = sea_by_room_type.join(bos_by_room_type, on=sea_by_room_type.index)\n",
    "\n",
    "X_axis = np.arange(len(sea_by_room_type.index))\n",
    "\n",
    "plt.bar(X_axis - 0.2, by_room_types['seattle_listings'],0.4,  label=\"Seattle\", alpha=.5)\n",
    "plt.bar(X_axis + 0.2, by_room_types['boston_listings'], 0.4, label=\"Boston\", alpha=.5)\n",
    "plt.xticks(X_axis, sea_by_room_type.index)\n",
    "plt.xlabel('Room type')\n",
    "plt.ylabel(f'# listings')\n",
    "plt.title(f'Active Rentals by room type')\n",
    "plt.legend()\n",
    "  "
   ]
  },
  {
   "cell_type": "markdown",
   "metadata": {},
   "source": [
    "In both cities, the availability of entire home/apartment is comparable. For private room, Boston has more.t isn't surprising to see that the shared room has the smallest share of the market."
   ]
  },
  {
   "cell_type": "markdown",
   "metadata": {},
   "source": [
    "### Question 3\n",
    "\n",
    "Are luxary rentals long term rentals ?"
   ]
  },
  {
   "cell_type": "code",
   "execution_count": 13,
   "metadata": {},
   "outputs": [],
   "source": [
    "def calender_load_clean(city):\n",
    "    \"\"\"Load calendar dataset from csv file and process price and available columns\n",
    "      Parameter:\n",
    "          city - city name\n",
    "      Return: Pandas DataFrame\n",
    "    \"\"\"\n",
    "    datafile = f'../data/raw/{city}/calendar.csv'\n",
    "    cals = cal.RentalCalendar(datafile, city)\n",
    "    cals_df = cals.convert_price(cals.df)\n",
    "    cals_df = cals.convert_available(cals_df)\n",
    "    return cals_df\n",
    "\n",
    "\n",
    "sea_cals = calender_load_clean('seattle')\n",
    "bos_cals = calender_load_clean('boston')"
   ]
  },
  {
   "cell_type": "code",
   "execution_count": 15,
   "metadata": {},
   "outputs": [],
   "source": [
    "import math\n",
    "def plot_availability(city, data, bin_size=10):\n",
    "    \"\"\"Produce a histogram plot for number of days available for luxary rentals\n",
    "      Parameters:\n",
    "        city: city name\n",
    "        data: rental listings data\n",
    "        bin_size: number of bins\n",
    "    \"\"\"\n",
    "    bins = np.linspace(math.ceil(min(data)), \n",
    "               math.floor(max(data)),\n",
    "               bin_size) \n",
    "\n",
    "    plt.xlim([min(data), max(data)])\n",
    "    plt.hist(data, bins=bins, alpha=0.5)\n",
    "    plt.title(f'{city} - Luxary rental availability ')\n",
    "    plt.xlabel(f'days')\n",
    "    plt.ylabel('count')"
   ]
  },
  {
   "cell_type": "code",
   "execution_count": 16,
   "metadata": {},
   "outputs": [],
   "source": [
    "sea_luxe_ids = sea_cals[sea_cals.price >= sea_cals.price.quantile(0.99)]['listing_id'].unique()\n",
    "sea_luxe_avail = [sea_cals[sea_cals.listing_id == lid]['available'].sum() for lid in sea_luxe_ids]"
   ]
  },
  {
   "cell_type": "code",
   "execution_count": 17,
   "metadata": {},
   "outputs": [
    {
     "name": "stdout",
     "output_type": "stream",
     "text": [
      "Seattle, total 64 listings with price above price $550.0\n"
     ]
    }
   ],
   "source": [
    "print('Seattle, total {} listings with price above price ${}'.format(len(sea_luxe_avail), sea_cals.price.quantile(0.99)))"
   ]
  },
  {
   "cell_type": "code",
   "execution_count": 18,
   "metadata": {},
   "outputs": [
    {
     "data": {
      "image/png": "[encoded data removed]",
      "text/plain": [
       "<Figure size 432x288 with 1 Axes>"
      ]
     },
     "metadata": {
      "needs_background": "light"
     },
     "output_type": "display_data"
    }
   ],
   "source": [
    "plot_availability('Seattle', sea_luxe_avail)"
   ]
  },
  {
   "cell_type": "code",
   "execution_count": 19,
   "metadata": {},
   "outputs": [],
   "source": [
    "bos_luxe_ids = bos_cals[bos_cals.price >= bos_cals.price.quantile(0.99)]['listing_id'].unique()\n",
    "bos_luxe_avail = [bos_cals[bos_cals.listing_id == lid]['available'].sum() for lid in bos_luxe_ids]"
   ]
  },
  {
   "cell_type": "code",
   "execution_count": 20,
   "metadata": {},
   "outputs": [
    {
     "name": "stdout",
     "output_type": "stream",
     "text": [
      "Boston, total 159 listings with price above price $725.0\n"
     ]
    }
   ],
   "source": [
    "print('Boston, total {} listings with price above price ${}'.format(len(bos_luxe_ids), bos_cals.price.quantile(0.99)))"
   ]
  },
  {
   "cell_type": "code",
   "execution_count": 21,
   "metadata": {
    "scrolled": true
   },
   "outputs": [
    {
     "data": {
      "image/png": "[encoded data removed]",
      "text/plain": [
       "<Figure size 432x288 with 1 Axes>"
      ]
     },
     "metadata": {
      "needs_background": "light"
     },
     "output_type": "display_data"
    }
   ],
   "source": [
    "plot_availability('Boston', bos_luxe_avail)"
   ]
  },
  {
   "cell_type": "markdown",
   "metadata": {},
   "source": [
    "Based on data, good portion of these luxuary properties were indeed long term and available all year long. This begs a question, is there any advantage of renting them through Airbnb versus renting them via local property management company?"
   ]
  },
  {
   "cell_type": "markdown",
   "metadata": {},
   "source": [
    "### Question 4\n",
    "\n",
    "For hosts with higher response rate, did they get higher review ratings ?"
   ]
  },
  {
   "cell_type": "code",
   "execution_count": 22,
   "metadata": {},
   "outputs": [],
   "source": [
    "# Load listings and reviews data\n",
    "city = 'seattle'\n",
    "sea_revs = rev.Reviews(f'../data/raw/{city}/reviews.csv', city)\n",
    "sea_listings = lst.Listings(f'../data/raw/{city}/listings.csv', city)"
   ]
  },
  {
   "cell_type": "code",
   "execution_count": 23,
   "metadata": {},
   "outputs": [],
   "source": [
    "# join listings and reviews data\n",
    "full_reviews = sea_revs.combined_reviews_and_scores(sea_listings)"
   ]
  },
  {
   "cell_type": "code",
   "execution_count": 24,
   "metadata": {},
   "outputs": [
    {
     "data": {
      "text/html": [
       "<div>\n",
       "<style scoped>\n",
       "    .dataframe tbody tr th:only-of-type {\n",
       "        vertical-align: middle;\n",
       "    }\n",
       "\n",
       "    .dataframe tbody tr th {\n",
       "        vertical-align: top;\n",
       "    }\n",
       "\n",
       "    .dataframe thead th {\n",
       "        text-align: right;\n",
       "    }\n",
       "</style>\n",
       "<table border=\"1\" class=\"dataframe\">\n",
       "  <thead>\n",
       "    <tr style=\"text-align: right;\">\n",
       "      <th></th>\n",
       "      <th>host_response_rate</th>\n",
       "      <th>review_scores_rating</th>\n",
       "    </tr>\n",
       "  </thead>\n",
       "  <tbody>\n",
       "    <tr>\n",
       "      <th>0</th>\n",
       "      <td>100.0</td>\n",
       "      <td>95.0</td>\n",
       "    </tr>\n",
       "    <tr>\n",
       "      <th>1</th>\n",
       "      <td>100.0</td>\n",
       "      <td>95.0</td>\n",
       "    </tr>\n",
       "  </tbody>\n",
       "</table>\n",
       "</div>"
      ],
      "text/plain": [
       "   host_response_rate  review_scores_rating\n",
       "0               100.0                  95.0\n",
       "1               100.0                  95.0"
      ]
     },
     "execution_count": 24,
     "metadata": {},
     "output_type": "execute_result"
    }
   ],
   "source": [
    "rev_host_rep_rate = full_reviews[['host_response_rate', 'review_scores_rating']].copy()\n",
    "\n",
    "# remove missing values so that we can convert it to numeric type\n",
    "rev_host_rep_rate = rev_host_rep_rate.dropna(how='any')\n",
    "\n",
    "# convert host_response_rate to numeric type\n",
    "rev_host_rep_rate['host_response_rate'] = rev_host_rep_rate['host_response_rate'].apply(lambda x: str(x).replace('%', '')).astype(float)\n",
    "rev_host_rep_rate[:2]"
   ]
  },
  {
   "cell_type": "code",
   "execution_count": 25,
   "metadata": {},
   "outputs": [
    {
     "data": {
      "image/png": "[encoded data removed]",
      "text/plain": [
       "<Figure size 432x288 with 1 Axes>"
      ]
     },
     "metadata": {
      "needs_background": "light"
     },
     "output_type": "display_data"
    }
   ],
   "source": [
    "# plot host_response_rate and review_scores_rating \n",
    "rev_host_rep_rate.plot.scatter(x='host_response_rate', y='review_scores_rating', c='DarkBlue');                 "
   ]
  },
  {
   "cell_type": "markdown",
   "metadata": {},
   "source": [
    "More reviews were submitted when response rate were higher. However higher rate review score can be achived with hands-off."
   ]
  }
 ],
 "metadata": {
  "kernelspec": {
   "display_name": "Python 3",
   "language": "python",
   "name": "python3"
  },
  "language_info": {
   "codemirror_mode": {
    "name": "ipython",
    "version": 3
   },
   "file_extension": ".py",
   "mimetype": "text/x-python",
   "name": "python",
   "nbconvert_exporter": "python",
   "pygments_lexer": "ipython3",
   "version": "3.9.4"
  },
  "toc": {
   "base_numbering": 1,
   "nav_menu": {},
   "number_sections": true,
   "sideBar": true,
   "skip_h1_title": false,
   "title_cell": "Table of Contents",
   "title_sidebar": "Contents",
   "toc_cell": false,
   "toc_position": {},
   "toc_section_display": true,
   "toc_window_display": false
  }
 },
 "nbformat": 4,
 "nbformat_minor": 2
}
