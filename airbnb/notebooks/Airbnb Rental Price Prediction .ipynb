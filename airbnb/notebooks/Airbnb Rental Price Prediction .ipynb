{
 "cells": [
  {
   "cell_type": "markdown",
   "metadata": {},
   "source": [
    "## Airbnb Rental Price Prediction \n",
    "\n",
    "In this notebook, we are going to use a subset of original data from the Airbnb to predict the rental price. The data are now converted into numeric dtypes."
   ]
  },
  {
   "cell_type": "code",
   "execution_count": 1,
   "metadata": {},
   "outputs": [],
   "source": [
    "%load_ext autoreload\n",
    "%autoreload 2\n",
    "\n",
    "\n",
    "import numpy as np\n",
    "import pandas as pd\n",
    "import matplotlib.pyplot as plt\n",
    "from sklearn.linear_model import LinearRegression\n",
    "from sklearn.model_selection import train_test_split\n",
    "from sklearn.metrics import r2_score, mean_squared_error\n",
    "\n",
    "import seaborn as sns\n",
    "%matplotlib inline"
   ]
  },
  {
   "cell_type": "code",
   "execution_count": 2,
   "metadata": {},
   "outputs": [],
   "source": [
    "import os\n",
    "import src.data.util as util\n",
    "import src.features.price as fp\n",
    "import src.models.predict_price as mprice\n",
    "import src.models.util as mutil"
   ]
  },
  {
   "cell_type": "markdown",
   "metadata": {},
   "source": [
    "### Combining the data\n",
    "To create a larger set, we combine data from Seattle and Boston. "
   ]
  },
  {
   "cell_type": "code",
   "execution_count": 3,
   "metadata": {},
   "outputs": [],
   "source": [
    "datafile_path = f'../data/processed/'\n",
    "datafiles = ['boston_prices.pkl', 'seattle_prices.pkl']\n",
    "datafiles = [os.path.join(datafile_path, f) for f in datafiles]"
   ]
  },
  {
   "cell_type": "code",
   "execution_count": 4,
   "metadata": {},
   "outputs": [],
   "source": [
    "price_dataset = fp.combine_listings(datafiles)"
   ]
  },
  {
   "cell_type": "markdown",
   "metadata": {},
   "source": [
    "**Statistics of the dataset**"
   ]
  },
  {
   "cell_type": "code",
   "execution_count": 5,
   "metadata": {},
   "outputs": [
    {
     "name": "stdout",
     "output_type": "stream",
     "text": [
      "combined prices dataset has 7358 rows, 10 columns\n",
      "2 columns has object type\n",
      "5 columns without any missing value\n",
      "0 columns missing 75% values\n"
     ]
    }
   ],
   "source": [
    "util.stats(price_dataset, 'combined prices')"
   ]
  },
  {
   "cell_type": "code",
   "execution_count": 6,
   "metadata": {},
   "outputs": [
    {
     "data": {
      "text/plain": [
       "Index(['zipcode', 'property_type', 'room_type', 'accommodates', 'bathrooms',\n",
       "       'bedrooms', 'beds', 'review_scores_value', 'amenities_count', 'price'],\n",
       "      dtype='object')"
      ]
     },
     "execution_count": 6,
     "metadata": {},
     "output_type": "execute_result"
    }
   ],
   "source": [
    "price_dataset.columns"
   ]
  },
  {
   "cell_type": "markdown",
   "metadata": {},
   "source": [
    "**Columns with missing values**"
   ]
  },
  {
   "cell_type": "code",
   "execution_count": 7,
   "metadata": {},
   "outputs": [
    {
     "data": {
      "text/plain": [
       "{'bathrooms', 'bedrooms', 'beds', 'property_type', 'review_scores_value'}"
      ]
     },
     "execution_count": 7,
     "metadata": {},
     "output_type": "execute_result"
    }
   ],
   "source": [
    "util.cols_missing_values(price_dataset, 0)"
   ]
  },
  {
   "cell_type": "code",
   "execution_count": 8,
   "metadata": {},
   "outputs": [
    {
     "name": "stdout",
     "output_type": "stream",
     "text": [
      "property_type           0.054 %\n",
      "bathrooms               0.408 %\n",
      "bedrooms                0.217 %\n",
      "beds                    0.109 %\n",
      "review_scores_value    19.883 %\n",
      "dtype: object\n"
     ]
    }
   ],
   "source": [
    "missing = util.missing_stats(price_dataset, 'price_dataset')\n",
    "print(missing)"
   ]
  },
  {
   "cell_type": "code",
   "execution_count": 9,
   "metadata": {},
   "outputs": [
    {
     "data": {
      "text/html": [
       "<div>\n",
       "<style scoped>\n",
       "    .dataframe tbody tr th:only-of-type {\n",
       "        vertical-align: middle;\n",
       "    }\n",
       "\n",
       "    .dataframe tbody tr th {\n",
       "        vertical-align: top;\n",
       "    }\n",
       "\n",
       "    .dataframe thead th {\n",
       "        text-align: right;\n",
       "    }\n",
       "</style>\n",
       "<table border=\"1\" class=\"dataframe\">\n",
       "  <thead>\n",
       "    <tr style=\"text-align: right;\">\n",
       "      <th></th>\n",
       "      <th>zipcode</th>\n",
       "      <th>accommodates</th>\n",
       "      <th>bathrooms</th>\n",
       "      <th>bedrooms</th>\n",
       "      <th>beds</th>\n",
       "      <th>review_scores_value</th>\n",
       "      <th>amenities_count</th>\n",
       "      <th>price</th>\n",
       "    </tr>\n",
       "  </thead>\n",
       "  <tbody>\n",
       "    <tr>\n",
       "      <th>count</th>\n",
       "      <td>7358.000000</td>\n",
       "      <td>7358.000000</td>\n",
       "      <td>7328.000000</td>\n",
       "      <td>7342.000000</td>\n",
       "      <td>7350.000000</td>\n",
       "      <td>5895.000000</td>\n",
       "      <td>7358.000000</td>\n",
       "      <td>7358.000000</td>\n",
       "    </tr>\n",
       "    <tr>\n",
       "      <th>mean</th>\n",
       "      <td>51845.998369</td>\n",
       "      <td>3.203452</td>\n",
       "      <td>1.241744</td>\n",
       "      <td>1.283846</td>\n",
       "      <td>1.675510</td>\n",
       "      <td>9.320102</td>\n",
       "      <td>15.090650</td>\n",
       "      <td>150.325088</td>\n",
       "    </tr>\n",
       "    <tr>\n",
       "      <th>std</th>\n",
       "      <td>47963.970891</td>\n",
       "      <td>1.889514</td>\n",
       "      <td>0.549948</td>\n",
       "      <td>0.823181</td>\n",
       "      <td>1.082719</td>\n",
       "      <td>0.890032</td>\n",
       "      <td>4.826422</td>\n",
       "      <td>124.227207</td>\n",
       "    </tr>\n",
       "    <tr>\n",
       "      <th>min</th>\n",
       "      <td>2108.000000</td>\n",
       "      <td>1.000000</td>\n",
       "      <td>0.000000</td>\n",
       "      <td>0.000000</td>\n",
       "      <td>0.000000</td>\n",
       "      <td>2.000000</td>\n",
       "      <td>1.000000</td>\n",
       "      <td>11.000000</td>\n",
       "    </tr>\n",
       "    <tr>\n",
       "      <th>25%</th>\n",
       "      <td>2125.000000</td>\n",
       "      <td>2.000000</td>\n",
       "      <td>1.000000</td>\n",
       "      <td>1.000000</td>\n",
       "      <td>1.000000</td>\n",
       "      <td>9.000000</td>\n",
       "      <td>12.000000</td>\n",
       "      <td>79.000000</td>\n",
       "    </tr>\n",
       "    <tr>\n",
       "      <th>50%</th>\n",
       "      <td>98101.000000</td>\n",
       "      <td>2.000000</td>\n",
       "      <td>1.000000</td>\n",
       "      <td>1.000000</td>\n",
       "      <td>1.000000</td>\n",
       "      <td>9.000000</td>\n",
       "      <td>15.000000</td>\n",
       "      <td>120.000000</td>\n",
       "    </tr>\n",
       "    <tr>\n",
       "      <th>75%</th>\n",
       "      <td>98115.000000</td>\n",
       "      <td>4.000000</td>\n",
       "      <td>1.000000</td>\n",
       "      <td>2.000000</td>\n",
       "      <td>2.000000</td>\n",
       "      <td>10.000000</td>\n",
       "      <td>18.000000</td>\n",
       "      <td>189.750000</td>\n",
       "    </tr>\n",
       "    <tr>\n",
       "      <th>max</th>\n",
       "      <td>98199.000000</td>\n",
       "      <td>16.000000</td>\n",
       "      <td>8.000000</td>\n",
       "      <td>7.000000</td>\n",
       "      <td>16.000000</td>\n",
       "      <td>10.000000</td>\n",
       "      <td>31.000000</td>\n",
       "      <td>4000.000000</td>\n",
       "    </tr>\n",
       "  </tbody>\n",
       "</table>\n",
       "</div>"
      ],
      "text/plain": [
       "            zipcode  accommodates    bathrooms     bedrooms         beds  \\\n",
       "count   7358.000000   7358.000000  7328.000000  7342.000000  7350.000000   \n",
       "mean   51845.998369      3.203452     1.241744     1.283846     1.675510   \n",
       "std    47963.970891      1.889514     0.549948     0.823181     1.082719   \n",
       "min     2108.000000      1.000000     0.000000     0.000000     0.000000   \n",
       "25%     2125.000000      2.000000     1.000000     1.000000     1.000000   \n",
       "50%    98101.000000      2.000000     1.000000     1.000000     1.000000   \n",
       "75%    98115.000000      4.000000     1.000000     2.000000     2.000000   \n",
       "max    98199.000000     16.000000     8.000000     7.000000    16.000000   \n",
       "\n",
       "       review_scores_value  amenities_count        price  \n",
       "count          5895.000000      7358.000000  7358.000000  \n",
       "mean              9.320102        15.090650   150.325088  \n",
       "std               0.890032         4.826422   124.227207  \n",
       "min               2.000000         1.000000    11.000000  \n",
       "25%               9.000000        12.000000    79.000000  \n",
       "50%               9.000000        15.000000   120.000000  \n",
       "75%              10.000000        18.000000   189.750000  \n",
       "max              10.000000        31.000000  4000.000000  "
      ]
     },
     "execution_count": 9,
     "metadata": {},
     "output_type": "execute_result"
    }
   ],
   "source": [
    "price_dataset.describe()"
   ]
  },
  {
   "cell_type": "markdown",
   "metadata": {},
   "source": [
    "### Creating features \n",
    "\n",
    "During this phase, we'll\n",
    "- Impute columns with na values.\n",
    "- Encode \"room_type\" data with one-hot encoding. \n",
    "- For \"property_type\" data, encode with one-hot or a hash with a bucket size. The Hashed Feature is design pattern that addresses three possible problems associated with categorical features: incomplete vocabulary, model size due to cardinality, and cold start. It does so by grouping the categorical features and accepting the trade-off of collisions in the data representation."
   ]
  },
  {
   "cell_type": "markdown",
   "metadata": {},
   "source": [
    "**Create features and hashing property_type data**"
   ]
  },
  {
   "cell_type": "code",
   "execution_count": 10,
   "metadata": {},
   "outputs": [
    {
     "data": {
      "text/html": [
       "<div>\n",
       "<style scoped>\n",
       "    .dataframe tbody tr th:only-of-type {\n",
       "        vertical-align: middle;\n",
       "    }\n",
       "\n",
       "    .dataframe tbody tr th {\n",
       "        vertical-align: top;\n",
       "    }\n",
       "\n",
       "    .dataframe thead th {\n",
       "        text-align: right;\n",
       "    }\n",
       "</style>\n",
       "<table border=\"1\" class=\"dataframe\">\n",
       "  <thead>\n",
       "    <tr style=\"text-align: right;\">\n",
       "      <th></th>\n",
       "      <th>zipcode</th>\n",
       "      <th>accommodates</th>\n",
       "      <th>bathrooms</th>\n",
       "      <th>bedrooms</th>\n",
       "      <th>beds</th>\n",
       "      <th>review_scores_value</th>\n",
       "      <th>amenities_count</th>\n",
       "      <th>price</th>\n",
       "      <th>room_type_Private room</th>\n",
       "      <th>room_type_Shared room</th>\n",
       "      <th>property_type</th>\n",
       "    </tr>\n",
       "  </thead>\n",
       "  <tbody>\n",
       "    <tr>\n",
       "      <th>0</th>\n",
       "      <td>2131</td>\n",
       "      <td>4</td>\n",
       "      <td>1.5</td>\n",
       "      <td>2.0</td>\n",
       "      <td>3.0</td>\n",
       "      <td>9.320102</td>\n",
       "      <td>15</td>\n",
       "      <td>250.0</td>\n",
       "      <td>0</td>\n",
       "      <td>0</td>\n",
       "      <td>0</td>\n",
       "    </tr>\n",
       "    <tr>\n",
       "      <th>1</th>\n",
       "      <td>2131</td>\n",
       "      <td>2</td>\n",
       "      <td>1.0</td>\n",
       "      <td>1.0</td>\n",
       "      <td>1.0</td>\n",
       "      <td>9.000000</td>\n",
       "      <td>21</td>\n",
       "      <td>65.0</td>\n",
       "      <td>1</td>\n",
       "      <td>0</td>\n",
       "      <td>2</td>\n",
       "    </tr>\n",
       "  </tbody>\n",
       "</table>\n",
       "</div>"
      ],
      "text/plain": [
       "   zipcode  accommodates  bathrooms  bedrooms  beds  review_scores_value  \\\n",
       "0     2131             4        1.5       2.0   3.0             9.320102   \n",
       "1     2131             2        1.0       1.0   1.0             9.000000   \n",
       "\n",
       "   amenities_count  price  room_type_Private room  room_type_Shared room  \\\n",
       "0               15  250.0                       0                      0   \n",
       "1               21   65.0                       1                      0   \n",
       "\n",
       "   property_type  \n",
       "0              0  \n",
       "1              2  "
      ]
     },
     "execution_count": 10,
     "metadata": {},
     "output_type": "execute_result"
    }
   ],
   "source": [
    "price_features = fp.build_features(price_dataset, hash_property_type=True, bucket_size=5)\n",
    "price_features[:2]"
   ]
  },
  {
   "cell_type": "code",
   "execution_count": 11,
   "metadata": {},
   "outputs": [
    {
     "data": {
      "image/png": "[encoded data removed]",
      "text/plain": [
       "<Figure size 1440x1296 with 12 Axes>"
      ]
     },
     "metadata": {
      "needs_background": "light"
     },
     "output_type": "display_data"
    }
   ],
   "source": [
    "price_features.hist(figsize=(20, 18));"
   ]
  },
  {
   "cell_type": "markdown",
   "metadata": {},
   "source": [
    "**Correlation matrix which we can see how variables are related to one another**"
   ]
  },
  {
   "cell_type": "code",
   "execution_count": 12,
   "metadata": {},
   "outputs": [
    {
     "data": {
      "image/png": "[encoded data removed]",
      "text/plain": [
       "<Figure size 432x288 with 2 Axes>"
      ]
     },
     "metadata": {
      "needs_background": "light"
     },
     "output_type": "display_data"
    }
   ],
   "source": [
    "sns.heatmap(price_features.corr(), annot=True, fmt=\".2f\");"
   ]
  },
  {
   "cell_type": "markdown",
   "metadata": {},
   "source": [
    "Based on chart above, variable **accomodates, bedrooms, beds, bathrooms and private room** are more related to price. **zipcode** on the other hand, doesn't seem to directly related to price."
   ]
  },
  {
   "cell_type": "markdown",
   "metadata": {},
   "source": [
    "<h3>Rental price prediction</h3>\n",
    "\n",
    "We'll predict the price with linear model with a subset of columns from listings. Most of the data preparation follows standard procedure such as imputing missing data with mean, one hot encoding for categorical data etc. \n",
    "\n",
    "For property_type, encoding was done with two different options. One is to create a hash with a bucket size. The hashing is to address the general problems associated with categorical features: incomplete vocabulary, model size due to cardinality, and cold start. The other is one hot encoding."
   ]
  },
  {
   "cell_type": "markdown",
   "metadata": {},
   "source": [
    "### Predicting the price  with property_type hashed"
   ]
  },
  {
   "cell_type": "markdown",
   "metadata": {},
   "source": [
    " #### Features and fitting a model "
   ]
  },
  {
   "cell_type": "code",
   "execution_count": 13,
   "metadata": {},
   "outputs": [],
   "source": [
    "# build features using hash\n",
    "price_features_hashed = fp.build_features(price_dataset, hash_property_type=True, bucket_size=5)\n",
    "\n",
    "label_col = 'price'\n",
    "X = price_features_hashed[[c for c in price_features_hashed.columns if c != label_col]]\n",
    "y = price_features_hashed[label_col]\n",
    "\n",
    "# fit a linear model\n",
    "test_score, train_score, test_rmse, train_rmse, lm_model_hashed, X_train, X_test, y_train, y_test = mprice.fit_linear_mod(X, y, test_size=0.3)"
   ]
  },
  {
   "cell_type": "markdown",
   "metadata": {},
   "source": [
    "**Training data and test data size**"
   ]
  },
  {
   "cell_type": "code",
   "execution_count": 14,
   "metadata": {},
   "outputs": [
    {
     "name": "stdout",
     "output_type": "stream",
     "text": [
      "train sample size: (5150, 10), test sample size: (2208, 10)\n"
     ]
    }
   ],
   "source": [
    "print(f'train sample size: {X_train.shape}, test sample size: {X_test.shape}')"
   ]
  },
  {
   "cell_type": "markdown",
   "metadata": {},
   "source": [
    "**Model quality**\n",
    "\n",
    "Model quality is measured with <a herf= https://scikit-learn.org/stable/modules/generated/sklearn.metrics.r2_score.html>r2_score</a> from sklean.metric. The higher the value, the better model. \n"
   ]
  },
  {
   "cell_type": "code",
   "execution_count": 15,
   "metadata": {},
   "outputs": [
    {
     "name": "stdout",
     "output_type": "stream",
     "text": [
      "price prediction with hashed features: train_score: 0.3666750042884528, test_score: 0.362929177598622\n"
     ]
    }
   ],
   "source": [
    "print(f'price prediction with hashed features: train_score: {train_score}, test_score: {test_score}')"
   ]
  },
  {
   "cell_type": "code",
   "execution_count": 16,
   "metadata": {},
   "outputs": [
    {
     "name": "stdout",
     "output_type": "stream",
     "text": [
      "price prediction with hashed features: rmse_train: 96.97820375513588, rmse_test: 103.36452421920968\n"
     ]
    }
   ],
   "source": [
    "print(f'price prediction with hashed features: rmse_train: {train_rmse}, rmse_test: {test_rmse}')"
   ]
  },
  {
   "cell_type": "markdown",
   "metadata": {},
   "source": [
    "**What influences Price**"
   ]
  },
  {
   "cell_type": "code",
   "execution_count": 17,
   "metadata": {
    "scrolled": true
   },
   "outputs": [
    {
     "data": {
      "text/html": [
       "<div>\n",
       "<style scoped>\n",
       "    .dataframe tbody tr th:only-of-type {\n",
       "        vertical-align: middle;\n",
       "    }\n",
       "\n",
       "    .dataframe tbody tr th {\n",
       "        vertical-align: top;\n",
       "    }\n",
       "\n",
       "    .dataframe thead th {\n",
       "        text-align: right;\n",
       "    }\n",
       "</style>\n",
       "<table border=\"1\" class=\"dataframe\">\n",
       "  <thead>\n",
       "    <tr style=\"text-align: right;\">\n",
       "      <th></th>\n",
       "      <th>est_int</th>\n",
       "      <th>coefs</th>\n",
       "      <th>abs_coefs</th>\n",
       "    </tr>\n",
       "  </thead>\n",
       "  <tbody>\n",
       "    <tr>\n",
       "      <th>8</th>\n",
       "      <td>room_type_Shared room</td>\n",
       "      <td>-76.155599</td>\n",
       "      <td>76.155599</td>\n",
       "    </tr>\n",
       "    <tr>\n",
       "      <th>7</th>\n",
       "      <td>room_type_Private room</td>\n",
       "      <td>-68.569907</td>\n",
       "      <td>68.569907</td>\n",
       "    </tr>\n",
       "    <tr>\n",
       "      <th>3</th>\n",
       "      <td>bedrooms</td>\n",
       "      <td>34.186028</td>\n",
       "      <td>34.186028</td>\n",
       "    </tr>\n",
       "    <tr>\n",
       "      <th>2</th>\n",
       "      <td>bathrooms</td>\n",
       "      <td>28.524756</td>\n",
       "      <td>28.524756</td>\n",
       "    </tr>\n",
       "    <tr>\n",
       "      <th>1</th>\n",
       "      <td>accommodates</td>\n",
       "      <td>8.093156</td>\n",
       "      <td>8.093156</td>\n",
       "    </tr>\n",
       "    <tr>\n",
       "      <th>9</th>\n",
       "      <td>property_type</td>\n",
       "      <td>6.795873</td>\n",
       "      <td>6.795873</td>\n",
       "    </tr>\n",
       "    <tr>\n",
       "      <th>6</th>\n",
       "      <td>amenities_count</td>\n",
       "      <td>0.727495</td>\n",
       "      <td>0.727495</td>\n",
       "    </tr>\n",
       "    <tr>\n",
       "      <th>5</th>\n",
       "      <td>review_scores_value</td>\n",
       "      <td>0.227717</td>\n",
       "      <td>0.227717</td>\n",
       "    </tr>\n",
       "    <tr>\n",
       "      <th>4</th>\n",
       "      <td>beds</td>\n",
       "      <td>-0.103873</td>\n",
       "      <td>0.103873</td>\n",
       "    </tr>\n",
       "    <tr>\n",
       "      <th>0</th>\n",
       "      <td>zipcode</td>\n",
       "      <td>-0.000529</td>\n",
       "      <td>0.000529</td>\n",
       "    </tr>\n",
       "  </tbody>\n",
       "</table>\n",
       "</div>"
      ],
      "text/plain": [
       "                  est_int      coefs  abs_coefs\n",
       "8   room_type_Shared room -76.155599  76.155599\n",
       "7  room_type_Private room -68.569907  68.569907\n",
       "3                bedrooms  34.186028  34.186028\n",
       "2               bathrooms  28.524756  28.524756\n",
       "1            accommodates   8.093156   8.093156\n",
       "9           property_type   6.795873   6.795873\n",
       "6         amenities_count   0.727495   0.727495\n",
       "5     review_scores_value   0.227717   0.227717\n",
       "4                    beds  -0.103873   0.103873\n",
       "0                 zipcode  -0.000529   0.000529"
      ]
     },
     "execution_count": 17,
     "metadata": {},
     "output_type": "execute_result"
    }
   ],
   "source": [
    "#Use the function\n",
    "coef_df = mutil.coef_weights(lm_model_hashed.coef_, X_train)\n",
    "\n",
    "#A quick look at the top results\n",
    "coef_df.head(10)"
   ]
  },
  {
   "cell_type": "markdown",
   "metadata": {},
   "source": [
    "The room types have largest influence to price, followed by number of bedrooms and bathrooms. "
   ]
  },
  {
   "cell_type": "markdown",
   "metadata": {},
   "source": [
    "### Predicting the price  with property_type as one hot encoding"
   ]
  },
  {
   "cell_type": "markdown",
   "metadata": {},
   "source": [
    " #### Features and fitting a model "
   ]
  },
  {
   "cell_type": "code",
   "execution_count": 18,
   "metadata": {},
   "outputs": [],
   "source": [
    "# build features without using hash\n",
    "price_features_no_hash = fp.build_features(price_dataset, hash_property_type=False)\n",
    "label_col = 'price'\n",
    "X = price_features_no_hash[[c for c in price_features_no_hash.columns if c != label_col]]\n",
    "y = price_features_no_hash[label_col]"
   ]
  },
  {
   "cell_type": "code",
   "execution_count": 19,
   "metadata": {},
   "outputs": [],
   "source": [
    "# fit a linear model\n",
    "test_score, train_score, test_rmse, train_rmse, lm_model_nohash, X_train, X_test, y_train, y_test = mprice.fit_linear_mod(X, y,test_size=0.3)\n"
   ]
  },
  {
   "cell_type": "markdown",
   "metadata": {},
   "source": [
    " #### Model quality"
   ]
  },
  {
   "cell_type": "code",
   "execution_count": 20,
   "metadata": {},
   "outputs": [
    {
     "name": "stdout",
     "output_type": "stream",
     "text": [
      "price prediction with no feature hashing: train_score: 0.36966576353338854, test_score: 0.35907382019978795\n"
     ]
    }
   ],
   "source": [
    "print(f'price prediction with no feature hashing: train_score: {train_score}, test_score: {test_score}')"
   ]
  },
  {
   "cell_type": "code",
   "execution_count": 21,
   "metadata": {},
   "outputs": [
    {
     "name": "stdout",
     "output_type": "stream",
     "text": [
      "price prediction with no feature hashing: rmse_train: 96.74895203964198, rmse_test: 103.67681766904228\n"
     ]
    }
   ],
   "source": [
    "print(f'price prediction with no feature hashing: rmse_train: {train_rmse}, rmse_test: {test_rmse}')"
   ]
  },
  {
   "cell_type": "markdown",
   "metadata": {},
   "source": [
    "**What influences Price**"
   ]
  },
  {
   "cell_type": "code",
   "execution_count": 22,
   "metadata": {
    "scrolled": true
   },
   "outputs": [
    {
     "data": {
      "text/html": [
       "<div>\n",
       "<style scoped>\n",
       "    .dataframe tbody tr th:only-of-type {\n",
       "        vertical-align: middle;\n",
       "    }\n",
       "\n",
       "    .dataframe tbody tr th {\n",
       "        vertical-align: top;\n",
       "    }\n",
       "\n",
       "    .dataframe thead th {\n",
       "        text-align: right;\n",
       "    }\n",
       "</style>\n",
       "<table border=\"1\" class=\"dataframe\">\n",
       "  <thead>\n",
       "    <tr style=\"text-align: right;\">\n",
       "      <th></th>\n",
       "      <th>est_int</th>\n",
       "      <th>coefs</th>\n",
       "      <th>abs_coefs</th>\n",
       "    </tr>\n",
       "  </thead>\n",
       "  <tbody>\n",
       "    <tr>\n",
       "      <th>25</th>\n",
       "      <td>property_type_Villa</td>\n",
       "      <td>160.049357</td>\n",
       "      <td>160.049357</td>\n",
       "    </tr>\n",
       "    <tr>\n",
       "      <th>16</th>\n",
       "      <td>property_type_Dorm</td>\n",
       "      <td>-97.613705</td>\n",
       "      <td>97.613705</td>\n",
       "    </tr>\n",
       "    <tr>\n",
       "      <th>10</th>\n",
       "      <td>property_type_Boat</td>\n",
       "      <td>84.528542</td>\n",
       "      <td>84.528542</td>\n",
       "    </tr>\n",
       "    <tr>\n",
       "      <th>8</th>\n",
       "      <td>room_type_Shared room</td>\n",
       "      <td>-74.476788</td>\n",
       "      <td>74.476788</td>\n",
       "    </tr>\n",
       "    <tr>\n",
       "      <th>7</th>\n",
       "      <td>room_type_Private room</td>\n",
       "      <td>-68.737470</td>\n",
       "      <td>68.737470</td>\n",
       "    </tr>\n",
       "    <tr>\n",
       "      <th>17</th>\n",
       "      <td>property_type_Entire Floor</td>\n",
       "      <td>-63.951214</td>\n",
       "      <td>63.951214</td>\n",
       "    </tr>\n",
       "    <tr>\n",
       "      <th>18</th>\n",
       "      <td>property_type_Guesthouse</td>\n",
       "      <td>56.681691</td>\n",
       "      <td>56.681691</td>\n",
       "    </tr>\n",
       "    <tr>\n",
       "      <th>24</th>\n",
       "      <td>property_type_Treehouse</td>\n",
       "      <td>37.065507</td>\n",
       "      <td>37.065507</td>\n",
       "    </tr>\n",
       "    <tr>\n",
       "      <th>3</th>\n",
       "      <td>bedrooms</td>\n",
       "      <td>34.050519</td>\n",
       "      <td>34.050519</td>\n",
       "    </tr>\n",
       "    <tr>\n",
       "      <th>2</th>\n",
       "      <td>bathrooms</td>\n",
       "      <td>28.618914</td>\n",
       "      <td>28.618914</td>\n",
       "    </tr>\n",
       "    <tr>\n",
       "      <th>22</th>\n",
       "      <td>property_type_Tent</td>\n",
       "      <td>-18.914358</td>\n",
       "      <td>18.914358</td>\n",
       "    </tr>\n",
       "    <tr>\n",
       "      <th>21</th>\n",
       "      <td>property_type_Other</td>\n",
       "      <td>15.548284</td>\n",
       "      <td>15.548284</td>\n",
       "    </tr>\n",
       "    <tr>\n",
       "      <th>9</th>\n",
       "      <td>property_type_Bed &amp; Breakfast</td>\n",
       "      <td>15.531105</td>\n",
       "      <td>15.531105</td>\n",
       "    </tr>\n",
       "    <tr>\n",
       "      <th>13</th>\n",
       "      <td>property_type_Camper/RV</td>\n",
       "      <td>14.354585</td>\n",
       "      <td>14.354585</td>\n",
       "    </tr>\n",
       "    <tr>\n",
       "      <th>19</th>\n",
       "      <td>property_type_House</td>\n",
       "      <td>-13.887032</td>\n",
       "      <td>13.887032</td>\n",
       "    </tr>\n",
       "    <tr>\n",
       "      <th>14</th>\n",
       "      <td>property_type_Chalet</td>\n",
       "      <td>11.561077</td>\n",
       "      <td>11.561077</td>\n",
       "    </tr>\n",
       "    <tr>\n",
       "      <th>12</th>\n",
       "      <td>property_type_Cabin</td>\n",
       "      <td>-10.930670</td>\n",
       "      <td>10.930670</td>\n",
       "    </tr>\n",
       "    <tr>\n",
       "      <th>20</th>\n",
       "      <td>property_type_Loft</td>\n",
       "      <td>8.800867</td>\n",
       "      <td>8.800867</td>\n",
       "    </tr>\n",
       "    <tr>\n",
       "      <th>1</th>\n",
       "      <td>accommodates</td>\n",
       "      <td>8.074085</td>\n",
       "      <td>8.074085</td>\n",
       "    </tr>\n",
       "    <tr>\n",
       "      <th>23</th>\n",
       "      <td>property_type_Townhouse</td>\n",
       "      <td>-7.567396</td>\n",
       "      <td>7.567396</td>\n",
       "    </tr>\n",
       "    <tr>\n",
       "      <th>15</th>\n",
       "      <td>property_type_Condominium</td>\n",
       "      <td>3.618863</td>\n",
       "      <td>3.618863</td>\n",
       "    </tr>\n",
       "    <tr>\n",
       "      <th>11</th>\n",
       "      <td>property_type_Bungalow</td>\n",
       "      <td>2.761789</td>\n",
       "      <td>2.761789</td>\n",
       "    </tr>\n",
       "    <tr>\n",
       "      <th>6</th>\n",
       "      <td>amenities_count</td>\n",
       "      <td>0.771951</td>\n",
       "      <td>0.771951</td>\n",
       "    </tr>\n",
       "    <tr>\n",
       "      <th>5</th>\n",
       "      <td>review_scores_value</td>\n",
       "      <td>0.271661</td>\n",
       "      <td>0.271661</td>\n",
       "    </tr>\n",
       "    <tr>\n",
       "      <th>4</th>\n",
       "      <td>beds</td>\n",
       "      <td>-0.208683</td>\n",
       "      <td>0.208683</td>\n",
       "    </tr>\n",
       "    <tr>\n",
       "      <th>0</th>\n",
       "      <td>zipcode</td>\n",
       "      <td>-0.000528</td>\n",
       "      <td>0.000528</td>\n",
       "    </tr>\n",
       "    <tr>\n",
       "      <th>26</th>\n",
       "      <td>property_type_Yurt</td>\n",
       "      <td>0.000000</td>\n",
       "      <td>0.000000</td>\n",
       "    </tr>\n",
       "  </tbody>\n",
       "</table>\n",
       "</div>"
      ],
      "text/plain": [
       "                          est_int       coefs   abs_coefs\n",
       "25            property_type_Villa  160.049357  160.049357\n",
       "16             property_type_Dorm  -97.613705   97.613705\n",
       "10             property_type_Boat   84.528542   84.528542\n",
       "8           room_type_Shared room  -74.476788   74.476788\n",
       "7          room_type_Private room  -68.737470   68.737470\n",
       "17     property_type_Entire Floor  -63.951214   63.951214\n",
       "18       property_type_Guesthouse   56.681691   56.681691\n",
       "24        property_type_Treehouse   37.065507   37.065507\n",
       "3                        bedrooms   34.050519   34.050519\n",
       "2                       bathrooms   28.618914   28.618914\n",
       "22             property_type_Tent  -18.914358   18.914358\n",
       "21            property_type_Other   15.548284   15.548284\n",
       "9   property_type_Bed & Breakfast   15.531105   15.531105\n",
       "13        property_type_Camper/RV   14.354585   14.354585\n",
       "19            property_type_House  -13.887032   13.887032\n",
       "14           property_type_Chalet   11.561077   11.561077\n",
       "12            property_type_Cabin  -10.930670   10.930670\n",
       "20             property_type_Loft    8.800867    8.800867\n",
       "1                    accommodates    8.074085    8.074085\n",
       "23        property_type_Townhouse   -7.567396    7.567396\n",
       "15      property_type_Condominium    3.618863    3.618863\n",
       "11         property_type_Bungalow    2.761789    2.761789\n",
       "6                 amenities_count    0.771951    0.771951\n",
       "5             review_scores_value    0.271661    0.271661\n",
       "4                            beds   -0.208683    0.208683\n",
       "0                         zipcode   -0.000528    0.000528\n",
       "26             property_type_Yurt    0.000000    0.000000"
      ]
     },
     "execution_count": 22,
     "metadata": {},
     "output_type": "execute_result"
    }
   ],
   "source": [
    "#Use the function\n",
    "coef_df = mutil.coef_weights(lm_model_nohash.coef_, X_train)\n",
    "\n",
    "#A quick look at the top results\n",
    "coef_df.head(50)"
   ]
  },
  {
   "cell_type": "markdown",
   "metadata": {},
   "source": [
    "With one hot encoding, we have a better visibility on the `property_type` and its influence to price."
   ]
  },
  {
   "cell_type": "markdown",
   "metadata": {},
   "source": [
    "**Indentify best cutoff**"
   ]
  },
  {
   "cell_type": "code",
   "execution_count": 23,
   "metadata": {},
   "outputs": [
    {
     "data": {
      "image/png": "[encoded data removed]",
      "text/plain": [
       "<Figure size 432x288 with 1 Axes>"
      ]
     },
     "metadata": {
      "needs_background": "light"
     },
     "output_type": "display_data"
    }
   ],
   "source": [
    "cutoffs = [5000, 2000, 1500, 500, 100, 50, 20, 10]\n",
    "num_feats, best_cutoff, r2_scores_test, r2_scores_train, rmse_scores_test, rmse_scores_train, lm_model, X_train, X_test, y_train, y_test = mprice.find_optimal_lm_mod(X, y, cutoffs)"
   ]
  },
  {
   "cell_type": "code",
   "execution_count": 24,
   "metadata": {},
   "outputs": [
    {
     "name": "stdout",
     "output_type": "stream",
     "text": [
      "price prediction with no feature hashing: best cutoff for missing values: 50\n"
     ]
    }
   ],
   "source": [
    "print(f'price prediction with no feature hashing: best cutoff for missing values: {best_cutoff}')"
   ]
  },
  {
   "cell_type": "code",
   "execution_count": 25,
   "metadata": {},
   "outputs": [
    {
     "data": {
      "image/png": "[encoded data removed]",
      "text/plain": [
       "<Figure size 432x288 with 1 Axes>"
      ]
     },
     "metadata": {
      "needs_background": "light"
     },
     "output_type": "display_data"
    }
   ],
   "source": [
    "mprice.plot_scores(num_feats,rmse_scores_test,rmse_scores_train, ylabel='RMSE')"
   ]
  },
  {
   "cell_type": "code",
   "execution_count": 26,
   "metadata": {},
   "outputs": [
    {
     "data": {
      "text/plain": [
       "[7, 9, 9, 9, 12, 14, 16, 19]"
      ]
     },
     "execution_count": 26,
     "metadata": {},
     "output_type": "execute_result"
    }
   ],
   "source": [
    "num_feats"
   ]
  },
  {
   "cell_type": "code",
   "execution_count": null,
   "metadata": {},
   "outputs": [],
   "source": []
  }
 ],
 "metadata": {
  "kernelspec": {
   "display_name": "data-sci",
   "language": "python",
   "name": "data-sci"
  },
  "language_info": {
   "codemirror_mode": {
    "name": "ipython",
    "version": 3
   },
   "file_extension": ".py",
   "mimetype": "text/x-python",
   "name": "python",
   "nbconvert_exporter": "python",
   "pygments_lexer": "ipython3",
   "version": "3.9.4"
  },
  "toc": {
   "base_numbering": 1,
   "nav_menu": {
    "height": "275.2581481933594px",
    "width": "391.9972839355469px"
   },
   "number_sections": true,
   "sideBar": true,
   "skip_h1_title": false,
   "title_cell": "Table of Contents",
   "title_sidebar": "Contents",
   "toc_cell": false,
   "toc_position": {},
   "toc_section_display": true,
   "toc_window_display": false
  }
 },
 "nbformat": 4,
 "nbformat_minor": 2
}
